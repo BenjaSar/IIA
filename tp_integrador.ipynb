{
  "cells": [
    {
      "attachments": {},
      "cell_type": "markdown",
      "id": "07289bb0",
      "metadata": {},
      "source": [
        "# Trabajo práctico integrador\n",
        "\n",
        "**Nombre**: FS"
      ]
    },
    {
      "cell_type": "markdown",
      "id": "afa76473",
      "metadata": {},
      "source": [
        "## Primera Parte (Clase 1 y 2)"
      ]
    },
    {
      "cell_type": "code",
      "execution_count": 3,
      "id": "aaf94e0a",
      "metadata": {
        "id": "aaf94e0a"
      },
      "outputs": [],
      "source": [
        "import os\n",
        "import numpy as np\n",
        "import pandas as pd\n",
        "import matplotlib.pyplot as plt \n",
        "from sklearn.cluster import KMeans\n",
        "from sklearn.decomposition import PCA\n",
        "from sklearn.preprocessing import StandardScaler"
      ]
    },
    {
      "cell_type": "markdown",
      "id": "0ffe9554",
      "metadata": {},
      "source": [
        "### Primer ejercicio\n"
      ]
    },
    {
      "cell_type": "code",
      "execution_count": 4,
      "id": "c0d46963",
      "metadata": {},
      "outputs": [
        {
          "name": "stdout",
          "output_type": "stream",
          "text": [
            "[0.85571109 0.15104787 0.53656484 0.92154443 0.74323928 0.62505431\n",
            " 0.41260279 0.35201635 0.23812908 0.95500195]\n"
          ]
        },
        {
          "data": {
            "text/plain": [
              "0.9550019484387766"
            ]
          },
          "execution_count": 4,
          "metadata": {},
          "output_type": "execute_result"
        }
      ],
      "source": [
        "#Function to calculate norm of vector with p >= 1\n",
        "def vector_norm(vector_x,p):\n",
        "\n",
        "    x_p=0\n",
        "    for j in range(len(vector_x)):\n",
        "        x_p += pow(abs(vector_x[j]), p)\n",
        "        x_final = pow(x_p, 1/p)\n",
        "    return  x_final\n",
        "\n",
        "#Infinity norm\n",
        "def norm_vector(vector_x, type):\n",
        "    if type == \"infinity\":\n",
        "        return abs(np.max(vector_x))\n",
        "    elif type == \"zero\":    \n",
        "        return np.count_nonzero(vector_x)\n",
        "    raise ValueError (\"Argumento no permitido\") \n",
        "\n",
        "x_vector = np.random.random(10)\n",
        "print(x_vector)\n",
        "l = 5\n",
        "\n",
        "vector_norm(x_vector, l)\n",
        "#zero norm of vector\n",
        "type = \"zero\"\n",
        "norm_vector(x_vector, type )\n",
        "\n",
        "#Infinite norm of vector\n",
        "type = \"infinity\"\n",
        "norm_vector(x_vector, type)"
      ]
    },
    {
      "cell_type": "markdown",
      "id": "dd66d862",
      "metadata": {},
      "source": [
        "### Segundo Ejercicio"
      ]
    },
    {
      "cell_type": "code",
      "execution_count": 5,
      "id": "794dcd58",
      "metadata": {},
      "outputs": [],
      "source": [
        "truth = np.array([1,1,0,1,1,1,0,0,0,1])\n",
        "prediction = np.array([1,1,1,1,0,0,1,1,0,0])"
      ]
    },
    {
      "cell_type": "code",
      "execution_count": 6,
      "id": "20b4173b",
      "metadata": {},
      "outputs": [
        {
          "name": "stdout",
          "output_type": "stream",
          "text": [
            "La tasa de verdaderos positivos es 3\n"
          ]
        }
      ],
      "source": [
        "true_positive_rate = np.sum((truth)&(prediction))\n",
        "print(f'La tasa de verdaderos positivos es', true_positive_rate)"
      ]
    },
    {
      "cell_type": "code",
      "execution_count": 7,
      "id": "5ffbe422",
      "metadata": {},
      "outputs": [
        {
          "name": "stdout",
          "output_type": "stream",
          "text": [
            "La tasa de verdaderos negativos es 1\n"
          ]
        }
      ],
      "source": [
        "true_negative_rate = np.sum((truth == 0)&(prediction == 0))\n",
        "print(f'La tasa de verdaderos negativos es', true_negative_rate)"
      ]
    },
    {
      "cell_type": "code",
      "execution_count": 8,
      "id": "1db0af57",
      "metadata": {},
      "outputs": [
        {
          "name": "stdout",
          "output_type": "stream",
          "text": [
            "La tasa de falsos negativos es: 3\n"
          ]
        }
      ],
      "source": [
        "false_positive_rate = np.sum((truth==1)&(prediction==1))\n",
        "print(f'La tasa de falsos negativos es:', false_positive_rate)"
      ]
    },
    {
      "cell_type": "code",
      "execution_count": 9,
      "id": "5066d70b",
      "metadata": {},
      "outputs": [
        {
          "name": "stdout",
          "output_type": "stream",
          "text": [
            "La tasa de falsos negativos es: 3\n"
          ]
        }
      ],
      "source": [
        "false_negative_rate = np.sum((truth==1)&(prediction==0))\n",
        "print(f'La tasa de falsos negativos es:', false_negative_rate)"
      ]
    },
    {
      "cell_type": "code",
      "execution_count": 10,
      "id": "bb38350b",
      "metadata": {},
      "outputs": [
        {
          "name": "stdout",
          "output_type": "stream",
          "text": [
            "La precision calculada es: 0.5\n"
          ]
        }
      ],
      "source": [
        "#Calculo de la precisión\n",
        "precision = (true_positive_rate) / (true_positive_rate + false_positive_rate)\n",
        "print(f'La precision calculada es:', precision)"
      ]
    },
    {
      "cell_type": "code",
      "execution_count": 11,
      "id": "a7c17b92",
      "metadata": {},
      "outputs": [
        {
          "name": "stdout",
          "output_type": "stream",
          "text": [
            "El valor de recall calculado es: 0.5\n"
          ]
        }
      ],
      "source": [
        "#Calculo de recall\n",
        "recall =  (true_positive_rate) / (true_positive_rate + false_negative_rate)\n",
        "print(f'El valor de recall calculado es:', recall)"
      ]
    },
    {
      "cell_type": "code",
      "execution_count": 12,
      "id": "8184f360",
      "metadata": {},
      "outputs": [
        {
          "name": "stdout",
          "output_type": "stream",
          "text": [
            "El valor de la accuracy calculada es: 0.4\n"
          ]
        }
      ],
      "source": [
        "#Calculo de accuracy\n",
        "accuracy = (true_positive_rate + true_negative_rate) / (true_positive_rate + true_negative_rate + false_positive_rate + false_negative_rate)\n",
        "print(f'El valor de la accuracy calculada es:', accuracy)"
      ]
    },
    {
      "attachments": {},
      "cell_type": "markdown",
      "id": "598f7123",
      "metadata": {},
      "source": [
        "### Tercer y Cuarto Ejercicio\n",
        "\n",
        "Para este ejercicio vamos a considerar los siguientes datasets:\n",
        "\n",
        "* [HAR](https://archive.ics.uci.edu/ml/datasets/Human+Activity+Recognition+Using+Smartphones) (Ejercicio 3)\n",
        "* [MNIST](https://scikit-learn.org/stable/modules/generated/sklearn.datasets.load_digits.html) (Ejercicio 4)\n",
        "\n",
        "1. Aplicar PCA (validar que se cumplan las condiciones), ¿Cuántas componentes necesitamos para explicar el 80% de la varianza?\n",
        "2. Gráficar la variación acumulada para cada caso.\n",
        "3. Utilizando [KMeans](https://scikit-learn.org/stable/modules/generated/sklearn.cluster.KMeans.html). Agrupar el dataset transformado (ejercicio de PCA) y agrupar en clusters de $k=6$ (ej 3) y $k=10$ (ej 4). Luego en ambos casos probar con $k=2$.\n",
        "4. Graficar los resultados con los distintos k's usando las primeras dos componentes principales como ejes x,y.\n",
        "5. Explique. ¿Cuál fue la ganancia de usar PCA en conjunto con k-means?"
      ]
    },
    {
      "attachments": {},
      "cell_type": "markdown",
      "id": "76a6a9a8",
      "metadata": {},
      "source": [
        "<h3>Ejercicio 3 <h3>"
      ]
    },
    {
      "attachments": {},
      "cell_type": "markdown",
      "id": "2c34a90f",
      "metadata": {},
      "source": [
        "<h4>Load data<h4>"
      ]
    },
    {
      "cell_type": "code",
      "execution_count": 13,
      "id": "dc8d6187",
      "metadata": {},
      "outputs": [
        {
          "name": "stdout",
          "output_type": "stream",
          "text": [
            "/home/benjas/Documents/IA/IIA/tpEntrega\n"
          ]
        }
      ],
      "source": [
        "PATH_DATASET = \"./data/UCIHAR/train/\"\n",
        "print(os.path.abspath(\".\"))"
      ]
    },
    {
      "cell_type": "code",
      "execution_count": 14,
      "id": "ed1913ee",
      "metadata": {},
      "outputs": [],
      "source": [
        "X_train = np.loadtxt(os.path.join(PATH_DATASET, \"X_train.txt\"))\n",
        "y_train = np.loadtxt(os.path.join(PATH_DATASET, \"y_train.txt\")).astype(int)"
      ]
    },
    {
      "attachments": {},
      "cell_type": "markdown",
      "id": "ea387849",
      "metadata": {},
      "source": [
        "<h4>EDA<h4>"
      ]
    },
    {
      "cell_type": "code",
      "execution_count": 15,
      "id": "ba1aab24",
      "metadata": {},
      "outputs": [
        {
          "name": "stdout",
          "output_type": "stream",
          "text": [
            "Estructura features del dataset: (7352, 561)\n"
          ]
        },
        {
          "data": {
            "text/plain": [
              "array([[ 0.28858451, -0.02029417, -0.13290514, ..., -0.84124676,\n",
              "         0.17994061, -0.05862692],\n",
              "       [ 0.27841883, -0.01641057, -0.12352019, ..., -0.8447876 ,\n",
              "         0.18028889, -0.05431672],\n",
              "       [ 0.27965306, -0.01946716, -0.11346169, ..., -0.84893347,\n",
              "         0.18063731, -0.04911782],\n",
              "       ...,\n",
              "       [ 0.27338737, -0.01701062, -0.04502183, ..., -0.77913261,\n",
              "         0.24914484,  0.04081119],\n",
              "       [ 0.28965416, -0.01884304, -0.15828059, ..., -0.78518142,\n",
              "         0.24643223,  0.02533948],\n",
              "       [ 0.35150347, -0.01242312, -0.20386717, ..., -0.78326693,\n",
              "         0.24680852,  0.03669484]])"
            ]
          },
          "execution_count": 15,
          "metadata": {},
          "output_type": "execute_result"
        }
      ],
      "source": [
        "print(\"Estructura features del dataset: {}\".format(X_train.shape))\n",
        "X_train.view(dtype='float64')"
      ]
    },
    {
      "cell_type": "code",
      "execution_count": 16,
      "id": "03c2ea66",
      "metadata": {},
      "outputs": [
        {
          "name": "stdout",
          "output_type": "stream",
          "text": [
            "Estructura de las etiquetas: (7352,)\n"
          ]
        },
        {
          "data": {
            "text/plain": [
              "array([5, 5, 5, ..., 2, 2, 2])"
            ]
          },
          "execution_count": 16,
          "metadata": {},
          "output_type": "execute_result"
        }
      ],
      "source": [
        "print(\"Estructura de las etiquetas: {}\".format(y_train.shape))\n",
        "y_train.view(dtype='int64')"
      ]
    },
    {
      "cell_type": "code",
      "execution_count": 17,
      "id": "eda4f90a",
      "metadata": {},
      "outputs": [
        {
          "data": {
            "text/html": [
              "<div>\n",
              "<style scoped>\n",
              "    .dataframe tbody tr th:only-of-type {\n",
              "        vertical-align: middle;\n",
              "    }\n",
              "\n",
              "    .dataframe tbody tr th {\n",
              "        vertical-align: top;\n",
              "    }\n",
              "\n",
              "    .dataframe thead th {\n",
              "        text-align: right;\n",
              "    }\n",
              "</style>\n",
              "<table border=\"1\" class=\"dataframe\">\n",
              "  <thead>\n",
              "    <tr style=\"text-align: right;\">\n",
              "      <th></th>\n",
              "      <th>0</th>\n",
              "      <th>1</th>\n",
              "      <th>2</th>\n",
              "      <th>3</th>\n",
              "      <th>4</th>\n",
              "      <th>5</th>\n",
              "      <th>6</th>\n",
              "      <th>7</th>\n",
              "      <th>8</th>\n",
              "      <th>9</th>\n",
              "      <th>...</th>\n",
              "      <th>551</th>\n",
              "      <th>552</th>\n",
              "      <th>553</th>\n",
              "      <th>554</th>\n",
              "      <th>555</th>\n",
              "      <th>556</th>\n",
              "      <th>557</th>\n",
              "      <th>558</th>\n",
              "      <th>559</th>\n",
              "      <th>560</th>\n",
              "    </tr>\n",
              "  </thead>\n",
              "  <tbody>\n",
              "    <tr>\n",
              "      <th>0</th>\n",
              "      <td>0.288585</td>\n",
              "      <td>-0.020294</td>\n",
              "      <td>-0.132905</td>\n",
              "      <td>-0.995279</td>\n",
              "      <td>-0.983111</td>\n",
              "      <td>-0.913526</td>\n",
              "      <td>-0.995112</td>\n",
              "      <td>-0.983185</td>\n",
              "      <td>-0.923527</td>\n",
              "      <td>-0.934724</td>\n",
              "      <td>...</td>\n",
              "      <td>-0.074323</td>\n",
              "      <td>-0.298676</td>\n",
              "      <td>-0.710304</td>\n",
              "      <td>-0.112754</td>\n",
              "      <td>0.030400</td>\n",
              "      <td>-0.464761</td>\n",
              "      <td>-0.018446</td>\n",
              "      <td>-0.841247</td>\n",
              "      <td>0.179941</td>\n",
              "      <td>-0.058627</td>\n",
              "    </tr>\n",
              "    <tr>\n",
              "      <th>1</th>\n",
              "      <td>0.278419</td>\n",
              "      <td>-0.016411</td>\n",
              "      <td>-0.123520</td>\n",
              "      <td>-0.998245</td>\n",
              "      <td>-0.975300</td>\n",
              "      <td>-0.960322</td>\n",
              "      <td>-0.998807</td>\n",
              "      <td>-0.974914</td>\n",
              "      <td>-0.957686</td>\n",
              "      <td>-0.943068</td>\n",
              "      <td>...</td>\n",
              "      <td>0.158075</td>\n",
              "      <td>-0.595051</td>\n",
              "      <td>-0.861499</td>\n",
              "      <td>0.053477</td>\n",
              "      <td>-0.007435</td>\n",
              "      <td>-0.732626</td>\n",
              "      <td>0.703511</td>\n",
              "      <td>-0.844788</td>\n",
              "      <td>0.180289</td>\n",
              "      <td>-0.054317</td>\n",
              "    </tr>\n",
              "    <tr>\n",
              "      <th>2</th>\n",
              "      <td>0.279653</td>\n",
              "      <td>-0.019467</td>\n",
              "      <td>-0.113462</td>\n",
              "      <td>-0.995380</td>\n",
              "      <td>-0.967187</td>\n",
              "      <td>-0.978944</td>\n",
              "      <td>-0.996520</td>\n",
              "      <td>-0.963668</td>\n",
              "      <td>-0.977469</td>\n",
              "      <td>-0.938692</td>\n",
              "      <td>...</td>\n",
              "      <td>0.414503</td>\n",
              "      <td>-0.390748</td>\n",
              "      <td>-0.760104</td>\n",
              "      <td>-0.118559</td>\n",
              "      <td>0.177899</td>\n",
              "      <td>0.100699</td>\n",
              "      <td>0.808529</td>\n",
              "      <td>-0.848933</td>\n",
              "      <td>0.180637</td>\n",
              "      <td>-0.049118</td>\n",
              "    </tr>\n",
              "    <tr>\n",
              "      <th>3</th>\n",
              "      <td>0.279174</td>\n",
              "      <td>-0.026201</td>\n",
              "      <td>-0.123283</td>\n",
              "      <td>-0.996091</td>\n",
              "      <td>-0.983403</td>\n",
              "      <td>-0.990675</td>\n",
              "      <td>-0.997099</td>\n",
              "      <td>-0.982750</td>\n",
              "      <td>-0.989302</td>\n",
              "      <td>-0.938692</td>\n",
              "      <td>...</td>\n",
              "      <td>0.404573</td>\n",
              "      <td>-0.117290</td>\n",
              "      <td>-0.482845</td>\n",
              "      <td>-0.036788</td>\n",
              "      <td>-0.012892</td>\n",
              "      <td>0.640011</td>\n",
              "      <td>-0.485366</td>\n",
              "      <td>-0.848649</td>\n",
              "      <td>0.181935</td>\n",
              "      <td>-0.047663</td>\n",
              "    </tr>\n",
              "    <tr>\n",
              "      <th>4</th>\n",
              "      <td>0.276629</td>\n",
              "      <td>-0.016570</td>\n",
              "      <td>-0.115362</td>\n",
              "      <td>-0.998139</td>\n",
              "      <td>-0.980817</td>\n",
              "      <td>-0.990482</td>\n",
              "      <td>-0.998321</td>\n",
              "      <td>-0.979672</td>\n",
              "      <td>-0.990441</td>\n",
              "      <td>-0.942469</td>\n",
              "      <td>...</td>\n",
              "      <td>0.087753</td>\n",
              "      <td>-0.351471</td>\n",
              "      <td>-0.699205</td>\n",
              "      <td>0.123320</td>\n",
              "      <td>0.122542</td>\n",
              "      <td>0.693578</td>\n",
              "      <td>-0.615971</td>\n",
              "      <td>-0.847865</td>\n",
              "      <td>0.185151</td>\n",
              "      <td>-0.043892</td>\n",
              "    </tr>\n",
              "    <tr>\n",
              "      <th>...</th>\n",
              "      <td>...</td>\n",
              "      <td>...</td>\n",
              "      <td>...</td>\n",
              "      <td>...</td>\n",
              "      <td>...</td>\n",
              "      <td>...</td>\n",
              "      <td>...</td>\n",
              "      <td>...</td>\n",
              "      <td>...</td>\n",
              "      <td>...</td>\n",
              "      <td>...</td>\n",
              "      <td>...</td>\n",
              "      <td>...</td>\n",
              "      <td>...</td>\n",
              "      <td>...</td>\n",
              "      <td>...</td>\n",
              "      <td>...</td>\n",
              "      <td>...</td>\n",
              "      <td>...</td>\n",
              "      <td>...</td>\n",
              "      <td>...</td>\n",
              "    </tr>\n",
              "    <tr>\n",
              "      <th>7347</th>\n",
              "      <td>0.299665</td>\n",
              "      <td>-0.057193</td>\n",
              "      <td>-0.181233</td>\n",
              "      <td>-0.195387</td>\n",
              "      <td>0.039905</td>\n",
              "      <td>0.077078</td>\n",
              "      <td>-0.282301</td>\n",
              "      <td>0.043616</td>\n",
              "      <td>0.060410</td>\n",
              "      <td>0.210795</td>\n",
              "      <td>...</td>\n",
              "      <td>-0.070157</td>\n",
              "      <td>-0.588433</td>\n",
              "      <td>-0.880324</td>\n",
              "      <td>-0.190437</td>\n",
              "      <td>0.829718</td>\n",
              "      <td>0.206972</td>\n",
              "      <td>-0.425619</td>\n",
              "      <td>-0.791883</td>\n",
              "      <td>0.238604</td>\n",
              "      <td>0.049819</td>\n",
              "    </tr>\n",
              "    <tr>\n",
              "      <th>7348</th>\n",
              "      <td>0.273853</td>\n",
              "      <td>-0.007749</td>\n",
              "      <td>-0.147468</td>\n",
              "      <td>-0.235309</td>\n",
              "      <td>0.004816</td>\n",
              "      <td>0.059280</td>\n",
              "      <td>-0.322552</td>\n",
              "      <td>-0.029456</td>\n",
              "      <td>0.080585</td>\n",
              "      <td>0.117440</td>\n",
              "      <td>...</td>\n",
              "      <td>0.165259</td>\n",
              "      <td>-0.390738</td>\n",
              "      <td>-0.680744</td>\n",
              "      <td>0.064907</td>\n",
              "      <td>0.875679</td>\n",
              "      <td>-0.879033</td>\n",
              "      <td>0.400219</td>\n",
              "      <td>-0.771840</td>\n",
              "      <td>0.252676</td>\n",
              "      <td>0.050053</td>\n",
              "    </tr>\n",
              "    <tr>\n",
              "      <th>7349</th>\n",
              "      <td>0.273387</td>\n",
              "      <td>-0.017011</td>\n",
              "      <td>-0.045022</td>\n",
              "      <td>-0.218218</td>\n",
              "      <td>-0.103822</td>\n",
              "      <td>0.274533</td>\n",
              "      <td>-0.304515</td>\n",
              "      <td>-0.098913</td>\n",
              "      <td>0.332584</td>\n",
              "      <td>0.043999</td>\n",
              "      <td>...</td>\n",
              "      <td>0.195034</td>\n",
              "      <td>0.025145</td>\n",
              "      <td>-0.304029</td>\n",
              "      <td>0.052806</td>\n",
              "      <td>-0.266724</td>\n",
              "      <td>0.864404</td>\n",
              "      <td>0.701169</td>\n",
              "      <td>-0.779133</td>\n",
              "      <td>0.249145</td>\n",
              "      <td>0.040811</td>\n",
              "    </tr>\n",
              "    <tr>\n",
              "      <th>7350</th>\n",
              "      <td>0.289654</td>\n",
              "      <td>-0.018843</td>\n",
              "      <td>-0.158281</td>\n",
              "      <td>-0.219139</td>\n",
              "      <td>-0.111412</td>\n",
              "      <td>0.268893</td>\n",
              "      <td>-0.310487</td>\n",
              "      <td>-0.068200</td>\n",
              "      <td>0.319473</td>\n",
              "      <td>0.101702</td>\n",
              "      <td>...</td>\n",
              "      <td>0.013865</td>\n",
              "      <td>0.063907</td>\n",
              "      <td>-0.344314</td>\n",
              "      <td>-0.101360</td>\n",
              "      <td>0.700740</td>\n",
              "      <td>0.936674</td>\n",
              "      <td>-0.589479</td>\n",
              "      <td>-0.785181</td>\n",
              "      <td>0.246432</td>\n",
              "      <td>0.025339</td>\n",
              "    </tr>\n",
              "    <tr>\n",
              "      <th>7351</th>\n",
              "      <td>0.351503</td>\n",
              "      <td>-0.012423</td>\n",
              "      <td>-0.203867</td>\n",
              "      <td>-0.269270</td>\n",
              "      <td>-0.087212</td>\n",
              "      <td>0.177404</td>\n",
              "      <td>-0.377404</td>\n",
              "      <td>-0.038678</td>\n",
              "      <td>0.229430</td>\n",
              "      <td>0.269013</td>\n",
              "      <td>...</td>\n",
              "      <td>-0.058402</td>\n",
              "      <td>-0.387052</td>\n",
              "      <td>-0.740738</td>\n",
              "      <td>-0.280088</td>\n",
              "      <td>-0.007739</td>\n",
              "      <td>-0.056088</td>\n",
              "      <td>-0.616956</td>\n",
              "      <td>-0.783267</td>\n",
              "      <td>0.246809</td>\n",
              "      <td>0.036695</td>\n",
              "    </tr>\n",
              "  </tbody>\n",
              "</table>\n",
              "<p>7352 rows × 561 columns</p>\n",
              "</div>"
            ],
            "text/plain": [
              "           0         1         2         3         4         5         6    \\\n",
              "0     0.288585 -0.020294 -0.132905 -0.995279 -0.983111 -0.913526 -0.995112   \n",
              "1     0.278419 -0.016411 -0.123520 -0.998245 -0.975300 -0.960322 -0.998807   \n",
              "2     0.279653 -0.019467 -0.113462 -0.995380 -0.967187 -0.978944 -0.996520   \n",
              "3     0.279174 -0.026201 -0.123283 -0.996091 -0.983403 -0.990675 -0.997099   \n",
              "4     0.276629 -0.016570 -0.115362 -0.998139 -0.980817 -0.990482 -0.998321   \n",
              "...        ...       ...       ...       ...       ...       ...       ...   \n",
              "7347  0.299665 -0.057193 -0.181233 -0.195387  0.039905  0.077078 -0.282301   \n",
              "7348  0.273853 -0.007749 -0.147468 -0.235309  0.004816  0.059280 -0.322552   \n",
              "7349  0.273387 -0.017011 -0.045022 -0.218218 -0.103822  0.274533 -0.304515   \n",
              "7350  0.289654 -0.018843 -0.158281 -0.219139 -0.111412  0.268893 -0.310487   \n",
              "7351  0.351503 -0.012423 -0.203867 -0.269270 -0.087212  0.177404 -0.377404   \n",
              "\n",
              "           7         8         9    ...       551       552       553  \\\n",
              "0    -0.983185 -0.923527 -0.934724  ... -0.074323 -0.298676 -0.710304   \n",
              "1    -0.974914 -0.957686 -0.943068  ...  0.158075 -0.595051 -0.861499   \n",
              "2    -0.963668 -0.977469 -0.938692  ...  0.414503 -0.390748 -0.760104   \n",
              "3    -0.982750 -0.989302 -0.938692  ...  0.404573 -0.117290 -0.482845   \n",
              "4    -0.979672 -0.990441 -0.942469  ...  0.087753 -0.351471 -0.699205   \n",
              "...        ...       ...       ...  ...       ...       ...       ...   \n",
              "7347  0.043616  0.060410  0.210795  ... -0.070157 -0.588433 -0.880324   \n",
              "7348 -0.029456  0.080585  0.117440  ...  0.165259 -0.390738 -0.680744   \n",
              "7349 -0.098913  0.332584  0.043999  ...  0.195034  0.025145 -0.304029   \n",
              "7350 -0.068200  0.319473  0.101702  ...  0.013865  0.063907 -0.344314   \n",
              "7351 -0.038678  0.229430  0.269013  ... -0.058402 -0.387052 -0.740738   \n",
              "\n",
              "           554       555       556       557       558       559       560  \n",
              "0    -0.112754  0.030400 -0.464761 -0.018446 -0.841247  0.179941 -0.058627  \n",
              "1     0.053477 -0.007435 -0.732626  0.703511 -0.844788  0.180289 -0.054317  \n",
              "2    -0.118559  0.177899  0.100699  0.808529 -0.848933  0.180637 -0.049118  \n",
              "3    -0.036788 -0.012892  0.640011 -0.485366 -0.848649  0.181935 -0.047663  \n",
              "4     0.123320  0.122542  0.693578 -0.615971 -0.847865  0.185151 -0.043892  \n",
              "...        ...       ...       ...       ...       ...       ...       ...  \n",
              "7347 -0.190437  0.829718  0.206972 -0.425619 -0.791883  0.238604  0.049819  \n",
              "7348  0.064907  0.875679 -0.879033  0.400219 -0.771840  0.252676  0.050053  \n",
              "7349  0.052806 -0.266724  0.864404  0.701169 -0.779133  0.249145  0.040811  \n",
              "7350 -0.101360  0.700740  0.936674 -0.589479 -0.785181  0.246432  0.025339  \n",
              "7351 -0.280088 -0.007739 -0.056088 -0.616956 -0.783267  0.246809  0.036695  \n",
              "\n",
              "[7352 rows x 561 columns]"
            ]
          },
          "metadata": {},
          "output_type": "display_data"
        }
      ],
      "source": [
        "data = pd.DataFrame(data=X_train)\n",
        "display(data)"
      ]
    },
    {
      "cell_type": "code",
      "execution_count": 18,
      "id": "5ead443d",
      "metadata": {},
      "outputs": [
        {
          "data": {
            "text/html": [
              "<div>\n",
              "<style scoped>\n",
              "    .dataframe tbody tr th:only-of-type {\n",
              "        vertical-align: middle;\n",
              "    }\n",
              "\n",
              "    .dataframe tbody tr th {\n",
              "        vertical-align: top;\n",
              "    }\n",
              "\n",
              "    .dataframe thead th {\n",
              "        text-align: right;\n",
              "    }\n",
              "</style>\n",
              "<table border=\"1\" class=\"dataframe\">\n",
              "  <thead>\n",
              "    <tr style=\"text-align: right;\">\n",
              "      <th></th>\n",
              "      <th>0</th>\n",
              "      <th>1</th>\n",
              "      <th>2</th>\n",
              "      <th>3</th>\n",
              "      <th>4</th>\n",
              "      <th>5</th>\n",
              "      <th>6</th>\n",
              "      <th>7</th>\n",
              "      <th>8</th>\n",
              "      <th>9</th>\n",
              "      <th>...</th>\n",
              "      <th>551</th>\n",
              "      <th>552</th>\n",
              "      <th>553</th>\n",
              "      <th>554</th>\n",
              "      <th>555</th>\n",
              "      <th>556</th>\n",
              "      <th>557</th>\n",
              "      <th>558</th>\n",
              "      <th>559</th>\n",
              "      <th>560</th>\n",
              "    </tr>\n",
              "  </thead>\n",
              "  <tbody>\n",
              "    <tr>\n",
              "      <th>count</th>\n",
              "      <td>7352.000000</td>\n",
              "      <td>7352.000000</td>\n",
              "      <td>7352.000000</td>\n",
              "      <td>7352.000000</td>\n",
              "      <td>7352.000000</td>\n",
              "      <td>7352.000000</td>\n",
              "      <td>7352.000000</td>\n",
              "      <td>7352.000000</td>\n",
              "      <td>7352.000000</td>\n",
              "      <td>7352.000000</td>\n",
              "      <td>...</td>\n",
              "      <td>7352.000000</td>\n",
              "      <td>7352.000000</td>\n",
              "      <td>7352.000000</td>\n",
              "      <td>7352.000000</td>\n",
              "      <td>7352.000000</td>\n",
              "      <td>7352.000000</td>\n",
              "      <td>7352.000000</td>\n",
              "      <td>7352.000000</td>\n",
              "      <td>7352.000000</td>\n",
              "      <td>7352.000000</td>\n",
              "    </tr>\n",
              "    <tr>\n",
              "      <th>mean</th>\n",
              "      <td>0.274488</td>\n",
              "      <td>-0.017695</td>\n",
              "      <td>-0.109141</td>\n",
              "      <td>-0.605438</td>\n",
              "      <td>-0.510938</td>\n",
              "      <td>-0.604754</td>\n",
              "      <td>-0.630512</td>\n",
              "      <td>-0.526907</td>\n",
              "      <td>-0.606150</td>\n",
              "      <td>-0.468604</td>\n",
              "      <td>...</td>\n",
              "      <td>0.125293</td>\n",
              "      <td>-0.307009</td>\n",
              "      <td>-0.625294</td>\n",
              "      <td>0.008684</td>\n",
              "      <td>0.002186</td>\n",
              "      <td>0.008726</td>\n",
              "      <td>-0.005981</td>\n",
              "      <td>-0.489547</td>\n",
              "      <td>0.058593</td>\n",
              "      <td>-0.056515</td>\n",
              "    </tr>\n",
              "    <tr>\n",
              "      <th>std</th>\n",
              "      <td>0.070261</td>\n",
              "      <td>0.040811</td>\n",
              "      <td>0.056635</td>\n",
              "      <td>0.448734</td>\n",
              "      <td>0.502645</td>\n",
              "      <td>0.418687</td>\n",
              "      <td>0.424073</td>\n",
              "      <td>0.485942</td>\n",
              "      <td>0.414122</td>\n",
              "      <td>0.544547</td>\n",
              "      <td>...</td>\n",
              "      <td>0.250994</td>\n",
              "      <td>0.321011</td>\n",
              "      <td>0.307584</td>\n",
              "      <td>0.336787</td>\n",
              "      <td>0.448306</td>\n",
              "      <td>0.608303</td>\n",
              "      <td>0.477975</td>\n",
              "      <td>0.511807</td>\n",
              "      <td>0.297480</td>\n",
              "      <td>0.279122</td>\n",
              "    </tr>\n",
              "    <tr>\n",
              "      <th>min</th>\n",
              "      <td>-1.000000</td>\n",
              "      <td>-1.000000</td>\n",
              "      <td>-1.000000</td>\n",
              "      <td>-1.000000</td>\n",
              "      <td>-0.999873</td>\n",
              "      <td>-1.000000</td>\n",
              "      <td>-1.000000</td>\n",
              "      <td>-1.000000</td>\n",
              "      <td>-1.000000</td>\n",
              "      <td>-1.000000</td>\n",
              "      <td>...</td>\n",
              "      <td>-1.000000</td>\n",
              "      <td>-0.995357</td>\n",
              "      <td>-0.999765</td>\n",
              "      <td>-0.976580</td>\n",
              "      <td>-1.000000</td>\n",
              "      <td>-1.000000</td>\n",
              "      <td>-1.000000</td>\n",
              "      <td>-1.000000</td>\n",
              "      <td>-1.000000</td>\n",
              "      <td>-1.000000</td>\n",
              "    </tr>\n",
              "    <tr>\n",
              "      <th>25%</th>\n",
              "      <td>0.262975</td>\n",
              "      <td>-0.024863</td>\n",
              "      <td>-0.120993</td>\n",
              "      <td>-0.992754</td>\n",
              "      <td>-0.978129</td>\n",
              "      <td>-0.980233</td>\n",
              "      <td>-0.993591</td>\n",
              "      <td>-0.978162</td>\n",
              "      <td>-0.980251</td>\n",
              "      <td>-0.936219</td>\n",
              "      <td>...</td>\n",
              "      <td>-0.023692</td>\n",
              "      <td>-0.542602</td>\n",
              "      <td>-0.845573</td>\n",
              "      <td>-0.121527</td>\n",
              "      <td>-0.289549</td>\n",
              "      <td>-0.482273</td>\n",
              "      <td>-0.376341</td>\n",
              "      <td>-0.812065</td>\n",
              "      <td>-0.017885</td>\n",
              "      <td>-0.143414</td>\n",
              "    </tr>\n",
              "    <tr>\n",
              "      <th>50%</th>\n",
              "      <td>0.277193</td>\n",
              "      <td>-0.017219</td>\n",
              "      <td>-0.108676</td>\n",
              "      <td>-0.946196</td>\n",
              "      <td>-0.851897</td>\n",
              "      <td>-0.859365</td>\n",
              "      <td>-0.950709</td>\n",
              "      <td>-0.857328</td>\n",
              "      <td>-0.857143</td>\n",
              "      <td>-0.881637</td>\n",
              "      <td>...</td>\n",
              "      <td>0.134000</td>\n",
              "      <td>-0.343685</td>\n",
              "      <td>-0.711692</td>\n",
              "      <td>0.009509</td>\n",
              "      <td>0.008943</td>\n",
              "      <td>0.008735</td>\n",
              "      <td>-0.000368</td>\n",
              "      <td>-0.709417</td>\n",
              "      <td>0.182071</td>\n",
              "      <td>0.003181</td>\n",
              "    </tr>\n",
              "    <tr>\n",
              "      <th>75%</th>\n",
              "      <td>0.288461</td>\n",
              "      <td>-0.010783</td>\n",
              "      <td>-0.097794</td>\n",
              "      <td>-0.242813</td>\n",
              "      <td>-0.034231</td>\n",
              "      <td>-0.262415</td>\n",
              "      <td>-0.292680</td>\n",
              "      <td>-0.066701</td>\n",
              "      <td>-0.265671</td>\n",
              "      <td>-0.017129</td>\n",
              "      <td>...</td>\n",
              "      <td>0.289096</td>\n",
              "      <td>-0.126979</td>\n",
              "      <td>-0.503878</td>\n",
              "      <td>0.150865</td>\n",
              "      <td>0.292861</td>\n",
              "      <td>0.506187</td>\n",
              "      <td>0.359368</td>\n",
              "      <td>-0.509079</td>\n",
              "      <td>0.248353</td>\n",
              "      <td>0.107659</td>\n",
              "    </tr>\n",
              "    <tr>\n",
              "      <th>max</th>\n",
              "      <td>1.000000</td>\n",
              "      <td>1.000000</td>\n",
              "      <td>1.000000</td>\n",
              "      <td>1.000000</td>\n",
              "      <td>0.916238</td>\n",
              "      <td>1.000000</td>\n",
              "      <td>1.000000</td>\n",
              "      <td>0.967664</td>\n",
              "      <td>1.000000</td>\n",
              "      <td>1.000000</td>\n",
              "      <td>...</td>\n",
              "      <td>0.946700</td>\n",
              "      <td>0.989538</td>\n",
              "      <td>0.956845</td>\n",
              "      <td>1.000000</td>\n",
              "      <td>1.000000</td>\n",
              "      <td>0.998702</td>\n",
              "      <td>0.996078</td>\n",
              "      <td>1.000000</td>\n",
              "      <td>0.478157</td>\n",
              "      <td>1.000000</td>\n",
              "    </tr>\n",
              "  </tbody>\n",
              "</table>\n",
              "<p>8 rows × 561 columns</p>\n",
              "</div>"
            ],
            "text/plain": [
              "               0            1            2            3            4    \\\n",
              "count  7352.000000  7352.000000  7352.000000  7352.000000  7352.000000   \n",
              "mean      0.274488    -0.017695    -0.109141    -0.605438    -0.510938   \n",
              "std       0.070261     0.040811     0.056635     0.448734     0.502645   \n",
              "min      -1.000000    -1.000000    -1.000000    -1.000000    -0.999873   \n",
              "25%       0.262975    -0.024863    -0.120993    -0.992754    -0.978129   \n",
              "50%       0.277193    -0.017219    -0.108676    -0.946196    -0.851897   \n",
              "75%       0.288461    -0.010783    -0.097794    -0.242813    -0.034231   \n",
              "max       1.000000     1.000000     1.000000     1.000000     0.916238   \n",
              "\n",
              "               5            6            7            8            9    ...  \\\n",
              "count  7352.000000  7352.000000  7352.000000  7352.000000  7352.000000  ...   \n",
              "mean     -0.604754    -0.630512    -0.526907    -0.606150    -0.468604  ...   \n",
              "std       0.418687     0.424073     0.485942     0.414122     0.544547  ...   \n",
              "min      -1.000000    -1.000000    -1.000000    -1.000000    -1.000000  ...   \n",
              "25%      -0.980233    -0.993591    -0.978162    -0.980251    -0.936219  ...   \n",
              "50%      -0.859365    -0.950709    -0.857328    -0.857143    -0.881637  ...   \n",
              "75%      -0.262415    -0.292680    -0.066701    -0.265671    -0.017129  ...   \n",
              "max       1.000000     1.000000     0.967664     1.000000     1.000000  ...   \n",
              "\n",
              "               551          552          553          554          555  \\\n",
              "count  7352.000000  7352.000000  7352.000000  7352.000000  7352.000000   \n",
              "mean      0.125293    -0.307009    -0.625294     0.008684     0.002186   \n",
              "std       0.250994     0.321011     0.307584     0.336787     0.448306   \n",
              "min      -1.000000    -0.995357    -0.999765    -0.976580    -1.000000   \n",
              "25%      -0.023692    -0.542602    -0.845573    -0.121527    -0.289549   \n",
              "50%       0.134000    -0.343685    -0.711692     0.009509     0.008943   \n",
              "75%       0.289096    -0.126979    -0.503878     0.150865     0.292861   \n",
              "max       0.946700     0.989538     0.956845     1.000000     1.000000   \n",
              "\n",
              "               556          557          558          559          560  \n",
              "count  7352.000000  7352.000000  7352.000000  7352.000000  7352.000000  \n",
              "mean      0.008726    -0.005981    -0.489547     0.058593    -0.056515  \n",
              "std       0.608303     0.477975     0.511807     0.297480     0.279122  \n",
              "min      -1.000000    -1.000000    -1.000000    -1.000000    -1.000000  \n",
              "25%      -0.482273    -0.376341    -0.812065    -0.017885    -0.143414  \n",
              "50%       0.008735    -0.000368    -0.709417     0.182071     0.003181  \n",
              "75%       0.506187     0.359368    -0.509079     0.248353     0.107659  \n",
              "max       0.998702     0.996078     1.000000     0.478157     1.000000  \n",
              "\n",
              "[8 rows x 561 columns]"
            ]
          },
          "execution_count": 18,
          "metadata": {},
          "output_type": "execute_result"
        }
      ],
      "source": [
        "#Summaring data\n",
        "data.describe()"
      ]
    },
    {
      "cell_type": "code",
      "execution_count": 19,
      "id": "0dda2288",
      "metadata": {},
      "outputs": [
        {
          "data": {
            "text/plain": [
              "0"
            ]
          },
          "execution_count": 19,
          "metadata": {},
          "output_type": "execute_result"
        }
      ],
      "source": [
        "#Check for NaN  under an entire Dataframe\n",
        "data_NaN =data.isnull().sum().sum()\n",
        "data_NaN"
      ]
    },
    {
      "cell_type": "code",
      "execution_count": 20,
      "id": "82fc3603",
      "metadata": {},
      "outputs": [
        {
          "data": {
            "text/plain": [
              "array([1, 2, 3, 4, 5, 6])"
            ]
          },
          "execution_count": 20,
          "metadata": {},
          "output_type": "execute_result"
        }
      ],
      "source": [
        "# Number of unique class\n",
        "clases = np.unique(y_train)\n",
        "clases"
      ]
    },
    {
      "attachments": {},
      "cell_type": "markdown",
      "id": "253c20b4",
      "metadata": {},
      "source": [
        "<h4>Scaling data<h4>"
      ]
    },
    {
      "cell_type": "code",
      "execution_count": 21,
      "id": "985cad20",
      "metadata": {},
      "outputs": [],
      "source": [
        "# Standarization\n",
        "scaler = StandardScaler()\n",
        "X_scaled = scaler.fit_transform(X_train)"
      ]
    },
    {
      "attachments": {},
      "cell_type": "markdown",
      "id": "970c763a",
      "metadata": {},
      "source": [
        "<h3>PCA Aplication<h3>"
      ]
    },
    {
      "cell_type": "code",
      "execution_count": 22,
      "id": "a50cc2f6",
      "metadata": {},
      "outputs": [],
      "source": [
        "RANDOM_STATE=17\n",
        "pca = PCA(n_components=0.8, random_state=RANDOM_STATE).fit(X_scaled)\n",
        "X_pca = pca.transform(X_scaled)"
      ]
    },
    {
      "cell_type": "code",
      "execution_count": 23,
      "id": "a8bb5eca",
      "metadata": {},
      "outputs": [
        {
          "name": "stdout",
          "output_type": "stream",
          "text": [
            "----------------------------------------------------\n",
            "Percentage explained variance for each component\n",
            "----------------------------------------------------\n",
            "[0.50781172 0.0658068  0.02806437 0.02503953 0.01888285 0.01724006\n",
            " 0.01371011 0.01199078 0.0099586  0.00965087 0.00860052 0.00800281\n",
            " 0.00763996 0.00645329 0.00632324 0.00599722 0.0058675  0.00575407\n",
            " 0.00567921 0.00527296 0.00500363 0.00488408 0.00478206 0.00468563\n",
            " 0.00449289 0.00421027]\n"
          ]
        },
        {
          "data": {
            "image/png": "[encoded data removed]",
            "text/plain": [
              "<Figure size 1300x300 with 1 Axes>"
            ]
          },
          "metadata": {},
          "output_type": "display_data"
        }
      ],
      "source": [
        "#Based in https://www.cienciadedatos.net/documentos/py19-pca-python.html\n",
        "# Percentage explained variance for each component\n",
        "# ==============================================================================\n",
        "print('----------------------------------------------------')\n",
        "print('Percentage explained variance for each component')\n",
        "print('----------------------------------------------------')\n",
        "print(pca.explained_variance_ratio_)\n",
        "\n",
        "fig, ax = plt.subplots(nrows=1, ncols=1, figsize=(13, 3))\n",
        "ax.bar(\n",
        "    x      = np.arange(pca.n_components_) + 1,\n",
        "    height = pca.explained_variance_ratio_\n",
        ")\n",
        "\n",
        "for x, y in zip(np.arange(len(data.columns)) + 1, pca.explained_variance_ratio_):\n",
        "    label = round(y, 2)\n",
        "    ax.annotate(\n",
        "        label,\n",
        "        (x,y),\n",
        "        textcoords=\"offset points\",\n",
        "        xytext=(0,9),\n",
        "        ha='center'\n",
        "    )\n",
        "\n",
        "ax.set_xticks(np.arange(pca.n_components_) + 1)\n",
        "ax.set_ylim(0, 1.1)\n",
        "ax.set_title('Percentage explained variance for each component')\n",
        "ax.set_xlabel('Main component')\n",
        "ax.set_ylabel('Per. explained variance');"
      ]
    },
    {
      "cell_type": "code",
      "execution_count": 26,
      "id": "c6856f67",
      "metadata": {},
      "outputs": [],
      "source": [
        "exp_var_pca, noise_var = pca.explained_variance_ratio_, pca.noise_variance_"
      ]
    },
    {
      "cell_type": "code",
      "execution_count": 31,
      "id": "936d54ac",
      "metadata": {},
      "outputs": [],
      "source": [
        "cum_sum_values = np.cumsum(exp_var_pca)"
      ]
    },
    {
      "cell_type": "code",
      "execution_count": 33,
      "id": "afcbd90a",
      "metadata": {},
      "outputs": [
        {
          "data": {
            "image/png": "[encoded data removed]",
            "text/plain": [
              "<Figure size 640x480 with 1 Axes>"
            ]
          },
          "metadata": {},
          "output_type": "display_data"
        }
      ],
      "source": [
        "#Create the visualization plot\n",
        "#Based in https://vitalflux.com/pca-explained-variance-concept-python-example/\n",
        "plt.step(range(0,len(cum_sum_values)), cum_sum_values, where='mid',label='Cumulative explained variance')\n",
        "plt.xlabel('Principal components')\n",
        "plt.legend(loc='best')\n",
        "plt.tight_layout()\n",
        "plt.show()"
      ]
    },
    {
      "cell_type": "code",
      "execution_count": null,
      "id": "52a185e3",
      "metadata": {},
      "outputs": [
        {
          "data": {
            "text/plain": [
              "26"
            ]
          },
          "execution_count": 110,
          "metadata": {},
          "output_type": "execute_result"
        }
      ],
      "source": [
        "# Cantidad de componentes necesarios\n",
        "X_pca.shape[1]"
      ]
    },
    {
      "cell_type": "code",
      "execution_count": null,
      "id": "2673d068",
      "metadata": {},
      "outputs": [
        {
          "name": "stderr",
          "output_type": "stream",
          "text": [
            "/tmp/ipykernel_133106/731638530.py:4: MatplotlibDeprecationWarning: The get_cmap function was deprecated in Matplotlib 3.7 and will be removed two minor releases later. Use ``matplotlib.colormaps[name]`` or ``matplotlib.colormaps.get_cmap(obj)`` instead.\n",
            "  plt.scatter(X_pca[:, 0], X_pca[:, 1], c = y_train, edgecolor='none', alpha=0.7, s=40, cmap=plt.cm.get_cmap('nipy_spectral', 6))\n"
          ]
        },
        {
          "data": {
            "image/png": "[encoded data removed]",
            "text/plain": [
              "<Figure size 1200x1000 with 2 Axes>"
            ]
          },
          "metadata": {},
          "output_type": "display_data"
        }
      ],
      "source": [
        "# Showing the two main components\n",
        "plt.figure(figsize=(12,10))\n",
        "\n",
        "plt.scatter(X_pca[:, 0], X_pca[:, 1], c = y_train, edgecolor='none', alpha=0.7, s=40, cmap=plt.cm.get_cmap('nipy_spectral', 6))\n",
        "plt.colorbar()\n",
        "\n",
        "plt.title('HAR - PCA projection 2D');"
      ]
    },
    {
      "attachments": {},
      "cell_type": "markdown",
      "id": "2a164723",
      "metadata": {},
      "source": [
        "<h4>K-means<h4>"
      ]
    },
    {
      "cell_type": "code",
      "execution_count": 35,
      "id": "9da54758",
      "metadata": {},
      "outputs": [],
      "source": [
        "# Cluster numbers = 6\n",
        "n_clases = 6\n",
        "kmeans = KMeans(n_clusters=n_clases, n_init=100, random_state=RANDOM_STATE)\n",
        "kmeans.fit(X_pca)\n",
        "cluster_labels = kmeans.labels_"
      ]
    },
    {
      "cell_type": "code",
      "execution_count": 37,
      "id": "eec32ab1",
      "metadata": {},
      "outputs": [],
      "source": [
        "# Cluster numbers = 2\n",
        "n_clases = 2\n",
        "kmeans2 = KMeans(n_clusters=n_clases, n_init=100, random_state=RANDOM_STATE)\n",
        "kmeans2.fit(X_pca)\n",
        "cluster_labels_2 = kmeans.labels_"
      ]
    },
    {
      "attachments": {},
      "cell_type": "markdown",
      "id": "23b57aae",
      "metadata": {},
      "source": [
        "<h3> Ejercicio 4 <h3>"
      ]
    },
    {
      "attachments": {},
      "cell_type": "markdown",
      "id": "eec57d63",
      "metadata": {},
      "source": [
        "<h4>Load data <h4>"
      ]
    },
    {
      "cell_type": "code",
      "execution_count": 54,
      "id": "7e397966",
      "metadata": {},
      "outputs": [],
      "source": [
        "from sklearn.datasets import load_digits\n",
        "from sklearn.model_selection import train_test_split\n",
        "\n",
        "\n",
        "n_clases = 10\n",
        "digits = load_digits(n_class = n_clases)\n",
        "X = digits.data\n",
        "y = digits.target"
      ]
    },
    {
      "cell_type": "code",
      "execution_count": 55,
      "id": "67837a63",
      "metadata": {},
      "outputs": [],
      "source": [
        "X_train, X_test, y_train, y_test = train_test_split(X, y, test_size=0.3, random_state=42)"
      ]
    },
    {
      "cell_type": "code",
      "execution_count": 57,
      "id": "1d72a781",
      "metadata": {},
      "outputs": [
        {
          "data": {
            "text/plain": [
              "array([0, 1, 2, 3, 4, 5, 6, 7, 8, 9])"
            ]
          },
          "execution_count": 57,
          "metadata": {},
          "output_type": "execute_result"
        }
      ],
      "source": [
        "# Number of unique class\n",
        "clases = np.unique(y_train)\n",
        "clases"
      ]
    },
    {
      "cell_type": "markdown",
      "id": "7c7574fd",
      "metadata": {},
      "source": [
        "## Segunda Parte (Clase 3 y 4)"
      ]
    },
    {
      "cell_type": "code",
      "execution_count": null,
      "id": "aaf94e0a",
      "metadata": {
        "id": "aaf94e0a"
      },
      "outputs": [],
      "source": [
        "import matplotlib.pyplot as plt\n",
        "import seaborn as sns\n",
        "\n",
        "# Entrenamiento de modelos de prueba\n",
        "from sklearn.linear_model import LinearRegression\n",
        "\n",
        "# Evaluación de modelos de prueba\n",
        "from sklearn.metrics import mean_squared_error\n",
        "\n",
        "# Crear datasets\n",
        "from sklearn.datasets import make_regression"
      ]
    },
    {
      "cell_type": "code",
      "execution_count": null,
      "id": "65843123",
      "metadata": {
        "colab": {
          "base_uri": "https://localhost:8080/"
        },
        "id": "65843123",
        "outputId": "6589754e-2630-4c3d-cd45-b5f10ad8dc49"
      },
      "outputs": [
        {
          "data": {
            "text/plain": [
              "(1000, 2)"
            ]
          },
          "execution_count": 22,
          "metadata": {},
          "output_type": "execute_result"
        }
      ],
      "source": [
        "# Creamos un dataset de prueba\n",
        "X, y = make_regression(n_samples = 1000,\n",
        "                       n_features = 1,\n",
        "                       noise = 2,\n",
        "                       n_informative = 1,\n",
        "                       random_state = 42)\n",
        "\n",
        "new_data = np.append(X,y.reshape(-1,1),axis=1)\n",
        "new_data.shape"
      ]
    },
    {
      "cell_type": "code",
      "execution_count": null,
      "id": "a52eSwfzCslx",
      "metadata": {
        "colab": {
          "base_uri": "https://localhost:8080/",
          "height": 206
        },
        "id": "a52eSwfzCslx",
        "outputId": "51d2ef98-ff3b-4182-966e-a03b1a14ba1a"
      },
      "outputs": [
        {
          "data": {
            "text/html": [
              "<div>\n",
              "<style scoped>\n",
              "    .dataframe tbody tr th:only-of-type {\n",
              "        vertical-align: middle;\n",
              "    }\n",
              "\n",
              "    .dataframe tbody tr th {\n",
              "        vertical-align: top;\n",
              "    }\n",
              "\n",
              "    .dataframe thead th {\n",
              "        text-align: right;\n",
              "    }\n",
              "</style>\n",
              "<table border=\"1\" class=\"dataframe\">\n",
              "  <thead>\n",
              "    <tr style=\"text-align: right;\">\n",
              "      <th></th>\n",
              "      <th>feature_1</th>\n",
              "      <th>target</th>\n",
              "    </tr>\n",
              "  </thead>\n",
              "  <tbody>\n",
              "    <tr>\n",
              "      <th>0</th>\n",
              "      <td>-1.758739</td>\n",
              "      <td>-30.118736</td>\n",
              "    </tr>\n",
              "    <tr>\n",
              "      <th>1</th>\n",
              "      <td>1.031845</td>\n",
              "      <td>14.526197</td>\n",
              "    </tr>\n",
              "    <tr>\n",
              "      <th>2</th>\n",
              "      <td>-0.487606</td>\n",
              "      <td>-10.119305</td>\n",
              "    </tr>\n",
              "    <tr>\n",
              "      <th>3</th>\n",
              "      <td>0.186454</td>\n",
              "      <td>1.700188</td>\n",
              "    </tr>\n",
              "    <tr>\n",
              "      <th>4</th>\n",
              "      <td>0.725767</td>\n",
              "      <td>12.345314</td>\n",
              "    </tr>\n",
              "  </tbody>\n",
              "</table>\n",
              "</div>"
            ],
            "text/plain": [
              "   feature_1     target\n",
              "0  -1.758739 -30.118736\n",
              "1   1.031845  14.526197\n",
              "2  -0.487606 -10.119305\n",
              "3   0.186454   1.700188\n",
              "4   0.725767  12.345314"
            ]
          },
          "execution_count": 23,
          "metadata": {},
          "output_type": "execute_result"
        }
      ],
      "source": [
        "import pandas as pd\n",
        "df = pd.DataFrame(new_data)\n",
        "\n",
        "new_col = []\n",
        "i = 0\n",
        "for col in df.columns:\n",
        "    if i ==  len(df.columns) - 1:\n",
        "        new_col.append(\"target\")\n",
        "    else :\n",
        "        new_col.append(\"feature_\" + str(i+1))\n",
        "        \n",
        "    i += 1\n",
        "    \n",
        "df.columns = new_col\n",
        "\n",
        "df.head()"
      ]
    },
    {
      "cell_type": "code",
      "execution_count": null,
      "id": "CBb_QmSZCPFZ",
      "metadata": {
        "colab": {
          "base_uri": "https://localhost:8080/",
          "height": 374
        },
        "id": "CBb_QmSZCPFZ",
        "outputId": "a7c8b051-581d-4267-8bad-5db770be6740"
      },
      "outputs": [
        {
          "data": {
            "image/png": "[encoded data removed]",
            "text/plain": [
              "<Figure size 2200x600 with 2 Axes>"
            ]
          },
          "metadata": {},
          "output_type": "display_data"
        }
      ],
      "source": [
        "fig,axes = plt.subplots(2,figsize=(22,6))\n",
        "axes[0].scatter(X,y)\n",
        "sns.histplot(X, ax=axes[1]);"
      ]
    },
    {
      "cell_type": "markdown",
      "id": "zTvu6e3KhEKG",
      "metadata": {
        "id": "zTvu6e3KhEKG"
      },
      "source": [
        "### Funciones auxiliares para generar datos anómalos"
      ]
    },
    {
      "cell_type": "code",
      "execution_count": null,
      "id": "_LqDjS8chDkY",
      "metadata": {
        "id": "_LqDjS8chDkY"
      },
      "outputs": [],
      "source": [
        "def generate_outliers(df: pd.DataFrame,\n",
        "                     cols: list = None,\n",
        "                     extreme_outlier: bool = False,\n",
        "                     two_tailed: bool = False,\n",
        "                     percentage: float = 0.02) -> pd.DataFrame:\n",
        "  \"\"\"Con esta función vamos a poder generar outliers en ciertas columnas de nuestro\n",
        "  dataset. Si le damos True a _extreme_outlier_ va a generar outliers con mucho\n",
        "  peso en la regresión (puede ser bilateral o unilateral segun _two_tailed_)\n",
        "  \"\"\"  \n",
        "  seeds = np.random.randint(100, size = len(df))\n",
        "  \n",
        "  nsamples = np.math.floor(len(df) * percentage)\n",
        "  idx_to_change = df.sample(n = nsamples).index\n",
        "\n",
        "  cols = df.columns.tolist() if cols is None else cols\n",
        "\n",
        "  result = df.copy(deep = True)\n",
        "  \n",
        "  for i,col_name in enumerate(cols):\n",
        "    np.random.seed(seeds[i])\n",
        "\n",
        "    iqr = result[col_name].quantile(0.75) - result[col_name].quantile(0.25)\n",
        "\n",
        "    lb = result[col_name].quantile(0.25) - 1 * iqr\n",
        "    ub = result[col_name].quantile(0.75) + 1 * iqr\n",
        "\n",
        "    if two_tailed:\n",
        "      outs = result[col_name].loc[(result[col_name] < lb) | (result[col_name] > ub)]\n",
        "    else:\n",
        "      outs = result[col_name].loc[(result[col_name] > ub)]\n",
        "    \n",
        "    out_size = len(outs)\n",
        "    if out_size < nsamples:\n",
        "      nsamples = out_size\n",
        "\n",
        "    idx_to_change = outs.sample(nsamples, replace = False).index\n",
        "    \n",
        "    if extreme_outlier:\n",
        "      outlier_sign = [1 if np.random.random() < 0.9 else -1 for _ in range(nsamples)]\n",
        "      \n",
        "      result[col_name].loc[idx_to_change] = np.multiply(outlier_sign,\n",
        "                                                        np.random.uniform(low = result[col_name].mean(),\n",
        "                                                                          high = result[col_name].max()*5,\n",
        "                                                                          size = nsamples)\n",
        "                                                        )\n",
        "      result['target'].loc[idx_to_change] = np.multiply(outlier_sign,\n",
        "                                                        np.random.uniform(low = result['target'].mean(),\n",
        "                                                                          high = result['target'].max()*2,\n",
        "                                                                          size = nsamples)\n",
        "                                                        )\n",
        "    else:\n",
        "      samples = result[col_name].loc[idx_to_change].values\n",
        "      np.random.shuffle(samples)\n",
        "      result[col_name].loc[idx_to_change] = samples\n",
        "  \n",
        "  return result"
      ]
    },
    {
      "cell_type": "code",
      "execution_count": null,
      "id": "mmnwCbF1gugP",
      "metadata": {
        "colab": {
          "base_uri": "https://localhost:8080/"
        },
        "id": "mmnwCbF1gugP",
        "outputId": "a27810fe-1f0f-40ef-99ac-dace0fc0eb92"
      },
      "outputs": [],
      "source": [
        "df_outlier = generate_outliers(df,['feature_1'], percentage = 0.05, extreme_outlier = True, two_tailed= True)"
      ]
    },
    {
      "cell_type": "code",
      "execution_count": null,
      "id": "7b520928",
      "metadata": {},
      "outputs": [
        {
          "data": {
            "text/plain": [
              "<seaborn.axisgrid.FacetGrid at 0x7f2968555f90>"
            ]
          },
          "execution_count": 27,
          "metadata": {},
          "output_type": "execute_result"
        },
        {
          "data": {
            "image/png": "[encoded data removed]",
            "text/plain": [
              "<Figure size 580x500 with 1 Axes>"
            ]
          },
          "metadata": {},
          "output_type": "display_data"
        }
      ],
      "source": [
        "sns.lmplot(data = pd.concat([df.assign(dataset = 'set1'),\n",
        "                                 df_outlier.assign(dataset = 'set2')]),\n",
        "                x = 'feature_1',\n",
        "                y = 'target',\n",
        "                hue = 'dataset')"
      ]
    },
    {
      "cell_type": "markdown",
      "id": "N_XkGtvw7J-i",
      "metadata": {
        "id": "N_XkGtvw7J-i"
      },
      "source": [
        "### Quinto ejercicio\n",
        "\n",
        "Crear una función que separe los datos en train-validation-test 70-20-10\n",
        "\n",
        "\n",
        "Hints: \n",
        "\n",
        "* Usar Indexing y slicing\n",
        "* Usar np.random.[...]"
      ]
    },
    {
      "cell_type": "code",
      "execution_count": null,
      "id": "4911ceb6",
      "metadata": {},
      "outputs": [
        {
          "data": {
            "text/plain": [
              "(25, 5)"
            ]
          },
          "execution_count": 28,
          "metadata": {},
          "output_type": "execute_result"
        }
      ],
      "source": [
        "import pandas as pd\n",
        "#Generacion de datasets\n",
        "df_generado = pd.DataFrame(np.random.randint(0,25, size=(25,5)), columns=['Feature1', 'Feature2', 'Feature3', 'Feature4', 'Target'])\n",
        "df_generado\n",
        "df_generado.shape"
      ]
    },
    {
      "cell_type": "code",
      "execution_count": null,
      "id": "yIOYdDHz7Jkp",
      "metadata": {
        "id": "yIOYdDHz7Jkp"
      },
      "outputs": [],
      "source": [
        "def split(df: pd.DataFrame):\n",
        "    df_shuffled = df.sample(frac=1)\n",
        "    #sp => Split factor\n",
        "    sf_train = 0.7\n",
        "    sf_test = 0.9\n",
        "\n",
        "    X = df_shuffled[0:len(df_shuffled), :df_shuffled.shape[1]-1]\n",
        "    Y = df_shuffled[0:len(df_shuffled), df_shuffled.shape[1]-1:]\n",
        "    #Divide features and target\n",
        "    X_train, X_test, X_val = X[0:int(sf_train*len(X))], X[int(sf_train*len(X)):int(sf_test*len(X))], X[int(sf_test*len(X)):]  \n",
        "    Y_train, Y_test, Y_val = Y[0:int(sf_train*len(Y))], Y[int(sf_train*len(Y)):int(sf_test*len(Y))], Y[int(sf_test*len(Y)):]  \n",
        "\n",
        "    return X_train, X_val, X_test, Y_train, Y_val, Y_test"
      ]
    },
    {
      "attachments": {},
      "cell_type": "markdown",
      "id": "b77ad81a",
      "metadata": {
        "id": "b77ad81a"
      },
      "source": [
        "### Sexto ejercicio\n",
        "\n",
        "Utilizando la funcion `generate_outliers` generar puntos extremos dentro de los datos que generamos anteriormente. En este ejercicio dejar setteado `extreme_outliers` como `False` y observe como variando el porcentaje de los mismos la regresión comienza a afectarse.\n",
        "\n",
        "Pasos:\n",
        "\n",
        "\n",
        "1. Generar datasets:\n",
        "    - Uno normal con poco `noise` y pocos outliers\n",
        "    - Uno con mucho `noise` y pocos outliers\n",
        "    - Uno con poco `noise` y muchos outliers\n",
        "    - Uno con mucho `noise` y muchos outliers\n",
        "2. Probar los distintos regresores a ver como se comportan frente a estos datasets anómalos.\n",
        "3. Comparar y analizar resultados."
      ]
    },
    {
      "cell_type": "code",
      "execution_count": null,
      "id": "25e7924e",
      "metadata": {},
      "outputs": [
        {
          "data": {
            "text/html": [
              "<div>\n",
              "<style scoped>\n",
              "    .dataframe tbody tr th:only-of-type {\n",
              "        vertical-align: middle;\n",
              "    }\n",
              "\n",
              "    .dataframe tbody tr th {\n",
              "        vertical-align: top;\n",
              "    }\n",
              "\n",
              "    .dataframe thead th {\n",
              "        text-align: right;\n",
              "    }\n",
              "</style>\n",
              "<table border=\"1\" class=\"dataframe\">\n",
              "  <thead>\n",
              "    <tr style=\"text-align: right;\">\n",
              "      <th></th>\n",
              "      <th>feature_1</th>\n",
              "      <th>feature_2</th>\n",
              "      <th>feature_3</th>\n",
              "      <th>feature_4</th>\n",
              "      <th>feature_5</th>\n",
              "      <th>feature_6</th>\n",
              "      <th>feature_7</th>\n",
              "      <th>feature_8</th>\n",
              "      <th>feature_9</th>\n",
              "      <th>feature_10</th>\n",
              "      <th>target</th>\n",
              "    </tr>\n",
              "  </thead>\n",
              "  <tbody>\n",
              "    <tr>\n",
              "      <th>0</th>\n",
              "      <td>-0.926930</td>\n",
              "      <td>-1.430141</td>\n",
              "      <td>1.632411</td>\n",
              "      <td>-3.241267</td>\n",
              "      <td>-1.247783</td>\n",
              "      <td>-1.024388</td>\n",
              "      <td>0.130741</td>\n",
              "      <td>-0.059525</td>\n",
              "      <td>-0.252568</td>\n",
              "      <td>-0.440044</td>\n",
              "      <td>-273.778317</td>\n",
              "    </tr>\n",
              "    <tr>\n",
              "      <th>1</th>\n",
              "      <td>0.202923</td>\n",
              "      <td>0.334457</td>\n",
              "      <td>0.285865</td>\n",
              "      <td>1.547505</td>\n",
              "      <td>-0.387702</td>\n",
              "      <td>1.795878</td>\n",
              "      <td>2.010205</td>\n",
              "      <td>-1.515744</td>\n",
              "      <td>-0.612789</td>\n",
              "      <td>0.658544</td>\n",
              "      <td>207.175658</td>\n",
              "    </tr>\n",
              "    <tr>\n",
              "      <th>2</th>\n",
              "      <td>-0.241236</td>\n",
              "      <td>0.456753</td>\n",
              "      <td>0.342725</td>\n",
              "      <td>-1.251539</td>\n",
              "      <td>1.117296</td>\n",
              "      <td>1.443765</td>\n",
              "      <td>0.447709</td>\n",
              "      <td>0.352055</td>\n",
              "      <td>-0.082151</td>\n",
              "      <td>0.569767</td>\n",
              "      <td>80.483366</td>\n",
              "    </tr>\n",
              "    <tr>\n",
              "      <th>3</th>\n",
              "      <td>0.289775</td>\n",
              "      <td>-1.008086</td>\n",
              "      <td>-2.038125</td>\n",
              "      <td>0.871125</td>\n",
              "      <td>-0.408075</td>\n",
              "      <td>-0.326024</td>\n",
              "      <td>-0.351513</td>\n",
              "      <td>2.075401</td>\n",
              "      <td>1.201214</td>\n",
              "      <td>-1.870792</td>\n",
              "      <td>70.243255</td>\n",
              "    </tr>\n",
              "    <tr>\n",
              "      <th>4</th>\n",
              "      <td>-0.007973</td>\n",
              "      <td>-0.190339</td>\n",
              "      <td>-1.037246</td>\n",
              "      <td>0.077368</td>\n",
              "      <td>0.538910</td>\n",
              "      <td>-0.861284</td>\n",
              "      <td>-1.382800</td>\n",
              "      <td>1.479944</td>\n",
              "      <td>1.523124</td>\n",
              "      <td>-0.875618</td>\n",
              "      <td>-36.779252</td>\n",
              "    </tr>\n",
              "  </tbody>\n",
              "</table>\n",
              "</div>"
            ],
            "text/plain": [
              "   feature_1  feature_2  feature_3  feature_4  feature_5  feature_6  \\\n",
              "0  -0.926930  -1.430141   1.632411  -3.241267  -1.247783  -1.024388   \n",
              "1   0.202923   0.334457   0.285865   1.547505  -0.387702   1.795878   \n",
              "2  -0.241236   0.456753   0.342725  -1.251539   1.117296   1.443765   \n",
              "3   0.289775  -1.008086  -2.038125   0.871125  -0.408075  -0.326024   \n",
              "4  -0.007973  -0.190339  -1.037246   0.077368   0.538910  -0.861284   \n",
              "\n",
              "   feature_7  feature_8  feature_9  feature_10      target  \n",
              "0   0.130741  -0.059525  -0.252568   -0.440044 -273.778317  \n",
              "1   2.010205  -1.515744  -0.612789    0.658544  207.175658  \n",
              "2   0.447709   0.352055  -0.082151    0.569767   80.483366  \n",
              "3  -0.351513   2.075401   1.201214   -1.870792   70.243255  \n",
              "4  -1.382800   1.479944   1.523124   -0.875618  -36.779252  "
            ]
          },
          "execution_count": 30,
          "metadata": {},
          "output_type": "execute_result"
        }
      ],
      "source": [
        "# Creamos un dataset de prueba\n",
        "## Utilicen mas `n_features` > 1 y n_informative mas o menos la mitad de n_features\n",
        "#Poco noise y pocos outliers\n",
        "X_1, y_1 = make_regression(n_samples = 100,\n",
        "                       n_features = 10,\n",
        "                       noise = 20,\n",
        "                       n_informative = 5,\n",
        "                       random_state = 42)\n",
        "\n",
        "\n",
        "new_data = np.append(X_1,y_1.reshape(-1,1),axis=1)\n",
        "\n",
        "df1 = pd.DataFrame(new_data)\n",
        "\n",
        "new_col = []\n",
        "i = 0\n",
        "for col in df1.columns:\n",
        "    if i ==  len(df1.columns) - 1:\n",
        "        new_col.append(\"target\")\n",
        "    else :\n",
        "        new_col.append(\"feature_\" + str(i+1))\n",
        "       \n",
        "    i += 1\n",
        "   \n",
        "df1.columns = new_col\n",
        "\n",
        "df1.head()"
      ]
    },
    {
      "cell_type": "code",
      "execution_count": null,
      "id": "76b6d864",
      "metadata": {},
      "outputs": [],
      "source": [
        "df1_outlier = generate_outliers(df1,['feature_1'], percentage = 0.1, extreme_outlier = False, two_tailed= True)"
      ]
    },
    {
      "cell_type": "code",
      "execution_count": null,
      "id": "877bfa74",
      "metadata": {},
      "outputs": [
        {
          "data": {
            "text/html": [
              "<div>\n",
              "<style scoped>\n",
              "    .dataframe tbody tr th:only-of-type {\n",
              "        vertical-align: middle;\n",
              "    }\n",
              "\n",
              "    .dataframe tbody tr th {\n",
              "        vertical-align: top;\n",
              "    }\n",
              "\n",
              "    .dataframe thead th {\n",
              "        text-align: right;\n",
              "    }\n",
              "</style>\n",
              "<table border=\"1\" class=\"dataframe\">\n",
              "  <thead>\n",
              "    <tr style=\"text-align: right;\">\n",
              "      <th></th>\n",
              "      <th>feature_1</th>\n",
              "      <th>feature_2</th>\n",
              "      <th>feature_3</th>\n",
              "      <th>feature_4</th>\n",
              "      <th>feature_5</th>\n",
              "      <th>feature_6</th>\n",
              "      <th>feature_7</th>\n",
              "      <th>feature_8</th>\n",
              "      <th>feature_9</th>\n",
              "      <th>feature_10</th>\n",
              "      <th>target</th>\n",
              "    </tr>\n",
              "  </thead>\n",
              "  <tbody>\n",
              "    <tr>\n",
              "      <th>0</th>\n",
              "      <td>-0.926930</td>\n",
              "      <td>-1.430141</td>\n",
              "      <td>1.632411</td>\n",
              "      <td>-3.241267</td>\n",
              "      <td>-1.247783</td>\n",
              "      <td>-1.024388</td>\n",
              "      <td>0.130741</td>\n",
              "      <td>-0.059525</td>\n",
              "      <td>-0.252568</td>\n",
              "      <td>-0.440044</td>\n",
              "      <td>-77.390018</td>\n",
              "    </tr>\n",
              "    <tr>\n",
              "      <th>1</th>\n",
              "      <td>0.202923</td>\n",
              "      <td>0.334457</td>\n",
              "      <td>0.285865</td>\n",
              "      <td>1.547505</td>\n",
              "      <td>-0.387702</td>\n",
              "      <td>1.795878</td>\n",
              "      <td>2.010205</td>\n",
              "      <td>-1.515744</td>\n",
              "      <td>-0.612789</td>\n",
              "      <td>0.658544</td>\n",
              "      <td>172.976668</td>\n",
              "    </tr>\n",
              "    <tr>\n",
              "      <th>2</th>\n",
              "      <td>-0.241236</td>\n",
              "      <td>0.456753</td>\n",
              "      <td>0.342725</td>\n",
              "      <td>-1.251539</td>\n",
              "      <td>1.117296</td>\n",
              "      <td>1.443765</td>\n",
              "      <td>0.447709</td>\n",
              "      <td>0.352055</td>\n",
              "      <td>-0.082151</td>\n",
              "      <td>0.569767</td>\n",
              "      <td>609.278879</td>\n",
              "    </tr>\n",
              "    <tr>\n",
              "      <th>3</th>\n",
              "      <td>0.289775</td>\n",
              "      <td>-1.008086</td>\n",
              "      <td>-2.038125</td>\n",
              "      <td>0.871125</td>\n",
              "      <td>-0.408075</td>\n",
              "      <td>-0.326024</td>\n",
              "      <td>-0.351513</td>\n",
              "      <td>2.075401</td>\n",
              "      <td>1.201214</td>\n",
              "      <td>-1.870792</td>\n",
              "      <td>137.613665</td>\n",
              "    </tr>\n",
              "    <tr>\n",
              "      <th>4</th>\n",
              "      <td>-0.007973</td>\n",
              "      <td>-0.190339</td>\n",
              "      <td>-1.037246</td>\n",
              "      <td>0.077368</td>\n",
              "      <td>0.538910</td>\n",
              "      <td>-0.861284</td>\n",
              "      <td>-1.382800</td>\n",
              "      <td>1.479944</td>\n",
              "      <td>1.523124</td>\n",
              "      <td>-0.875618</td>\n",
              "      <td>-45.855365</td>\n",
              "    </tr>\n",
              "  </tbody>\n",
              "</table>\n",
              "</div>"
            ],
            "text/plain": [
              "   feature_1  feature_2  feature_3  feature_4  feature_5  feature_6  \\\n",
              "0  -0.926930  -1.430141   1.632411  -3.241267  -1.247783  -1.024388   \n",
              "1   0.202923   0.334457   0.285865   1.547505  -0.387702   1.795878   \n",
              "2  -0.241236   0.456753   0.342725  -1.251539   1.117296   1.443765   \n",
              "3   0.289775  -1.008086  -2.038125   0.871125  -0.408075  -0.326024   \n",
              "4  -0.007973  -0.190339  -1.037246   0.077368   0.538910  -0.861284   \n",
              "\n",
              "   feature_7  feature_8  feature_9  feature_10      target  \n",
              "0   0.130741  -0.059525  -0.252568   -0.440044  -77.390018  \n",
              "1   2.010205  -1.515744  -0.612789    0.658544  172.976668  \n",
              "2   0.447709   0.352055  -0.082151    0.569767  609.278879  \n",
              "3  -0.351513   2.075401   1.201214   -1.870792  137.613665  \n",
              "4  -1.382800   1.479944   1.523124   -0.875618  -45.855365  "
            ]
          },
          "execution_count": 32,
          "metadata": {},
          "output_type": "execute_result"
        }
      ],
      "source": [
        "#Mucho noise y pocos outliers\n",
        "X_2, y_2 = make_regression(n_samples = 100,\n",
        "                       n_features = 10,\n",
        "                       noise = 200,\n",
        "                       n_informative = 5,\n",
        "                       random_state = 42)\n",
        "\n",
        "\n",
        "new_data_two= np.append(X_2,y_2.reshape(-1,1),axis=1)\n",
        "\n",
        "df2 = pd.DataFrame(new_data_two)\n",
        "\n",
        "new_col = []\n",
        "i = 0\n",
        "for col in df2.columns:\n",
        "    if i ==  len(df2.columns) - 1:\n",
        "        new_col.append(\"target\")\n",
        "    else :\n",
        "        new_col.append(\"feature_\" + str(i+1))\n",
        "       \n",
        "    i += 1\n",
        "   \n",
        "df2.columns = new_col\n",
        "\n",
        "df2.head()"
      ]
    },
    {
      "cell_type": "code",
      "execution_count": null,
      "id": "4e9f0f53",
      "metadata": {},
      "outputs": [],
      "source": [
        "poco_outlier = 0.01\n",
        "df2_outlier= generate_outliers(df2,['feature_1'], percentage = poco_outlier, extreme_outlier = False, two_tailed= True)"
      ]
    },
    {
      "cell_type": "code",
      "execution_count": null,
      "id": "84577bdb",
      "metadata": {},
      "outputs": [
        {
          "data": {
            "text/html": [
              "<div>\n",
              "<style scoped>\n",
              "    .dataframe tbody tr th:only-of-type {\n",
              "        vertical-align: middle;\n",
              "    }\n",
              "\n",
              "    .dataframe tbody tr th {\n",
              "        vertical-align: top;\n",
              "    }\n",
              "\n",
              "    .dataframe thead th {\n",
              "        text-align: right;\n",
              "    }\n",
              "</style>\n",
              "<table border=\"1\" class=\"dataframe\">\n",
              "  <thead>\n",
              "    <tr style=\"text-align: right;\">\n",
              "      <th></th>\n",
              "      <th>feature_1</th>\n",
              "      <th>feature_2</th>\n",
              "      <th>feature_3</th>\n",
              "      <th>feature_4</th>\n",
              "      <th>feature_5</th>\n",
              "      <th>feature_6</th>\n",
              "      <th>feature_7</th>\n",
              "      <th>feature_8</th>\n",
              "      <th>feature_9</th>\n",
              "      <th>feature_10</th>\n",
              "      <th>target</th>\n",
              "    </tr>\n",
              "  </thead>\n",
              "  <tbody>\n",
              "    <tr>\n",
              "      <th>0</th>\n",
              "      <td>-0.926930</td>\n",
              "      <td>-1.430141</td>\n",
              "      <td>1.632411</td>\n",
              "      <td>-3.241267</td>\n",
              "      <td>-1.247783</td>\n",
              "      <td>-1.024388</td>\n",
              "      <td>0.130741</td>\n",
              "      <td>-0.059525</td>\n",
              "      <td>-0.252568</td>\n",
              "      <td>-0.440044</td>\n",
              "      <td>-77.390018</td>\n",
              "    </tr>\n",
              "    <tr>\n",
              "      <th>1</th>\n",
              "      <td>0.202923</td>\n",
              "      <td>0.334457</td>\n",
              "      <td>0.285865</td>\n",
              "      <td>1.547505</td>\n",
              "      <td>-0.387702</td>\n",
              "      <td>1.795878</td>\n",
              "      <td>2.010205</td>\n",
              "      <td>-1.515744</td>\n",
              "      <td>-0.612789</td>\n",
              "      <td>0.658544</td>\n",
              "      <td>172.976668</td>\n",
              "    </tr>\n",
              "    <tr>\n",
              "      <th>2</th>\n",
              "      <td>-0.241236</td>\n",
              "      <td>0.456753</td>\n",
              "      <td>0.342725</td>\n",
              "      <td>-1.251539</td>\n",
              "      <td>1.117296</td>\n",
              "      <td>1.443765</td>\n",
              "      <td>0.447709</td>\n",
              "      <td>0.352055</td>\n",
              "      <td>-0.082151</td>\n",
              "      <td>0.569767</td>\n",
              "      <td>609.278879</td>\n",
              "    </tr>\n",
              "    <tr>\n",
              "      <th>3</th>\n",
              "      <td>0.289775</td>\n",
              "      <td>-1.008086</td>\n",
              "      <td>-2.038125</td>\n",
              "      <td>0.871125</td>\n",
              "      <td>-0.408075</td>\n",
              "      <td>-0.326024</td>\n",
              "      <td>-0.351513</td>\n",
              "      <td>2.075401</td>\n",
              "      <td>1.201214</td>\n",
              "      <td>-1.870792</td>\n",
              "      <td>137.613665</td>\n",
              "    </tr>\n",
              "    <tr>\n",
              "      <th>4</th>\n",
              "      <td>-0.007973</td>\n",
              "      <td>-0.190339</td>\n",
              "      <td>-1.037246</td>\n",
              "      <td>0.077368</td>\n",
              "      <td>0.538910</td>\n",
              "      <td>-0.861284</td>\n",
              "      <td>-1.382800</td>\n",
              "      <td>1.479944</td>\n",
              "      <td>1.523124</td>\n",
              "      <td>-0.875618</td>\n",
              "      <td>-45.855365</td>\n",
              "    </tr>\n",
              "  </tbody>\n",
              "</table>\n",
              "</div>"
            ],
            "text/plain": [
              "   feature_1  feature_2  feature_3  feature_4  feature_5  feature_6  \\\n",
              "0  -0.926930  -1.430141   1.632411  -3.241267  -1.247783  -1.024388   \n",
              "1   0.202923   0.334457   0.285865   1.547505  -0.387702   1.795878   \n",
              "2  -0.241236   0.456753   0.342725  -1.251539   1.117296   1.443765   \n",
              "3   0.289775  -1.008086  -2.038125   0.871125  -0.408075  -0.326024   \n",
              "4  -0.007973  -0.190339  -1.037246   0.077368   0.538910  -0.861284   \n",
              "\n",
              "   feature_7  feature_8  feature_9  feature_10      target  \n",
              "0   0.130741  -0.059525  -0.252568   -0.440044  -77.390018  \n",
              "1   2.010205  -1.515744  -0.612789    0.658544  172.976668  \n",
              "2   0.447709   0.352055  -0.082151    0.569767  609.278879  \n",
              "3  -0.351513   2.075401   1.201214   -1.870792  137.613665  \n",
              "4  -1.382800   1.479944   1.523124   -0.875618  -45.855365  "
            ]
          },
          "execution_count": 34,
          "metadata": {},
          "output_type": "execute_result"
        }
      ],
      "source": [
        "#Poco noise y muchos outliers\n",
        "X_3, y_3 = make_regression(n_samples = 100,\n",
        "                       n_features = 10,\n",
        "                       noise = 200,\n",
        "                       n_informative = 5,\n",
        "                       random_state = 42)\n",
        "\n",
        "\n",
        "new_data_two= np.append(X_3,y_3.reshape(-1,1),axis=1)\n",
        "\n",
        "df3 = pd.DataFrame(new_data_two)\n",
        "\n",
        "new_col = []\n",
        "i = 0\n",
        "for col in df3.columns:\n",
        "    if i ==  len(df3.columns) - 1:\n",
        "        new_col.append(\"target\")\n",
        "    else :\n",
        "        new_col.append(\"feature_\" + str(i+1))\n",
        "       \n",
        "    i += 1\n",
        "   \n",
        "df3.columns = new_col\n",
        "\n",
        "df3.head()"
      ]
    },
    {
      "cell_type": "code",
      "execution_count": null,
      "metadata": {},
      "outputs": [],
      "source": [
        "#Outliers\n",
        "muchos_outliers = 0.6\n",
        "df3_outlier= generate_outliers(df3,['feature_1'], percentage = muchos_outliers, extreme_outlier = False, two_tailed= True)"
      ]
    },
    {
      "cell_type": "code",
      "execution_count": null,
      "id": "46324218",
      "metadata": {},
      "outputs": [
        {
          "data": {
            "text/html": [
              "<div>\n",
              "<style scoped>\n",
              "    .dataframe tbody tr th:only-of-type {\n",
              "        vertical-align: middle;\n",
              "    }\n",
              "\n",
              "    .dataframe tbody tr th {\n",
              "        vertical-align: top;\n",
              "    }\n",
              "\n",
              "    .dataframe thead th {\n",
              "        text-align: right;\n",
              "    }\n",
              "</style>\n",
              "<table border=\"1\" class=\"dataframe\">\n",
              "  <thead>\n",
              "    <tr style=\"text-align: right;\">\n",
              "      <th></th>\n",
              "      <th>feature_1</th>\n",
              "      <th>feature_2</th>\n",
              "      <th>feature_3</th>\n",
              "      <th>feature_4</th>\n",
              "      <th>feature_5</th>\n",
              "      <th>feature_6</th>\n",
              "      <th>feature_7</th>\n",
              "      <th>feature_8</th>\n",
              "      <th>feature_9</th>\n",
              "      <th>feature_10</th>\n",
              "      <th>target</th>\n",
              "    </tr>\n",
              "  </thead>\n",
              "  <tbody>\n",
              "    <tr>\n",
              "      <th>0</th>\n",
              "      <td>-0.926930</td>\n",
              "      <td>-1.430141</td>\n",
              "      <td>1.632411</td>\n",
              "      <td>-3.241267</td>\n",
              "      <td>-1.247783</td>\n",
              "      <td>-1.024388</td>\n",
              "      <td>0.130741</td>\n",
              "      <td>-0.059525</td>\n",
              "      <td>-0.252568</td>\n",
              "      <td>-0.440044</td>\n",
              "      <td>-77.390018</td>\n",
              "    </tr>\n",
              "    <tr>\n",
              "      <th>1</th>\n",
              "      <td>0.202923</td>\n",
              "      <td>0.334457</td>\n",
              "      <td>0.285865</td>\n",
              "      <td>1.547505</td>\n",
              "      <td>-0.387702</td>\n",
              "      <td>1.795878</td>\n",
              "      <td>2.010205</td>\n",
              "      <td>-1.515744</td>\n",
              "      <td>-0.612789</td>\n",
              "      <td>0.658544</td>\n",
              "      <td>172.976668</td>\n",
              "    </tr>\n",
              "    <tr>\n",
              "      <th>2</th>\n",
              "      <td>-0.241236</td>\n",
              "      <td>0.456753</td>\n",
              "      <td>0.342725</td>\n",
              "      <td>-1.251539</td>\n",
              "      <td>1.117296</td>\n",
              "      <td>1.443765</td>\n",
              "      <td>0.447709</td>\n",
              "      <td>0.352055</td>\n",
              "      <td>-0.082151</td>\n",
              "      <td>0.569767</td>\n",
              "      <td>609.278879</td>\n",
              "    </tr>\n",
              "    <tr>\n",
              "      <th>3</th>\n",
              "      <td>0.289775</td>\n",
              "      <td>-1.008086</td>\n",
              "      <td>-2.038125</td>\n",
              "      <td>0.871125</td>\n",
              "      <td>-0.408075</td>\n",
              "      <td>-0.326024</td>\n",
              "      <td>-0.351513</td>\n",
              "      <td>2.075401</td>\n",
              "      <td>1.201214</td>\n",
              "      <td>-1.870792</td>\n",
              "      <td>137.613665</td>\n",
              "    </tr>\n",
              "    <tr>\n",
              "      <th>4</th>\n",
              "      <td>-0.007973</td>\n",
              "      <td>-0.190339</td>\n",
              "      <td>-1.037246</td>\n",
              "      <td>0.077368</td>\n",
              "      <td>0.538910</td>\n",
              "      <td>-0.861284</td>\n",
              "      <td>-1.382800</td>\n",
              "      <td>1.479944</td>\n",
              "      <td>1.523124</td>\n",
              "      <td>-0.875618</td>\n",
              "      <td>-45.855365</td>\n",
              "    </tr>\n",
              "  </tbody>\n",
              "</table>\n",
              "</div>"
            ],
            "text/plain": [
              "   feature_1  feature_2  feature_3  feature_4  feature_5  feature_6  \\\n",
              "0  -0.926930  -1.430141   1.632411  -3.241267  -1.247783  -1.024388   \n",
              "1   0.202923   0.334457   0.285865   1.547505  -0.387702   1.795878   \n",
              "2  -0.241236   0.456753   0.342725  -1.251539   1.117296   1.443765   \n",
              "3   0.289775  -1.008086  -2.038125   0.871125  -0.408075  -0.326024   \n",
              "4  -0.007973  -0.190339  -1.037246   0.077368   0.538910  -0.861284   \n",
              "\n",
              "   feature_7  feature_8  feature_9  feature_10      target  \n",
              "0   0.130741  -0.059525  -0.252568   -0.440044  -77.390018  \n",
              "1   2.010205  -1.515744  -0.612789    0.658544  172.976668  \n",
              "2   0.447709   0.352055  -0.082151    0.569767  609.278879  \n",
              "3  -0.351513   2.075401   1.201214   -1.870792  137.613665  \n",
              "4  -1.382800   1.479944   1.523124   -0.875618  -45.855365  "
            ]
          },
          "execution_count": 36,
          "metadata": {},
          "output_type": "execute_result"
        }
      ],
      "source": [
        "#Mucho noise y muchos outliers\n",
        "X_4, y_4 = make_regression(n_samples = 100,\n",
        "                       n_features = 10,\n",
        "                       noise = 200,\n",
        "                       n_informative = 5,\n",
        "                       random_state = 42)\n",
        "\n",
        "\n",
        "new_data_two= np.append(X_4,y_4.reshape(-1,1),axis=1)\n",
        "\n",
        "df4 = pd.DataFrame(new_data_two)\n",
        "\n",
        "new_col = []\n",
        "i = 0\n",
        "for col in df4.columns:\n",
        "    if i ==  len(df4.columns) - 1:\n",
        "        new_col.append(\"target\")\n",
        "    else :\n",
        "        new_col.append(\"feature_\" + str(i+1))\n",
        "       \n",
        "    i += 1\n",
        "   \n",
        "df4.columns = new_col\n",
        "\n",
        "\n",
        "df4.head()"
      ]
    },
    {
      "cell_type": "code",
      "execution_count": null,
      "id": "fdf51472",
      "metadata": {},
      "outputs": [],
      "source": [
        "df4_outlier= generate_outliers(df4,['feature_1'], percentage = muchos_outliers, extreme_outlier = False, two_tailed= True)"
      ]
    },
    {
      "cell_type": "code",
      "execution_count": null,
      "id": "9a4c3366",
      "metadata": {},
      "outputs": [
        {
          "name": "stdout",
          "output_type": "stream",
          "text": [
            "Huber coefficients [14.14505463 -0.16510785 -2.01622107 62.09996628  5.04120444 70.23008513\n",
            "  1.41109334  9.48499856  1.96805985]\n"
          ]
        }
      ],
      "source": [
        "from sklearn.linear_model import LinearRegression, HuberRegressor, ElasticNet\n",
        "from sklearn.metrics import r2_score\n",
        "\n",
        "#Comparar con distintos niveles y outliers de la regresión\n",
        "\n",
        "#Split the data into training(0.8) /testing sets (0.2)\n",
        "X_1_train= df1_outlier.iloc[:80,:-2] \n",
        "X_1_test = df1_outlier.iloc[80:,:-2]\n",
        "\n",
        "#Split the targets into train/testing sets\n",
        "y_1_train = df1_outlier.iloc[:80, -1]\n",
        "y_1_test = df1_outlier.iloc[80:, -1]\n",
        "\n",
        "#Create linear regression objet\n",
        "linear_regression = LinearRegression()\n",
        "\n",
        "#Train the model using the training sets\n",
        "linear_regression.fit(X_1_train, y_1_train)\n",
        "\n",
        "#Make predictions using the testing test\n",
        "y1_pred_lr = linear_regression.predict(X_1_test)\n",
        "\n",
        "#The mean squared error\n",
        "y1_lr_mse = mean_squared_error(y_1_test, y1_pred_lr)\n",
        "y1_lr_r2_score = r2_score(y_1_test, y1_pred_lr)\n",
        "metric1_lr=[y1_lr_mse, y1_lr_r2_score]\n",
        "\n",
        "#Create Hubert regressor object\n",
        "huber = HuberRegressor()\n",
        "huber.fit(X_1_train, y_1_train)\n",
        "\n",
        "#Make predictios using the testing test\n",
        "y1_pred_hb = huber.predict(X_1_test)\n",
        "print(\"Huber coefficients\", huber.coef_)\n",
        "\n",
        "#Metrics for Huber regressor\n",
        "y1_hb_mse = mean_squared_error(y_1_test, y1_pred_hb)\n",
        "y1_hb_r2_score = r2_score(y_1_test, y1_pred_hb)\n",
        "metric1_hb = [y1_hb_mse, y1_hb_r2_score]\n",
        "\n",
        "#Create Elastinet regressor objet\n",
        "alpha = 0.1\n",
        "enet = ElasticNet(alpha = alpha, l1_ratio = 0.7)\n",
        "enet.fit(X_1_train, y_1_train)\n",
        "y1_pred_enet = enet.predict(X_1_test)\n",
        "\n",
        "#Metrics for elastic net\n",
        "y1_enet_mse = mean_squared_error(y_1_test, y1_pred_enet)\n",
        "y1_enet_r2_score = r2_score(y_1_test, y1_pred_enet)\n",
        "metric1_enet = [y1_enet_mse, y1_enet_r2_score]\n"
      ]
    },
    {
      "cell_type": "code",
      "execution_count": null,
      "id": "41fa2d43",
      "metadata": {},
      "outputs": [
        {
          "name": "stdout",
          "output_type": "stream",
          "text": [
            "Huber coefficients [14.14505463 -0.16510785 -2.01622107 62.09996628  5.04120444 70.23008513\n",
            "  1.41109334  9.48499856  1.96805985]\n"
          ]
        }
      ],
      "source": [
        "\n",
        "#Split the data into training(0.8) /testing sets (0.2)\n",
        "X_2_train= df2_outlier.iloc[:80,:-2] \n",
        "X_2_test = df2_outlier.iloc[80:,:-2]\n",
        "\n",
        "#Split the targets into train/testing sets\n",
        "y_2_train = df2_outlier.iloc[:80, -1]\n",
        "y_2_test = df2_outlier.iloc[80:, -1]\n",
        "\n",
        "#Create linear regression objet\n",
        "linear_regression_2 = LinearRegression()\n",
        "\n",
        "#Train the model using the training sets\n",
        "linear_regression_2.fit(X_2_train, y_2_train)\n",
        "\n",
        "#Make predictions using the testing test\n",
        "y2_pred = linear_regression.predict(X_2_test)\n",
        "\n",
        "#Metrics for linear regression\n",
        "y2_lr_mse = mean_squared_error(y_2_test, y2_pred)\n",
        "y2_lr_r2_score = r2_score(y_2_test, y2_pred)\n",
        "metric2_lr = [y2_lr_mse, y2_lr_r2_score]\n",
        "\n",
        "#Create Hubert regressor object\n",
        "huber_2 = HuberRegressor()\n",
        "huber_2.fit(X_2_train, y_2_train)\n",
        "\n",
        "#Make predictios using the testing test\n",
        "y2_pred_hb = huber.predict(X_2_test)\n",
        "print(\"Huber coefficients\", huber.coef_)\n",
        "\n",
        "#Metrics for Hubber regressor\n",
        "y2_hb_mse = mean_squared_error(y_2_test, y2_pred_hb)\n",
        "y2_hb_r2_score = r2_score(y_2_test, y2_pred_hb)\n",
        "metric2_hb = [y2_hb_mse, y2_hb_r2_score]\n",
        "\n",
        "#Create Elastinet regressor objet\n",
        "alpha = 0.1\n",
        "enet = ElasticNet(alpha = alpha, l1_ratio = 0.7)\n",
        "enet.fit(X_2_train, y_2_train)\n",
        "y2_pred_enet = enet.predict(X_2_test)\n",
        "\n",
        "#Metrics for elastic net\n",
        "y2_enet_mse = mean_squared_error(y_2_test, y2_pred_enet)\n",
        "y2_r2_score_enet = r2_score(y_2_test, y2_pred_enet)\n",
        "metric2_enet = [y2_enet_mse, y2_r2_score_enet]\n"
      ]
    },
    {
      "cell_type": "code",
      "execution_count": null,
      "id": "9d4c8b20",
      "metadata": {},
      "outputs": [
        {
          "name": "stdout",
          "output_type": "stream",
          "text": [
            "Huber coefficients [14.14505463 -0.16510785 -2.01622107 62.09996628  5.04120444 70.23008513\n",
            "  1.41109334  9.48499856  1.96805985]\n"
          ]
        }
      ],
      "source": [
        "\n",
        "#Split the data into training(0.8) /testing sets (0.2)\n",
        "X_3_train= df3_outlier.iloc[:80,:-2] \n",
        "X_3_test = df3_outlier.iloc[80:,:-2]\n",
        "\n",
        "#Split the targets into train/testing sets\n",
        "y_3_train = df3_outlier.iloc[:80, -1]\n",
        "y_3_test = df3_outlier .iloc[80:, -1]\n",
        "\n",
        "#Create linear regression objet\n",
        "linear_regression_3 = LinearRegression()\n",
        "\n",
        "#Train the model using the training sets\n",
        "linear_regression_3.fit(X_3_train, y_3_train)\n",
        "\n",
        "#Make predictions using the testing test\n",
        "y3_pred = linear_regression.predict(X_3_test)\n",
        "\n",
        "#Metrics for linear regression\n",
        "y3_lr_mse = mean_squared_error(y_3_test, y3_pred)\n",
        "y3_lr_r2_score = r2_score(y_3_test, y3_pred)\n",
        "metric3_lr = [y3_lr_mse, y3_lr_r2_score]\n",
        "\n",
        "#Create Hubert regressor object\n",
        "huber_3 = HuberRegressor()\n",
        "huber_3.fit(X_3_train, y_3_train)\n",
        "\n",
        "#Make predictios using the testing test\n",
        "y3_pred_hb = huber.predict(X_3_test)\n",
        "print(\"Huber coefficients\", huber.coef_)\n",
        "\n",
        "#Metrics for Huber regressor\n",
        "y3_hb_mse = mean_squared_error(y_3_test, y3_pred_hb)\n",
        "y3_hb_r2_score = r2_score(y_3_test, y3_pred_hb)\n",
        "metric3_hb = [y3_hb_mse, y3_hb_r2_score]\n",
        "\n",
        "#Create Elastinet regressor objet\n",
        "alpha = 0.1\n",
        "enet_3 = ElasticNet(alpha = alpha, l1_ratio = 0.7)\n",
        "enet_3.fit(X_3_train, y_3_train)\n",
        "\n",
        "y3_pred_enet = enet_3.predict(X_3_test)\n",
        "\n",
        "#Metrics for elastic net regressor\n",
        "y3_enet_mse = mean_squared_error(y_3_test, y3_pred_enet)\n",
        "y3_enet_r2_score = r2_score(y_3_test, y3_pred_enet)\n",
        "metric3_enet  = [y3_enet_mse, y3_enet_r2_score]"
      ]
    },
    {
      "cell_type": "code",
      "execution_count": null,
      "id": "c470feeb",
      "metadata": {},
      "outputs": [
        {
          "name": "stdout",
          "output_type": "stream",
          "text": [
            "Huber coefficients [14.14505463 -0.16510785 -2.01622107 62.09996628  5.04120444 70.23008513\n",
            "  1.41109334  9.48499856  1.96805985]\n"
          ]
        }
      ],
      "source": [
        "\n",
        "#Split the data into training(0.8) /testing sets (0.2)\n",
        "X_4_train= df4_outlier.iloc[:80,:-2] \n",
        "X_4_test = df4_outlier.iloc[80:,:-2]\n",
        "\n",
        "#Split the targets into train/testing sets\n",
        "y_4_train = df4_outlier.iloc[:80, -1]\n",
        "y_4_test = df4_outlier.iloc[80:, -1]\n",
        "\n",
        "#Create linear regression objet\n",
        "linear_regression_4 = LinearRegression()\n",
        "\n",
        "#Train the model using the training sets\n",
        "linear_regression_4.fit(X_4_train, y_4_train)\n",
        "\n",
        "#Make predictions using the testing test\n",
        "y4_pred = linear_regression.predict(X_4_test)\n",
        "\n",
        "#The mean squared error\n",
        "y4_lr_mse = mean_squared_error(y_4_test, y4_pred)\n",
        "y4_lr_r2_score = r2_score(y_4_test, y4_pred)\n",
        "metric4_lr = [y4_lr_mse, y4_lr_r2_score]\n",
        "\n",
        "#Create Hubert regressor object\n",
        "huber_4 = HuberRegressor()\n",
        "huber_4.fit(X_4_train, y_4_train)\n",
        "\n",
        "#Make predictios using the testing test\n",
        "y4_pred_hb = huber.predict(X_4_test)\n",
        "print(\"Huber coefficients\", huber.coef_)\n",
        "\n",
        "#Metrics for Hubbert regresor\n",
        "y4_hb_mse = mean_squared_error(y_4_test, y4_pred_hb)\n",
        "y4_hb_r2_score = r2_score(y_4_test, y4_pred_hb)\n",
        "metric4_hb = [y4_hb_mse, y4_hb_r2_score]\n",
        "\n",
        "#Create Elastinet regressor objet\n",
        "alpha = 0.1\n",
        "enet_4 = ElasticNet(alpha = alpha, l1_ratio = 0.7)\n",
        "enet_4.fit(X_4_train, y_4_train)\n",
        "\n",
        "y4_pred_enet = enet_4.predict(X_4_test)\n",
        "\n",
        "#Metrics for elastic net regressor\n",
        "y4_enet_mse = mean_squared_error(y_4_test, y4_pred_enet)\n",
        "y4_r2_score_enet = r2_score(y_4_test, y4_pred_enet)\n",
        "metric4_enet = [y4_enet_mse, y4_r2_score_enet]"
      ]
    },
    {
      "attachments": {},
      "cell_type": "markdown",
      "id": "ea85fc6d",
      "metadata": {},
      "source": [
        "<h1> Metrics <h1>"
      ]
    },
    {
      "attachments": {},
      "cell_type": "markdown",
      "id": "b8494669",
      "metadata": {},
      "source": [
        "<h3> Linear regression <h3>"
      ]
    },
    {
      "cell_type": "code",
      "execution_count": null,
      "id": "435aeeff",
      "metadata": {},
      "outputs": [
        {
          "name": "stdout",
          "output_type": "stream",
          "text": [
            "Medición del mse y r2 score para los diferentes datasets en la regresión lineal:\n"
          ]
        },
        {
          "data": {
            "text/plain": [
              "([555.134202801243, 0.9309651606626628],\n",
              " [44991.14306199078, 0.16503278021935142],\n",
              " [44996.18078290659, 0.16493928777748768],\n",
              " [45067.354163727505, 0.1636184180270892])"
            ]
          },
          "execution_count": 42,
          "metadata": {},
          "output_type": "execute_result"
        }
      ],
      "source": [
        "print(\"Medición del mse y r2 score para los diferentes datasets en la regresión lineal:\")\n",
        "metric1_lr, metric2_lr, metric3_lr, metric4_lr"
      ]
    },
    {
      "attachments": {},
      "cell_type": "markdown",
      "id": "a5ce3ad8",
      "metadata": {},
      "source": [
        "<h3> Hubert <h3>"
      ]
    },
    {
      "cell_type": "code",
      "execution_count": null,
      "id": "9f1b9c64",
      "metadata": {},
      "outputs": [
        {
          "name": "stdout",
          "output_type": "stream",
          "text": [
            "Medición del mse y r2 score para los diferentes datasets empleando el regresor de Hubbert:\n"
          ]
        },
        {
          "data": {
            "text/plain": [
              "([556.5823998306939, 0.930785067184811],\n",
              " [45451.09883640923, 0.15649670027003615],\n",
              " [45454.56995512421, 0.15643228158347433],\n",
              " [45524.72966017031, 0.1551302241144683])"
            ]
          },
          "execution_count": 43,
          "metadata": {},
          "output_type": "execute_result"
        }
      ],
      "source": [
        "print(\"Medición del mse y r2 score para los diferentes datasets empleando el regresor de Hubbert:\")\n",
        "metric1_hb, metric2_hb, metric3_hb, metric4_hb\n"
      ]
    },
    {
      "attachments": {},
      "cell_type": "markdown",
      "id": "5f9adc71",
      "metadata": {},
      "source": [
        "<h3> Elastic Net <h3>"
      ]
    },
    {
      "cell_type": "code",
      "execution_count": null,
      "id": "e0e615e7",
      "metadata": {},
      "outputs": [
        {
          "name": "stdout",
          "output_type": "stream",
          "text": [
            "Medición del mse y r2 score para los diferentes datasets empleando el regresor de Elastic Net:\n"
          ]
        },
        {
          "data": {
            "text/plain": [
              "([563.0915061753315, 0.9299756140679534],\n",
              " [49746.343037542465, 0.07678349751904845],\n",
              " [48999.57161349013, 0.0906424399089647],\n",
              " [47190.705537568734, 0.12421224444330603])"
            ]
          },
          "execution_count": 44,
          "metadata": {},
          "output_type": "execute_result"
        }
      ],
      "source": [
        "print(\"Medición del mse y r2 score para los diferentes datasets empleando el regresor de Elastic Net:\")\n",
        "metric1_enet, metric2_enet, metric3_enet, metric4_enet"
      ]
    },
    {
      "attachments": {},
      "cell_type": "markdown",
      "id": "394a8f71",
      "metadata": {},
      "source": [
        "<h2> Ploteo de los datasets<h2>"
      ]
    },
    {
      "cell_type": "code",
      "execution_count": null,
      "id": "8fa255d8",
      "metadata": {},
      "outputs": [
        {
          "data": {
            "text/plain": [
              "<seaborn.axisgrid.FacetGrid at 0x7f2968675120>"
            ]
          },
          "execution_count": 45,
          "metadata": {},
          "output_type": "execute_result"
        },
        {
          "data": {
            "image/png": "[encoded data removed]",
            "text/plain": [
              "<Figure size 580x500 with 1 Axes>"
            ]
          },
          "metadata": {},
          "output_type": "display_data"
        }
      ],
      "source": [
        "sns.lmplot(data = pd.concat([df1_outlier.assign(dataset = 'set1'),\n",
        "                                 df2_outlier.assign(dataset = 'set2'), df3_outlier.assign(dataset= \"set3\"), df4_outlier.assign(dataset=\"set4\")]),\n",
        "                x = 'feature_1',\n",
        "                y = 'target',\n",
        "                hue = 'dataset')"
      ]
    },
    {
      "cell_type": "markdown",
      "id": "ee6d1602",
      "metadata": {},
      "source": [
        "## Tercera Parte (Clase 5, 6 y 7)"
      ]
    },
    {
      "cell_type": "markdown",
      "id": "ce61f3a7",
      "metadata": {},
      "source": [
        "La ultima parte la van a poder encontrar en el archivo `template_tp_integrador_tercera_parte.ipynb`"
      ]
    }
  ],
  "metadata": {
    "colab": {
      "collapsed_sections": [],
      "name": "Practica_clase_3.ipynb",
      "provenance": []
    },
    "kernelspec": {
      "display_name": ".venv",
      "language": "python",
      "name": "python3"
    },
    "language_info": {
      "codemirror_mode": {
        "name": "ipython",
        "version": 3
      },
      "file_extension": ".py",
      "mimetype": "text/x-python",
      "name": "python",
      "nbconvert_exporter": "python",
      "pygments_lexer": "ipython3",
      "version": "3.10.6"
    },
    "vscode": {
      "interpreter": {
        "hash": "ee261a9f2aeeb600dd315aa4d450b6bdd38c436c8b7b639b6f5c11ef9f457262"
      }
    }
  },
  "nbformat": 4,
  "nbformat_minor": 5
}
