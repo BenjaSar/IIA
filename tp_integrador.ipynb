{
  "cells": [
    {
      "attachments": {},
      "cell_type": "markdown",
      "id": "07289bb0",
      "metadata": {},
      "source": [
        "# Trabajo práctico integrador\n",
        "\n",
        "**Nombre**: Fabian S."
      ]
    },
    {
      "cell_type": "markdown",
      "id": "afa76473",
      "metadata": {},
      "source": [
        "## Primera Parte (Clase 1 y 2)"
      ]
    },
    {
      "cell_type": "code",
      "execution_count": 4,
      "id": "aaf94e0a",
      "metadata": {
        "id": "aaf94e0a"
      },
      "outputs": [],
      "source": [
        "import numpy as np\n",
        "import matplotlib.pyplot as plt "
      ]
    },
    {
      "cell_type": "markdown",
      "id": "0ffe9554",
      "metadata": {},
      "source": [
        "### Primer ejercicio\n"
      ]
    },
    {
      "cell_type": "code",
      "execution_count": 5,
      "id": "c0d46963",
      "metadata": {},
      "outputs": [
        {
          "name": "stdout",
          "output_type": "stream",
          "text": [
            "[0.80657438 0.87249721 0.69107761 0.68990125 0.83453118 0.61834601\n",
            " 0.35006335 0.39148072 0.2551061  0.03189621]\n"
          ]
        },
        {
          "data": {
            "text/plain": [
              "0.87249721231106"
            ]
          },
          "execution_count": 5,
          "metadata": {},
          "output_type": "execute_result"
        }
      ],
      "source": [
        "#Function to calculate norm of vector with p >= 1\n",
        "def vector_norm(vector_x,p):\n",
        "\n",
        "    x_p=0\n",
        "    for j in range(len(vector_x)):\n",
        "        x_p += pow(abs(vector_x[j]), p)\n",
        "        x_final = pow(x_p, 1/p)\n",
        "    return  x_final\n",
        "\n",
        "#Infinity norm\n",
        "def norm_vector(vector_x, type):\n",
        "    if type == \"infinity\":\n",
        "        return abs(np.max(vector_x))\n",
        "    elif type == \"zero\":    \n",
        "        return np.count_nonzero(vector_x)\n",
        "    raise ValueError (\"Argumento no permitido\") \n",
        "\n",
        "x_vector = np.random.random(10)\n",
        "print(x_vector)\n",
        "l = 5\n",
        "\n",
        "vector_norm(x_vector, l)\n",
        "#zero norm of vector\n",
        "type = \"zero\"\n",
        "norm_vector(x_vector, type )\n",
        "\n",
        "#Infinite norm of vector\n",
        "type = \"infinity\"\n",
        "norm_vector(x_vector, type)"
      ]
    },
    {
      "cell_type": "markdown",
      "id": "dd66d862",
      "metadata": {},
      "source": [
        "### Segundo Ejercicio"
      ]
    },
    {
      "cell_type": "code",
      "execution_count": 6,
      "id": "794dcd58",
      "metadata": {},
      "outputs": [],
      "source": [
        "truth = np.array([1,1,0,1,1,1,0,0,0,1])\n",
        "prediction = np.array([1,1,1,1,0,0,1,1,0,0])"
      ]
    },
    {
      "cell_type": "code",
      "execution_count": 7,
      "id": "20b4173b",
      "metadata": {},
      "outputs": [
        {
          "name": "stdout",
          "output_type": "stream",
          "text": [
            "La tasa de verdaderos positivos es 3\n"
          ]
        }
      ],
      "source": [
        "true_positive_rate = np.sum((truth)&(prediction))\n",
        "print(f'La tasa de verdaderos positivos es', true_positive_rate)"
      ]
    },
    {
      "cell_type": "code",
      "execution_count": 8,
      "id": "5ffbe422",
      "metadata": {},
      "outputs": [
        {
          "name": "stdout",
          "output_type": "stream",
          "text": [
            "La tasa de verdaderos negativos es 1\n"
          ]
        }
      ],
      "source": [
        "true_negative_rate = np.sum((truth == 0)&(prediction == 0))\n",
        "print(f'La tasa de verdaderos negativos es', true_negative_rate)"
      ]
    },
    {
      "cell_type": "code",
      "execution_count": 9,
      "id": "1db0af57",
      "metadata": {},
      "outputs": [
        {
          "name": "stdout",
          "output_type": "stream",
          "text": [
            "La tasa de falsos negativos es: 3\n"
          ]
        }
      ],
      "source": [
        "false_positive_rate = np.sum((truth==1)&(prediction==1))\n",
        "print(f'La tasa de falsos negativos es:', false_positive_rate)"
      ]
    },
    {
      "cell_type": "code",
      "execution_count": 10,
      "id": "5066d70b",
      "metadata": {},
      "outputs": [
        {
          "name": "stdout",
          "output_type": "stream",
          "text": [
            "La tasa de falsos negativos es: 3\n"
          ]
        }
      ],
      "source": [
        "false_negative_rate = np.sum((truth==1)&(prediction==0))\n",
        "print(f'La tasa de falsos negativos es:', false_negative_rate)"
      ]
    },
    {
      "cell_type": "code",
      "execution_count": 11,
      "id": "bb38350b",
      "metadata": {},
      "outputs": [
        {
          "name": "stdout",
          "output_type": "stream",
          "text": [
            "La precision calculada es: 0.5\n"
          ]
        }
      ],
      "source": [
        "#Calculo de la precisión\n",
        "precision = (true_positive_rate) / (true_positive_rate + false_positive_rate)\n",
        "print(f'La precision calculada es:', precision)"
      ]
    },
    {
      "cell_type": "code",
      "execution_count": 12,
      "id": "a7c17b92",
      "metadata": {},
      "outputs": [
        {
          "name": "stdout",
          "output_type": "stream",
          "text": [
            "El valor de recall calculado es: 0.5\n"
          ]
        }
      ],
      "source": [
        "#Calculo de recall\n",
        "recall =  (true_positive_rate) / (true_positive_rate + false_negative_rate)\n",
        "print(f'El valor de recall calculado es:', recall)"
      ]
    },
    {
      "cell_type": "code",
      "execution_count": 13,
      "id": "8184f360",
      "metadata": {},
      "outputs": [
        {
          "name": "stdout",
          "output_type": "stream",
          "text": [
            "El valor de la accuracy calculada es: 0.4\n"
          ]
        }
      ],
      "source": [
        "#Calculo de accuracy\n",
        "accuracy = (true_positive_rate + true_negative_rate) / (true_positive_rate + true_negative_rate + false_positive_rate + false_negative_rate)\n",
        "print(f'El valor de la accuracy calculada es:', accuracy)"
      ]
    },
    {
      "attachments": {},
      "cell_type": "markdown",
      "id": "598f7123",
      "metadata": {},
      "source": [
        "### Tercer y Cuarto Ejercicio\n",
        "\n",
        "Para este ejercicio vamos a considerar los siguientes datasets:\n",
        "\n",
        "* [HAR](https://archive.ics.uci.edu/ml/datasets/Human+Activity+Recognition+Using+Smartphones) (Ejercicio 3)\n",
        "* [MNIST](https://scikit-learn.org/stable/modules/generated/sklearn.datasets.load_digits.html) (Ejercicio 4)\n",
        "\n",
        "1. Aplicar PCA (validar que se cumplan las condiciones), ¿Cuántas componentes necesitamos para explicar el 80% de la varianza?\n",
        "2. Gráficar la variación acumulada para cada caso.\n",
        "3. Utilizando [KMeans](https://scikit-learn.org/stable/modules/generated/sklearn.cluster.KMeans.html). Agrupar el dataset transformado (ejercicio de PCA) y agrupar en clusters de $k=6$ (ej 3) y $k=10$ (ej 4). Luego en ambos casos probar con $k=2$.\n",
        "4. Graficar los resultados con los distintos k's usando las primeras dos componentes principales como ejes x,y.\n",
        "5. Explique. ¿Cuál fue la ganancia de usar PCA en conjunto con k-means?"
      ]
    },
    {
      "cell_type": "code",
      "execution_count": null,
      "id": "8b6f099d",
      "metadata": {},
      "outputs": [],
      "source": []
    },
    {
      "cell_type": "markdown",
      "id": "7c7574fd",
      "metadata": {},
      "source": [
        "## Segunda Parte (Clase 3 y 4)"
      ]
    },
    {
      "cell_type": "code",
      "execution_count": 14,
      "id": "aaf94e0a",
      "metadata": {
        "id": "aaf94e0a"
      },
      "outputs": [],
      "source": [
        "import matplotlib.pyplot as plt\n",
        "import seaborn as sns\n",
        "\n",
        "# Entrenamiento de modelos de prueba\n",
        "from sklearn.linear_model import LinearRegression\n",
        "\n",
        "# Evaluación de modelos de prueba\n",
        "from sklearn.metrics import mean_squared_error\n",
        "\n",
        "# Crear datasets\n",
        "from sklearn.datasets import make_regression"
      ]
    },
    {
      "cell_type": "code",
      "execution_count": 15,
      "id": "65843123",
      "metadata": {
        "colab": {
          "base_uri": "https://localhost:8080/"
        },
        "id": "65843123",
        "outputId": "6589754e-2630-4c3d-cd45-b5f10ad8dc49"
      },
      "outputs": [
        {
          "data": {
            "text/plain": [
              "(1000, 2)"
            ]
          },
          "execution_count": 15,
          "metadata": {},
          "output_type": "execute_result"
        }
      ],
      "source": [
        "# Creamos un dataset de prueba\n",
        "X, y = make_regression(n_samples = 1000,\n",
        "                       n_features = 1,\n",
        "                       noise = 2,\n",
        "                       n_informative = 1,\n",
        "                       random_state = 42)\n",
        "\n",
        "new_data = np.append(X,y.reshape(-1,1),axis=1)\n",
        "new_data.shape"
      ]
    },
    {
      "cell_type": "code",
      "execution_count": 16,
      "id": "a52eSwfzCslx",
      "metadata": {
        "colab": {
          "base_uri": "https://localhost:8080/",
          "height": 206
        },
        "id": "a52eSwfzCslx",
        "outputId": "51d2ef98-ff3b-4182-966e-a03b1a14ba1a"
      },
      "outputs": [
        {
          "data": {
            "text/html": [
              "<div>\n",
              "<style scoped>\n",
              "    .dataframe tbody tr th:only-of-type {\n",
              "        vertical-align: middle;\n",
              "    }\n",
              "\n",
              "    .dataframe tbody tr th {\n",
              "        vertical-align: top;\n",
              "    }\n",
              "\n",
              "    .dataframe thead th {\n",
              "        text-align: right;\n",
              "    }\n",
              "</style>\n",
              "<table border=\"1\" class=\"dataframe\">\n",
              "  <thead>\n",
              "    <tr style=\"text-align: right;\">\n",
              "      <th></th>\n",
              "      <th>feature_1</th>\n",
              "      <th>target</th>\n",
              "    </tr>\n",
              "  </thead>\n",
              "  <tbody>\n",
              "    <tr>\n",
              "      <th>0</th>\n",
              "      <td>-1.758739</td>\n",
              "      <td>-30.118736</td>\n",
              "    </tr>\n",
              "    <tr>\n",
              "      <th>1</th>\n",
              "      <td>1.031845</td>\n",
              "      <td>14.526197</td>\n",
              "    </tr>\n",
              "    <tr>\n",
              "      <th>2</th>\n",
              "      <td>-0.487606</td>\n",
              "      <td>-10.119305</td>\n",
              "    </tr>\n",
              "    <tr>\n",
              "      <th>3</th>\n",
              "      <td>0.186454</td>\n",
              "      <td>1.700188</td>\n",
              "    </tr>\n",
              "    <tr>\n",
              "      <th>4</th>\n",
              "      <td>0.725767</td>\n",
              "      <td>12.345314</td>\n",
              "    </tr>\n",
              "  </tbody>\n",
              "</table>\n",
              "</div>"
            ],
            "text/plain": [
              "   feature_1     target\n",
              "0  -1.758739 -30.118736\n",
              "1   1.031845  14.526197\n",
              "2  -0.487606 -10.119305\n",
              "3   0.186454   1.700188\n",
              "4   0.725767  12.345314"
            ]
          },
          "execution_count": 16,
          "metadata": {},
          "output_type": "execute_result"
        }
      ],
      "source": [
        "import pandas as pd\n",
        "df = pd.DataFrame(new_data)\n",
        "\n",
        "new_col = []\n",
        "i = 0\n",
        "for col in df.columns:\n",
        "    if i ==  len(df.columns) - 1:\n",
        "        new_col.append(\"target\")\n",
        "    else :\n",
        "        new_col.append(\"feature_\" + str(i+1))\n",
        "        \n",
        "    i += 1\n",
        "    \n",
        "df.columns = new_col\n",
        "\n",
        "df.head()"
      ]
    },
    {
      "cell_type": "code",
      "execution_count": 17,
      "id": "CBb_QmSZCPFZ",
      "metadata": {
        "colab": {
          "base_uri": "https://localhost:8080/",
          "height": 374
        },
        "id": "CBb_QmSZCPFZ",
        "outputId": "a7c8b051-581d-4267-8bad-5db770be6740"
      },
      "outputs": [
        {
          "data": {
            "image/png": "[encoded data removed]",
            "text/plain": [
              "<Figure size 2200x600 with 2 Axes>"
            ]
          },
          "metadata": {},
          "output_type": "display_data"
        }
      ],
      "source": [
        "fig,axes = plt.subplots(2,figsize=(22,6))\n",
        "axes[0].scatter(X,y)\n",
        "sns.histplot(X, ax=axes[1]);"
      ]
    },
    {
      "cell_type": "markdown",
      "id": "zTvu6e3KhEKG",
      "metadata": {
        "id": "zTvu6e3KhEKG"
      },
      "source": [
        "### Funciones auxiliares para generar datos anómalos"
      ]
    },
    {
      "cell_type": "code",
      "execution_count": 18,
      "id": "_LqDjS8chDkY",
      "metadata": {
        "id": "_LqDjS8chDkY"
      },
      "outputs": [],
      "source": [
        "def generate_outliers(df: pd.DataFrame,\n",
        "                     cols: list = None,\n",
        "                     extreme_outlier: bool = False,\n",
        "                     two_tailed: bool = False,\n",
        "                     percentage: float = 0.02) -> pd.DataFrame:\n",
        "  \"\"\"Con esta función vamos a poder generar outliers en ciertas columnas de nuestro\n",
        "  dataset. Si le damos True a _extreme_outlier_ va a generar outliers con mucho\n",
        "  peso en la regresión (puede ser bilateral o unilateral segun _two_tailed_)\n",
        "  \"\"\"  \n",
        "  seeds = np.random.randint(100, size = len(df))\n",
        "  \n",
        "  nsamples = np.math.floor(len(df) * percentage)\n",
        "  idx_to_change = df.sample(n = nsamples).index\n",
        "\n",
        "  cols = df.columns.tolist() if cols is None else cols\n",
        "\n",
        "  result = df.copy(deep = True)\n",
        "  \n",
        "  for i,col_name in enumerate(cols):\n",
        "    np.random.seed(seeds[i])\n",
        "\n",
        "    iqr = result[col_name].quantile(0.75) - result[col_name].quantile(0.25)\n",
        "\n",
        "    lb = result[col_name].quantile(0.25) - 1 * iqr\n",
        "    ub = result[col_name].quantile(0.75) + 1 * iqr\n",
        "\n",
        "    if two_tailed:\n",
        "      outs = result[col_name].loc[(result[col_name] < lb) | (result[col_name] > ub)]\n",
        "    else:\n",
        "      outs = result[col_name].loc[(result[col_name] > ub)]\n",
        "    \n",
        "    out_size = len(outs)\n",
        "    if out_size < nsamples:\n",
        "      nsamples = out_size\n",
        "\n",
        "    idx_to_change = outs.sample(nsamples, replace = False).index\n",
        "    \n",
        "    if extreme_outlier:\n",
        "      outlier_sign = [1 if np.random.random() < 0.9 else -1 for _ in range(nsamples)]\n",
        "      \n",
        "      result[col_name].loc[idx_to_change] = np.multiply(outlier_sign,\n",
        "                                                        np.random.uniform(low = result[col_name].mean(),\n",
        "                                                                          high = result[col_name].max()*5,\n",
        "                                                                          size = nsamples)\n",
        "                                                        )\n",
        "      result['target'].loc[idx_to_change] = np.multiply(outlier_sign,\n",
        "                                                        np.random.uniform(low = result['target'].mean(),\n",
        "                                                                          high = result['target'].max()*2,\n",
        "                                                                          size = nsamples)\n",
        "                                                        )\n",
        "    else:\n",
        "      samples = result[col_name].loc[idx_to_change].values\n",
        "      np.random.shuffle(samples)\n",
        "      result[col_name].loc[idx_to_change] = samples\n",
        "  \n",
        "  return result"
      ]
    },
    {
      "cell_type": "code",
      "execution_count": 19,
      "id": "mmnwCbF1gugP",
      "metadata": {
        "colab": {
          "base_uri": "https://localhost:8080/"
        },
        "id": "mmnwCbF1gugP",
        "outputId": "a27810fe-1f0f-40ef-99ac-dace0fc0eb92"
      },
      "outputs": [],
      "source": [
        "df_outlier = generate_outliers(df,['feature_1'], percentage = 0.05, extreme_outlier = True, two_tailed= True)"
      ]
    },
    {
      "cell_type": "code",
      "execution_count": 20,
      "id": "7b520928",
      "metadata": {},
      "outputs": [
        {
          "data": {
            "text/plain": [
              "<seaborn.axisgrid.FacetGrid at 0x7feb13c9bc10>"
            ]
          },
          "execution_count": 20,
          "metadata": {},
          "output_type": "execute_result"
        },
        {
          "data": {
            "image/png": "[encoded data removed]",
            "text/plain": [
              "<Figure size 580x500 with 1 Axes>"
            ]
          },
          "metadata": {},
          "output_type": "display_data"
        }
      ],
      "source": [
        "sns.lmplot(data = pd.concat([df.assign(dataset = 'set1'),\n",
        "                                 df_outlier.assign(dataset = 'set2')]),\n",
        "                x = 'feature_1',\n",
        "                y = 'target',\n",
        "                hue = 'dataset')"
      ]
    },
    {
      "cell_type": "markdown",
      "id": "N_XkGtvw7J-i",
      "metadata": {
        "id": "N_XkGtvw7J-i"
      },
      "source": [
        "### Quinto ejercicio\n",
        "\n",
        "Crear una función que separe los datos en train-validation-test 70-20-10\n",
        "\n",
        "\n",
        "Hints: \n",
        "\n",
        "* Usar Indexing y slicing\n",
        "* Usar np.random.[...]"
      ]
    },
    {
      "cell_type": "code",
      "execution_count": 21,
      "id": "4911ceb6",
      "metadata": {},
      "outputs": [
        {
          "data": {
            "text/plain": [
              "(25, 5)"
            ]
          },
          "execution_count": 21,
          "metadata": {},
          "output_type": "execute_result"
        }
      ],
      "source": [
        "import pandas as pd\n",
        "#Generacion de datasets\n",
        "df_generado = pd.DataFrame(np.random.randint(0,25, size=(25,5)), columns=['Feature1', 'Feature2', 'Feature3', 'Feature4', 'Target'])\n",
        "df_generado\n",
        "df_generado.shape"
      ]
    },
    {
      "cell_type": "code",
      "execution_count": 22,
      "id": "yIOYdDHz7Jkp",
      "metadata": {
        "id": "yIOYdDHz7Jkp"
      },
      "outputs": [],
      "source": [
        "def split(df: pd.DataFrame):\n",
        "    df_shuffled = df.sample(frac=1)\n",
        "    #sp => Split factor\n",
        "    sf_train = 0.7\n",
        "    sf_test = 0.9\n",
        "\n",
        "    X = df_shuffled[0:len(df_shuffled), :df_shuffled.shape[1]-1]\n",
        "    Y = df_shuffled[0:len(df_shuffled), df_shuffled.shape[1]-1:]\n",
        "    #Divide features and target\n",
        "    X_train, X_test, X_val = X[0:int(sf_train*len(X))], X[int(sf_train*len(X)):int(sf_test*len(X))], X[int(sf_test*len(X)):]  \n",
        "    Y_train, Y_test, Y_val = Y[0:int(sf_train*len(Y))], Y[int(sf_train*len(Y)):int(sf_test*len(Y))], Y[int(sf_test*len(Y)):]  \n",
        "\n",
        "    return X_train, X_val, X_test, Y_train, Y_val, Y_test"
      ]
    },
    {
      "attachments": {},
      "cell_type": "markdown",
      "id": "b77ad81a",
      "metadata": {
        "id": "b77ad81a"
      },
      "source": [
        "### Sexto ejercicio\n",
        "\n",
        "Utilizando la funcion `generate_outliers` generar puntos extremos dentro de los datos que generamos anteriormente. En este ejercicio dejar setteado `extreme_outliers` como `False` y observe como variando el porcentaje de los mismos la regresión comienza a afectarse.\n",
        "\n",
        "Pasos:\n",
        "\n",
        "\n",
        "1. Generar datasets:\n",
        "    - Uno normal con poco `noise` y pocos outliers\n",
        "    - Uno con mucho `noise` y pocos outliers\n",
        "    - Uno con poco `noise` y muchos outliers\n",
        "    - Uno con mucho `noise` y muchos outliers\n",
        "2. Probar los distintos regresores a ver como se comportan frente a estos datasets anómalos.\n",
        "3. Comparar y analizar resultados."
      ]
    },
    {
      "cell_type": "code",
      "execution_count": 23,
      "id": "25e7924e",
      "metadata": {},
      "outputs": [
        {
          "data": {
            "text/html": [
              "<div>\n",
              "<style scoped>\n",
              "    .dataframe tbody tr th:only-of-type {\n",
              "        vertical-align: middle;\n",
              "    }\n",
              "\n",
              "    .dataframe tbody tr th {\n",
              "        vertical-align: top;\n",
              "    }\n",
              "\n",
              "    .dataframe thead th {\n",
              "        text-align: right;\n",
              "    }\n",
              "</style>\n",
              "<table border=\"1\" class=\"dataframe\">\n",
              "  <thead>\n",
              "    <tr style=\"text-align: right;\">\n",
              "      <th></th>\n",
              "      <th>feature_1</th>\n",
              "      <th>feature_2</th>\n",
              "      <th>feature_3</th>\n",
              "      <th>feature_4</th>\n",
              "      <th>feature_5</th>\n",
              "      <th>feature_6</th>\n",
              "      <th>feature_7</th>\n",
              "      <th>feature_8</th>\n",
              "      <th>feature_9</th>\n",
              "      <th>feature_10</th>\n",
              "      <th>target</th>\n",
              "    </tr>\n",
              "  </thead>\n",
              "  <tbody>\n",
              "    <tr>\n",
              "      <th>0</th>\n",
              "      <td>0.123429</td>\n",
              "      <td>-1.253402</td>\n",
              "      <td>0.370340</td>\n",
              "      <td>0.101788</td>\n",
              "      <td>0.092628</td>\n",
              "      <td>-0.589254</td>\n",
              "      <td>0.306348</td>\n",
              "      <td>-1.458213</td>\n",
              "      <td>1.630130</td>\n",
              "      <td>1.242863</td>\n",
              "      <td>11.851066</td>\n",
              "    </tr>\n",
              "    <tr>\n",
              "      <th>1</th>\n",
              "      <td>-0.216827</td>\n",
              "      <td>0.214983</td>\n",
              "      <td>-0.028817</td>\n",
              "      <td>-1.701140</td>\n",
              "      <td>0.264482</td>\n",
              "      <td>0.314972</td>\n",
              "      <td>0.374062</td>\n",
              "      <td>-0.292758</td>\n",
              "      <td>0.501900</td>\n",
              "      <td>0.063702</td>\n",
              "      <td>-51.991638</td>\n",
              "    </tr>\n",
              "    <tr>\n",
              "      <th>2</th>\n",
              "      <td>0.388979</td>\n",
              "      <td>1.655407</td>\n",
              "      <td>-0.755792</td>\n",
              "      <td>-1.161784</td>\n",
              "      <td>-0.300860</td>\n",
              "      <td>1.048707</td>\n",
              "      <td>-0.283139</td>\n",
              "      <td>0.251474</td>\n",
              "      <td>-0.194269</td>\n",
              "      <td>-1.209477</td>\n",
              "      <td>-26.812546</td>\n",
              "    </tr>\n",
              "    <tr>\n",
              "      <th>3</th>\n",
              "      <td>0.219072</td>\n",
              "      <td>-0.251552</td>\n",
              "      <td>-1.095871</td>\n",
              "      <td>-0.806520</td>\n",
              "      <td>-0.435139</td>\n",
              "      <td>2.768374</td>\n",
              "      <td>1.677201</td>\n",
              "      <td>-0.475392</td>\n",
              "      <td>-0.835870</td>\n",
              "      <td>-1.314879</td>\n",
              "      <td>9.860582</td>\n",
              "    </tr>\n",
              "    <tr>\n",
              "      <th>4</th>\n",
              "      <td>0.715734</td>\n",
              "      <td>0.383168</td>\n",
              "      <td>-0.686715</td>\n",
              "      <td>-1.236136</td>\n",
              "      <td>0.731001</td>\n",
              "      <td>1.623885</td>\n",
              "      <td>1.254338</td>\n",
              "      <td>2.394362</td>\n",
              "      <td>2.185095</td>\n",
              "      <td>0.538435</td>\n",
              "      <td>-12.097448</td>\n",
              "    </tr>\n",
              "  </tbody>\n",
              "</table>\n",
              "</div>"
            ],
            "text/plain": [
              "   feature_1  feature_2  feature_3  feature_4  feature_5  feature_6  \\\n",
              "0   0.123429  -1.253402   0.370340   0.101788   0.092628  -0.589254   \n",
              "1  -0.216827   0.214983  -0.028817  -1.701140   0.264482   0.314972   \n",
              "2   0.388979   1.655407  -0.755792  -1.161784  -0.300860   1.048707   \n",
              "3   0.219072  -0.251552  -1.095871  -0.806520  -0.435139   2.768374   \n",
              "4   0.715734   0.383168  -0.686715  -1.236136   0.731001   1.623885   \n",
              "\n",
              "   feature_7  feature_8  feature_9  feature_10     target  \n",
              "0   0.306348  -1.458213   1.630130    1.242863  11.851066  \n",
              "1   0.374062  -0.292758   0.501900    0.063702 -51.991638  \n",
              "2  -0.283139   0.251474  -0.194269   -1.209477 -26.812546  \n",
              "3   1.677201  -0.475392  -0.835870   -1.314879   9.860582  \n",
              "4   1.254338   2.394362   2.185095    0.538435 -12.097448  "
            ]
          },
          "execution_count": 23,
          "metadata": {},
          "output_type": "execute_result"
        }
      ],
      "source": [
        "# Creamos un dataset de prueba\n",
        "## Utilicen mas `n_features` > 1 y n_informative mas o menos la mitad de n_features\n",
        "#Poco noise y pocos outliers\n",
        "X_1, y_1 = make_regression(n_samples = 1000,\n",
        "                       n_features = 10,\n",
        "                       noise = 20,\n",
        "                       n_informative = 5,\n",
        "                       random_state = 42)\n",
        "\n",
        "\n",
        "new_data = np.append(X_1,y_1.reshape(-1,1),axis=1)\n",
        "\n",
        "\n",
        "df_1 = pd.DataFrame(new_data)\n",
        "\n",
        "\n",
        "new_col = []\n",
        "i = 0\n",
        "for col in df_1.columns:\n",
        "    if i ==  len(df_1.columns) - 1:\n",
        "        new_col.append(\"target\")\n",
        "    else :\n",
        "        new_col.append(\"feature_\" + str(i+1))\n",
        "       \n",
        "    i += 1\n",
        "   \n",
        "df_1.columns = new_col\n",
        "\n",
        "df_1.head()"
      ]
    },
    {
      "cell_type": "code",
      "execution_count": 24,
      "id": "76b6d864",
      "metadata": {},
      "outputs": [],
      "source": [
        "df_outlier_1 = generate_outliers(df_1,['feature_1'], percentage = 0.1, extreme_outlier = True, two_tailed= True)"
      ]
    },
    {
      "cell_type": "code",
      "execution_count": 25,
      "id": "877bfa74",
      "metadata": {},
      "outputs": [
        {
          "data": {
            "text/html": [
              "<div>\n",
              "<style scoped>\n",
              "    .dataframe tbody tr th:only-of-type {\n",
              "        vertical-align: middle;\n",
              "    }\n",
              "\n",
              "    .dataframe tbody tr th {\n",
              "        vertical-align: top;\n",
              "    }\n",
              "\n",
              "    .dataframe thead th {\n",
              "        text-align: right;\n",
              "    }\n",
              "</style>\n",
              "<table border=\"1\" class=\"dataframe\">\n",
              "  <thead>\n",
              "    <tr style=\"text-align: right;\">\n",
              "      <th></th>\n",
              "      <th>feature_1</th>\n",
              "      <th>feature_2</th>\n",
              "      <th>feature_3</th>\n",
              "      <th>feature_4</th>\n",
              "      <th>feature_5</th>\n",
              "      <th>feature_6</th>\n",
              "      <th>feature_7</th>\n",
              "      <th>feature_8</th>\n",
              "      <th>feature_9</th>\n",
              "      <th>feature_10</th>\n",
              "      <th>target</th>\n",
              "    </tr>\n",
              "  </thead>\n",
              "  <tbody>\n",
              "    <tr>\n",
              "      <th>0</th>\n",
              "      <td>0.123429</td>\n",
              "      <td>-1.253402</td>\n",
              "      <td>0.370340</td>\n",
              "      <td>0.101788</td>\n",
              "      <td>0.092628</td>\n",
              "      <td>-0.589254</td>\n",
              "      <td>0.306348</td>\n",
              "      <td>-1.458213</td>\n",
              "      <td>1.630130</td>\n",
              "      <td>1.242863</td>\n",
              "      <td>-115.512955</td>\n",
              "    </tr>\n",
              "    <tr>\n",
              "      <th>1</th>\n",
              "      <td>-0.216827</td>\n",
              "      <td>0.214983</td>\n",
              "      <td>-0.028817</td>\n",
              "      <td>-1.701140</td>\n",
              "      <td>0.264482</td>\n",
              "      <td>0.314972</td>\n",
              "      <td>0.374062</td>\n",
              "      <td>-0.292758</td>\n",
              "      <td>0.501900</td>\n",
              "      <td>0.063702</td>\n",
              "      <td>28.497776</td>\n",
              "    </tr>\n",
              "    <tr>\n",
              "      <th>2</th>\n",
              "      <td>0.388979</td>\n",
              "      <td>1.655407</td>\n",
              "      <td>-0.755792</td>\n",
              "      <td>-1.161784</td>\n",
              "      <td>-0.300860</td>\n",
              "      <td>1.048707</td>\n",
              "      <td>-0.283139</td>\n",
              "      <td>0.251474</td>\n",
              "      <td>-0.194269</td>\n",
              "      <td>-1.209477</td>\n",
              "      <td>12.046927</td>\n",
              "    </tr>\n",
              "    <tr>\n",
              "      <th>3</th>\n",
              "      <td>0.219072</td>\n",
              "      <td>-0.251552</td>\n",
              "      <td>-1.095871</td>\n",
              "      <td>-0.806520</td>\n",
              "      <td>-0.435139</td>\n",
              "      <td>2.768374</td>\n",
              "      <td>1.677201</td>\n",
              "      <td>-0.475392</td>\n",
              "      <td>-0.835870</td>\n",
              "      <td>-1.314879</td>\n",
              "      <td>201.055018</td>\n",
              "    </tr>\n",
              "    <tr>\n",
              "      <th>4</th>\n",
              "      <td>0.715734</td>\n",
              "      <td>0.383168</td>\n",
              "      <td>-0.686715</td>\n",
              "      <td>-1.236136</td>\n",
              "      <td>0.731001</td>\n",
              "      <td>1.623885</td>\n",
              "      <td>1.254338</td>\n",
              "      <td>2.394362</td>\n",
              "      <td>2.185095</td>\n",
              "      <td>0.538435</td>\n",
              "      <td>-348.258956</td>\n",
              "    </tr>\n",
              "  </tbody>\n",
              "</table>\n",
              "</div>"
            ],
            "text/plain": [
              "   feature_1  feature_2  feature_3  feature_4  feature_5  feature_6  \\\n",
              "0   0.123429  -1.253402   0.370340   0.101788   0.092628  -0.589254   \n",
              "1  -0.216827   0.214983  -0.028817  -1.701140   0.264482   0.314972   \n",
              "2   0.388979   1.655407  -0.755792  -1.161784  -0.300860   1.048707   \n",
              "3   0.219072  -0.251552  -1.095871  -0.806520  -0.435139   2.768374   \n",
              "4   0.715734   0.383168  -0.686715  -1.236136   0.731001   1.623885   \n",
              "\n",
              "   feature_7  feature_8  feature_9  feature_10      target  \n",
              "0   0.306348  -1.458213   1.630130    1.242863 -115.512955  \n",
              "1   0.374062  -0.292758   0.501900    0.063702   28.497776  \n",
              "2  -0.283139   0.251474  -0.194269   -1.209477   12.046927  \n",
              "3   1.677201  -0.475392  -0.835870   -1.314879  201.055018  \n",
              "4   1.254338   2.394362   2.185095    0.538435 -348.258956  "
            ]
          },
          "execution_count": 25,
          "metadata": {},
          "output_type": "execute_result"
        }
      ],
      "source": [
        "#Mucho noise y pocos outliers\n",
        "X_2, y_2 = make_regression(n_samples = 1000,\n",
        "                       n_features = 10,\n",
        "                       noise = 200,\n",
        "                       n_informative = 5,\n",
        "                       random_state = 42)\n",
        "\n",
        "\n",
        "new_data_two= np.append(X_2,y_2.reshape(-1,1),axis=1)\n",
        "\n",
        "\n",
        "df_2 = pd.DataFrame(new_data_two)\n",
        "\n",
        "\n",
        "new_col = []\n",
        "i = 0\n",
        "for col in df_2.columns:\n",
        "    if i ==  len(df_2.columns) - 1:\n",
        "        new_col.append(\"target\")\n",
        "    else :\n",
        "        new_col.append(\"feature_\" + str(i+1))\n",
        "       \n",
        "    i += 1\n",
        "   \n",
        "df_2.columns = new_col\n",
        "\n",
        "\n",
        "df_2.head()"
      ]
    },
    {
      "cell_type": "code",
      "execution_count": 26,
      "id": "4e9f0f53",
      "metadata": {},
      "outputs": [],
      "source": [
        "df_outlier_2= generate_outliers(df_2,['feature_1', 'feature_2'], percentage = 0.01, extreme_outlier = True, two_tailed= True)"
      ]
    },
    {
      "cell_type": "code",
      "execution_count": 27,
      "id": "84577bdb",
      "metadata": {},
      "outputs": [
        {
          "data": {
            "text/html": [
              "<div>\n",
              "<style scoped>\n",
              "    .dataframe tbody tr th:only-of-type {\n",
              "        vertical-align: middle;\n",
              "    }\n",
              "\n",
              "    .dataframe tbody tr th {\n",
              "        vertical-align: top;\n",
              "    }\n",
              "\n",
              "    .dataframe thead th {\n",
              "        text-align: right;\n",
              "    }\n",
              "</style>\n",
              "<table border=\"1\" class=\"dataframe\">\n",
              "  <thead>\n",
              "    <tr style=\"text-align: right;\">\n",
              "      <th></th>\n",
              "      <th>feature_1</th>\n",
              "      <th>feature_2</th>\n",
              "      <th>feature_3</th>\n",
              "      <th>feature_4</th>\n",
              "      <th>feature_5</th>\n",
              "      <th>feature_6</th>\n",
              "      <th>feature_7</th>\n",
              "      <th>feature_8</th>\n",
              "      <th>feature_9</th>\n",
              "      <th>feature_10</th>\n",
              "      <th>target</th>\n",
              "    </tr>\n",
              "  </thead>\n",
              "  <tbody>\n",
              "    <tr>\n",
              "      <th>0</th>\n",
              "      <td>0.123429</td>\n",
              "      <td>-1.253402</td>\n",
              "      <td>0.370340</td>\n",
              "      <td>0.101788</td>\n",
              "      <td>0.092628</td>\n",
              "      <td>-0.589254</td>\n",
              "      <td>0.306348</td>\n",
              "      <td>-1.458213</td>\n",
              "      <td>1.630130</td>\n",
              "      <td>1.242863</td>\n",
              "      <td>-115.512955</td>\n",
              "    </tr>\n",
              "    <tr>\n",
              "      <th>1</th>\n",
              "      <td>-0.216827</td>\n",
              "      <td>0.214983</td>\n",
              "      <td>-0.028817</td>\n",
              "      <td>-1.701140</td>\n",
              "      <td>0.264482</td>\n",
              "      <td>0.314972</td>\n",
              "      <td>0.374062</td>\n",
              "      <td>-0.292758</td>\n",
              "      <td>0.501900</td>\n",
              "      <td>0.063702</td>\n",
              "      <td>28.497776</td>\n",
              "    </tr>\n",
              "    <tr>\n",
              "      <th>2</th>\n",
              "      <td>0.388979</td>\n",
              "      <td>1.655407</td>\n",
              "      <td>-0.755792</td>\n",
              "      <td>-1.161784</td>\n",
              "      <td>-0.300860</td>\n",
              "      <td>1.048707</td>\n",
              "      <td>-0.283139</td>\n",
              "      <td>0.251474</td>\n",
              "      <td>-0.194269</td>\n",
              "      <td>-1.209477</td>\n",
              "      <td>12.046927</td>\n",
              "    </tr>\n",
              "    <tr>\n",
              "      <th>3</th>\n",
              "      <td>0.219072</td>\n",
              "      <td>-0.251552</td>\n",
              "      <td>-1.095871</td>\n",
              "      <td>-0.806520</td>\n",
              "      <td>-0.435139</td>\n",
              "      <td>2.768374</td>\n",
              "      <td>1.677201</td>\n",
              "      <td>-0.475392</td>\n",
              "      <td>-0.835870</td>\n",
              "      <td>-1.314879</td>\n",
              "      <td>201.055018</td>\n",
              "    </tr>\n",
              "    <tr>\n",
              "      <th>4</th>\n",
              "      <td>0.715734</td>\n",
              "      <td>0.383168</td>\n",
              "      <td>-0.686715</td>\n",
              "      <td>-1.236136</td>\n",
              "      <td>0.731001</td>\n",
              "      <td>1.623885</td>\n",
              "      <td>1.254338</td>\n",
              "      <td>2.394362</td>\n",
              "      <td>2.185095</td>\n",
              "      <td>0.538435</td>\n",
              "      <td>-348.258956</td>\n",
              "    </tr>\n",
              "  </tbody>\n",
              "</table>\n",
              "</div>"
            ],
            "text/plain": [
              "   feature_1  feature_2  feature_3  feature_4  feature_5  feature_6  \\\n",
              "0   0.123429  -1.253402   0.370340   0.101788   0.092628  -0.589254   \n",
              "1  -0.216827   0.214983  -0.028817  -1.701140   0.264482   0.314972   \n",
              "2   0.388979   1.655407  -0.755792  -1.161784  -0.300860   1.048707   \n",
              "3   0.219072  -0.251552  -1.095871  -0.806520  -0.435139   2.768374   \n",
              "4   0.715734   0.383168  -0.686715  -1.236136   0.731001   1.623885   \n",
              "\n",
              "   feature_7  feature_8  feature_9  feature_10      target  \n",
              "0   0.306348  -1.458213   1.630130    1.242863 -115.512955  \n",
              "1   0.374062  -0.292758   0.501900    0.063702   28.497776  \n",
              "2  -0.283139   0.251474  -0.194269   -1.209477   12.046927  \n",
              "3   1.677201  -0.475392  -0.835870   -1.314879  201.055018  \n",
              "4   1.254338   2.394362   2.185095    0.538435 -348.258956  "
            ]
          },
          "execution_count": 27,
          "metadata": {},
          "output_type": "execute_result"
        }
      ],
      "source": [
        "#Poco noise y muchos outliers\n",
        "X_3, y_3 = make_regression(n_samples = 1000,\n",
        "                       n_features = 10,\n",
        "                       noise = 200,\n",
        "                       n_informative = 5,\n",
        "                       random_state = 42)\n",
        "\n",
        "\n",
        "new_data_two= np.append(X_3,y_3.reshape(-1,1),axis=1)\n",
        "\n",
        "\n",
        "df_3 = pd.DataFrame(new_data_two)\n",
        "\n",
        "new_col = []\n",
        "i = 0\n",
        "for col in df_3.columns:\n",
        "    if i ==  len(df_3.columns) - 1:\n",
        "        new_col.append(\"target\")\n",
        "    else :\n",
        "        new_col.append(\"feature_\" + str(i+1))\n",
        "       \n",
        "    i += 1\n",
        "   \n",
        "df_3.columns = new_col\n",
        "\n",
        "\n",
        "df_3.head()\n",
        "\n"
      ]
    },
    {
      "cell_type": "code",
      "execution_count": 28,
      "metadata": {},
      "outputs": [],
      "source": [
        "#Outliers\n",
        "df_outlier_3= generate_outliers(df_3,['feature_1', 'feature_2'], percentage = 0.9, extreme_outlier = True, two_tailed= True)"
      ]
    },
    {
      "cell_type": "code",
      "execution_count": 29,
      "id": "46324218",
      "metadata": {},
      "outputs": [
        {
          "data": {
            "text/html": [
              "<div>\n",
              "<style scoped>\n",
              "    .dataframe tbody tr th:only-of-type {\n",
              "        vertical-align: middle;\n",
              "    }\n",
              "\n",
              "    .dataframe tbody tr th {\n",
              "        vertical-align: top;\n",
              "    }\n",
              "\n",
              "    .dataframe thead th {\n",
              "        text-align: right;\n",
              "    }\n",
              "</style>\n",
              "<table border=\"1\" class=\"dataframe\">\n",
              "  <thead>\n",
              "    <tr style=\"text-align: right;\">\n",
              "      <th></th>\n",
              "      <th>feature_1</th>\n",
              "      <th>feature_2</th>\n",
              "      <th>feature_3</th>\n",
              "      <th>feature_4</th>\n",
              "      <th>feature_5</th>\n",
              "      <th>feature_6</th>\n",
              "      <th>feature_7</th>\n",
              "      <th>feature_8</th>\n",
              "      <th>feature_9</th>\n",
              "      <th>feature_10</th>\n",
              "      <th>target</th>\n",
              "    </tr>\n",
              "  </thead>\n",
              "  <tbody>\n",
              "    <tr>\n",
              "      <th>0</th>\n",
              "      <td>0.123429</td>\n",
              "      <td>-1.253402</td>\n",
              "      <td>0.370340</td>\n",
              "      <td>0.101788</td>\n",
              "      <td>0.092628</td>\n",
              "      <td>-0.589254</td>\n",
              "      <td>0.306348</td>\n",
              "      <td>-1.458213</td>\n",
              "      <td>1.630130</td>\n",
              "      <td>1.242863</td>\n",
              "      <td>-115.512955</td>\n",
              "    </tr>\n",
              "    <tr>\n",
              "      <th>1</th>\n",
              "      <td>-0.216827</td>\n",
              "      <td>0.214983</td>\n",
              "      <td>-0.028817</td>\n",
              "      <td>-1.701140</td>\n",
              "      <td>0.264482</td>\n",
              "      <td>0.314972</td>\n",
              "      <td>0.374062</td>\n",
              "      <td>-0.292758</td>\n",
              "      <td>0.501900</td>\n",
              "      <td>0.063702</td>\n",
              "      <td>28.497776</td>\n",
              "    </tr>\n",
              "    <tr>\n",
              "      <th>2</th>\n",
              "      <td>0.388979</td>\n",
              "      <td>1.655407</td>\n",
              "      <td>-0.755792</td>\n",
              "      <td>-1.161784</td>\n",
              "      <td>-0.300860</td>\n",
              "      <td>1.048707</td>\n",
              "      <td>-0.283139</td>\n",
              "      <td>0.251474</td>\n",
              "      <td>-0.194269</td>\n",
              "      <td>-1.209477</td>\n",
              "      <td>12.046927</td>\n",
              "    </tr>\n",
              "    <tr>\n",
              "      <th>3</th>\n",
              "      <td>0.219072</td>\n",
              "      <td>-0.251552</td>\n",
              "      <td>-1.095871</td>\n",
              "      <td>-0.806520</td>\n",
              "      <td>-0.435139</td>\n",
              "      <td>2.768374</td>\n",
              "      <td>1.677201</td>\n",
              "      <td>-0.475392</td>\n",
              "      <td>-0.835870</td>\n",
              "      <td>-1.314879</td>\n",
              "      <td>201.055018</td>\n",
              "    </tr>\n",
              "    <tr>\n",
              "      <th>4</th>\n",
              "      <td>0.715734</td>\n",
              "      <td>0.383168</td>\n",
              "      <td>-0.686715</td>\n",
              "      <td>-1.236136</td>\n",
              "      <td>0.731001</td>\n",
              "      <td>1.623885</td>\n",
              "      <td>1.254338</td>\n",
              "      <td>2.394362</td>\n",
              "      <td>2.185095</td>\n",
              "      <td>0.538435</td>\n",
              "      <td>-348.258956</td>\n",
              "    </tr>\n",
              "  </tbody>\n",
              "</table>\n",
              "</div>"
            ],
            "text/plain": [
              "   feature_1  feature_2  feature_3  feature_4  feature_5  feature_6  \\\n",
              "0   0.123429  -1.253402   0.370340   0.101788   0.092628  -0.589254   \n",
              "1  -0.216827   0.214983  -0.028817  -1.701140   0.264482   0.314972   \n",
              "2   0.388979   1.655407  -0.755792  -1.161784  -0.300860   1.048707   \n",
              "3   0.219072  -0.251552  -1.095871  -0.806520  -0.435139   2.768374   \n",
              "4   0.715734   0.383168  -0.686715  -1.236136   0.731001   1.623885   \n",
              "\n",
              "   feature_7  feature_8  feature_9  feature_10      target  \n",
              "0   0.306348  -1.458213   1.630130    1.242863 -115.512955  \n",
              "1   0.374062  -0.292758   0.501900    0.063702   28.497776  \n",
              "2  -0.283139   0.251474  -0.194269   -1.209477   12.046927  \n",
              "3   1.677201  -0.475392  -0.835870   -1.314879  201.055018  \n",
              "4   1.254338   2.394362   2.185095    0.538435 -348.258956  "
            ]
          },
          "execution_count": 29,
          "metadata": {},
          "output_type": "execute_result"
        }
      ],
      "source": [
        "#Mucho noise y muchos outliers\n",
        "X_4, y_4 = make_regression(n_samples = 1000,\n",
        "                       n_features = 10,\n",
        "                       noise = 200,\n",
        "                       n_informative = 5,\n",
        "                       random_state = 42)\n",
        "\n",
        "\n",
        "new_data_two= np.append(X_4,y_4.reshape(-1,1),axis=1)\n",
        "\n",
        "df_4 = pd.DataFrame(new_data_two)\n",
        "\n",
        "\n",
        "new_col = []\n",
        "i = 0\n",
        "for col in df_4.columns:\n",
        "    if i ==  len(df_4.columns) - 1:\n",
        "        new_col.append(\"target\")\n",
        "    else :\n",
        "        new_col.append(\"feature_\" + str(i+1))\n",
        "       \n",
        "    i += 1\n",
        "   \n",
        "df_4.columns = new_col\n",
        "\n",
        "\n",
        "df_4.head()"
      ]
    },
    {
      "cell_type": "code",
      "execution_count": 30,
      "id": "9a4c3366",
      "metadata": {},
      "outputs": [
        {
          "name": "stdout",
          "output_type": "stream",
          "text": [
            "Mean squared error: 2039.849\n",
            "Huber coefficients [50.8147417  -0.63714064 -0.32887015 31.90918762  6.63696484  1.68303693\n",
            " 10.88823962  0.3061115  -1.73179992]\n",
            "0.6248641874382087\n"
          ]
        }
      ],
      "source": [
        "from sklearn.linear_model import LinearRegression, HuberRegressor, ElasticNet\n",
        "from sklearn.metrics import r2_score\n",
        "\n",
        "#Comparar con distintos niveles y outliers de la regresión\n",
        "\n",
        "#Split the data into training(0.8) /testing sets (0.2)\n",
        "X_1_train= df_outlier_1.iloc[:800,:-2] \n",
        "X_1_test = df_outlier_1.iloc[800:,:-2]\n",
        "\n",
        "#Split the targets into train/testing sets\n",
        "y_1_train = df_outlier_1.iloc[:800, -1]\n",
        "y_1_test = df_outlier_1.iloc[800:, -1]\n",
        "\n",
        "#Create linear regression objet\n",
        "linear_regression = LinearRegression()\n",
        "\n",
        "#Train the model using the training sets\n",
        "linear_regression.fit(X_1_train, y_1_train)\n",
        "\n",
        "#Make predictions using the testing test\n",
        "y_pred = linear_regression.predict(X_1_test)\n",
        "\n",
        "#The mean squared error\n",
        "print(\"Mean squared error: %.3f\"% mean_squared_error(y_1_test, y_pred))\n",
        "\n",
        "#Create Hubert regressor object\n",
        "huber = HuberRegressor()\n",
        "huber.fit(X_1_train, y_1_train)\n",
        "\n",
        "#Make predictios using the testing test\n",
        "y_pred_hb = huber.predict(X_1_test)\n",
        "print(\"Huber coefficients\", huber.coef_)\n",
        "\n",
        "#Create Elastinet regressor objet\n",
        "alpha = 0.1\n",
        "enet = ElasticNet(alpha = alpha, l1_ratio = 0.7)\n",
        "enet.fit(X_1_train, y_1_train)\n",
        "y_pred_enet = enet.predict(X_1_test)\n",
        "r2_score_enet = r2_score(y_1_test, y_pred_enet)\n",
        "print(r2_score_enet)"
      ]
    },
    {
      "cell_type": "code",
      "execution_count": 31,
      "id": "41fa2d43",
      "metadata": {},
      "outputs": [
        {
          "name": "stdout",
          "output_type": "stream",
          "text": [
            "Mean squared error: 56820.493\n",
            "Huber coefficients [50.8147417  -0.63714064 -0.32887015 31.90918762  6.63696484  1.68303693\n",
            " 10.88823962  0.3061115  -1.73179992]\n",
            "0.18604860182030059\n"
          ]
        }
      ],
      "source": [
        "\n",
        "#Split the data into training(0.8) /testing sets (0.2)\n",
        "X_2_train= df_outlier_2.iloc[:800,:-2] \n",
        "X_2_test = df_outlier_2.iloc[800:,:-2]\n",
        "\n",
        "#Split the targets into train/testing sets\n",
        "y_2_train = df_outlier_2.iloc[:800, -1]\n",
        "y_2_test = df_outlier_2.iloc[800:, -1]\n",
        "\n",
        "#Create linear regression objet\n",
        "linear_regression_2 = LinearRegression()\n",
        "\n",
        "#Train the model using the training sets\n",
        "linear_regression_2.fit(X_2_train, y_2_train)\n",
        "\n",
        "#Make predictions using the testing test\n",
        "y_2_pred = linear_regression.predict(X_2_test)\n",
        "\n",
        "#The mean squared error\n",
        "print(\"Mean squared error: %.3f\"% mean_squared_error(y_2_test, y_2_pred))\n",
        "\n",
        "#Create Hubert regressor object\n",
        "huber_2 = HuberRegressor()\n",
        "huber_2.fit(X_2_train, y_2_train)\n",
        "\n",
        "#Make predictios using the testing test\n",
        "y_2_pred_hb = huber.predict(X_2_test)\n",
        "print(\"Huber coefficients\", huber.coef_)\n",
        "\n",
        "#Create Elastinet regressor objet\n",
        "alpha = 0.1\n",
        "enet = ElasticNet(alpha = alpha, l1_ratio = 0.7)\n",
        "enet.fit(X_2_train, y_2_train)\n",
        "y_2_pred_enet = enet.predict(X_2_test)\n",
        "r2_score_enet = r2_score(y_2_test, y_2_pred_enet)\n",
        "print(r2_score_enet)"
      ]
    },
    {
      "cell_type": "code",
      "execution_count": 32,
      "id": "9d4c8b20",
      "metadata": {},
      "outputs": [
        {
          "name": "stdout",
          "output_type": "stream",
          "text": [
            "Mean squared error: 124334.686\n",
            "Huber coefficients [50.8147417  -0.63714064 -0.32887015 31.90918762  6.63696484  1.68303693\n",
            " 10.88823962  0.3061115  -1.73179992]\n",
            "0.17932493069186162\n"
          ]
        }
      ],
      "source": [
        "\n",
        "#Split the data into training(0.8) /testing sets (0.2)\n",
        "X_3_train= df_outlier_3.iloc[:800,:-2] \n",
        "X_3_test = df_outlier_3.iloc[800:,:-2]\n",
        "\n",
        "#Split the targets into train/testing sets\n",
        "y_3_train = df_outlier_3.iloc[:800, -1]\n",
        "y_3_test = df_outlier_3 .iloc[800:, -1]\n",
        "\n",
        "#Create linear regression objet\n",
        "linear_regression_3 = LinearRegression()\n",
        "\n",
        "#Train the model using the training sets\n",
        "linear_regression_3.fit(X_3_train, y_3_train)\n",
        "\n",
        "#Make predictions using the testing test\n",
        "y_3_pred = linear_regression.predict(X_3_test)\n",
        "\n",
        "#The mean squared error\n",
        "print(\"Mean squared error: %.3f\"% mean_squared_error(y_3_test, y_3_pred))\n",
        "\n",
        "#Create Hubert regressor object\n",
        "huber_3 = HuberRegressor()\n",
        "huber_3.fit(X_3_train, y_3_train)\n",
        "\n",
        "#Make predictios using the testing test\n",
        "y_3_pred_hb = huber.predict(X_3_test)\n",
        "print(\"Huber coefficients\", huber.coef_)\n",
        "\n",
        "#Create Elastinet regressor objet\n",
        "alpha = 0.1\n",
        "enet_3 = ElasticNet(alpha = alpha, l1_ratio = 0.7)\n",
        "enet_3.fit(X_3_train, y_3_train)\n",
        "y_3_pred_enet = enet_3.predict(X_3_test)\n",
        "r2_score_enet = r2_score(y_3_test, y_3_pred_enet)\n",
        "print(r2_score_enet)"
      ]
    },
    {
      "cell_type": "markdown",
      "id": "ee6d1602",
      "metadata": {},
      "source": [
        "## Tercera Parte (Clase 5, 6 y 7)"
      ]
    },
    {
      "cell_type": "markdown",
      "id": "ce61f3a7",
      "metadata": {},
      "source": [
        "La ultima parte la van a poder encontrar en el archivo `template_tp_integrador_tercera_parte.ipynb`"
      ]
    }
  ],
  "metadata": {
    "colab": {
      "collapsed_sections": [],
      "name": "Practica_clase_3.ipynb",
      "provenance": []
    },
    "kernelspec": {
      "display_name": ".venv",
      "language": "python",
      "name": "python3"
    },
    "language_info": {
      "codemirror_mode": {
        "name": "ipython",
        "version": 3
      },
      "file_extension": ".py",
      "mimetype": "text/x-python",
      "name": "python",
      "nbconvert_exporter": "python",
      "pygments_lexer": "ipython3",
      "version": "3.10.6"
    },
    "vscode": {
      "interpreter": {
        "hash": "ee261a9f2aeeb600dd315aa4d450b6bdd38c436c8b7b639b6f5c11ef9f457262"
      }
    }
  },
  "nbformat": 4,
  "nbformat_minor": 5
}
