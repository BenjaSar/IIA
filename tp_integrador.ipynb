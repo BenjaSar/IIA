{
  "cells": [
    {
      "attachments": {},
      "cell_type": "markdown",
      "id": "07289bb0",
      "metadata": {},
      "source": [
        "# Trabajo práctico integrador\n",
        "\n",
        "**Nombre**: Fabian S."
      ]
    },
    {
      "cell_type": "markdown",
      "id": "afa76473",
      "metadata": {},
      "source": [
        "## Primera Parte (Clase 1 y 2)"
      ]
    },
    {
      "cell_type": "code",
      "execution_count": 1,
      "id": "aaf94e0a",
      "metadata": {
        "id": "aaf94e0a"
      },
      "outputs": [],
      "source": [
        "import numpy as np\n",
        "import matplotlib.pyplot as plt "
      ]
    },
    {
      "cell_type": "markdown",
      "id": "0ffe9554",
      "metadata": {},
      "source": [
        "### Primer ejercicio\n"
      ]
    },
    {
      "cell_type": "code",
      "execution_count": 2,
      "id": "c0d46963",
      "metadata": {},
      "outputs": [
        {
          "name": "stdout",
          "output_type": "stream",
          "text": [
            "[0.84865565 0.41306402 0.30837427 0.73668989 0.16489664 0.93889667\n",
            " 0.37478102 0.31378899 0.45756847 0.78279886]\n"
          ]
        },
        {
          "data": {
            "text/plain": [
              "0.9388966669375316"
            ]
          },
          "execution_count": 2,
          "metadata": {},
          "output_type": "execute_result"
        }
      ],
      "source": [
        "#Function to calculate norm of vector with p >= 1\n",
        "def vector_norm(vector_x,p):\n",
        "\n",
        "    x_p=0\n",
        "    for j in range(len(vector_x)):\n",
        "        x_p += pow(abs(vector_x[j]), p)\n",
        "        x_final = pow(x_p, 1/p)\n",
        "    return  x_final\n",
        "\n",
        "#Infinity norm\n",
        "def norm_vector(vector_x, type):\n",
        "    if type == \"infinity\":\n",
        "        return abs(np.max(vector_x))\n",
        "    elif type == \"zero\":    \n",
        "        return np.count_nonzero(vector_x)\n",
        "    raise ValueError (\"Argumento no permitido\") \n",
        "\n",
        "x_vector = np.random.random(10)\n",
        "print(x_vector)\n",
        "l = 5\n",
        "\n",
        "vector_norm(x_vector, l)\n",
        "#zero norm of vector\n",
        "type = \"zero\"\n",
        "norm_vector(x_vector, type )\n",
        "\n",
        "#Infinite norm of vector\n",
        "type = \"infinity\"\n",
        "norm_vector(x_vector, type)"
      ]
    },
    {
      "cell_type": "markdown",
      "id": "dd66d862",
      "metadata": {},
      "source": [
        "### Segundo Ejercicio"
      ]
    },
    {
      "cell_type": "code",
      "execution_count": 3,
      "id": "794dcd58",
      "metadata": {},
      "outputs": [],
      "source": [
        "truth = np.array([1,1,0,1,1,1,0,0,0,1])\n",
        "prediction = np.array([1,1,1,1,0,0,1,1,0,0])"
      ]
    },
    {
      "cell_type": "code",
      "execution_count": 4,
      "id": "20b4173b",
      "metadata": {},
      "outputs": [
        {
          "name": "stdout",
          "output_type": "stream",
          "text": [
            "La tasa de verdaderos positivos es 3\n"
          ]
        }
      ],
      "source": [
        "true_positive_rate = np.sum((truth)&(prediction))\n",
        "print(f'La tasa de verdaderos positivos es', true_positive_rate)"
      ]
    },
    {
      "cell_type": "code",
      "execution_count": 5,
      "id": "5ffbe422",
      "metadata": {},
      "outputs": [
        {
          "name": "stdout",
          "output_type": "stream",
          "text": [
            "La tasa de verdaderos negativos es 1\n"
          ]
        }
      ],
      "source": [
        "true_negative_rate = np.sum((truth == 0)&(prediction == 0))\n",
        "print(f'La tasa de verdaderos negativos es', true_negative_rate)"
      ]
    },
    {
      "cell_type": "code",
      "execution_count": 6,
      "id": "1db0af57",
      "metadata": {},
      "outputs": [
        {
          "name": "stdout",
          "output_type": "stream",
          "text": [
            "La tasa de falsos negativos es: 3\n"
          ]
        }
      ],
      "source": [
        "false_positive_rate = np.sum((truth==1)&(prediction==1))\n",
        "print(f'La tasa de falsos negativos es:', false_positive_rate)"
      ]
    },
    {
      "cell_type": "code",
      "execution_count": 7,
      "id": "5066d70b",
      "metadata": {},
      "outputs": [
        {
          "name": "stdout",
          "output_type": "stream",
          "text": [
            "La tasa de falsos negativos es: 3\n"
          ]
        }
      ],
      "source": [
        "false_negative_rate = np.sum((truth==1)&(prediction==0))\n",
        "print(f'La tasa de falsos negativos es:', false_negative_rate)"
      ]
    },
    {
      "cell_type": "code",
      "execution_count": 8,
      "id": "bb38350b",
      "metadata": {},
      "outputs": [
        {
          "name": "stdout",
          "output_type": "stream",
          "text": [
            "La precision calculada es: 0.5\n"
          ]
        }
      ],
      "source": [
        "#Calculo de la precisión\n",
        "precision = (true_positive_rate) / (true_positive_rate + false_positive_rate)\n",
        "print(f'La precision calculada es:', precision)"
      ]
    },
    {
      "cell_type": "code",
      "execution_count": 9,
      "id": "a7c17b92",
      "metadata": {},
      "outputs": [
        {
          "name": "stdout",
          "output_type": "stream",
          "text": [
            "El valor de recall calculado es: 0.5\n"
          ]
        }
      ],
      "source": [
        "#Calculo de recall\n",
        "recall =  (true_positive_rate) / (true_positive_rate + false_negative_rate)\n",
        "print(f'El valor de recall calculado es:', recall)"
      ]
    },
    {
      "cell_type": "code",
      "execution_count": 10,
      "id": "8184f360",
      "metadata": {},
      "outputs": [
        {
          "name": "stdout",
          "output_type": "stream",
          "text": [
            "El valor de la accuracy calculada es: 0.4\n"
          ]
        }
      ],
      "source": [
        "#Calculo de accuracy\n",
        "accuracy = (true_positive_rate + true_negative_rate) / (true_positive_rate + true_negative_rate + false_positive_rate + false_negative_rate)\n",
        "print(f'El valor de la accuracy calculada es:', accuracy)"
      ]
    },
    {
      "attachments": {},
      "cell_type": "markdown",
      "id": "598f7123",
      "metadata": {},
      "source": [
        "### Tercer y Cuarto Ejercicio\n",
        "\n",
        "Para este ejercicio vamos a considerar los siguientes datasets:\n",
        "\n",
        "* [HAR](https://archive.ics.uci.edu/ml/datasets/Human+Activity+Recognition+Using+Smartphones) (Ejercicio 3)\n",
        "* [MNIST](https://scikit-learn.org/stable/modules/generated/sklearn.datasets.load_digits.html) (Ejercicio 4)\n",
        "\n",
        "1. Aplicar PCA (validar que se cumplan las condiciones), ¿Cuántas componentes necesitamos para explicar el 80% de la varianza?\n",
        "2. Gráficar la variación acumulada para cada caso.\n",
        "3. Utilizando [KMeans](https://scikit-learn.org/stable/modules/generated/sklearn.cluster.KMeans.html). Agrupar el dataset transformado (ejercicio de PCA) y agrupar en clusters de $k=6$ (ej 3) y $k=10$ (ej 4). Luego en ambos casos probar con $k=2$.\n",
        "4. Graficar los resultados con los distintos k's usando las primeras dos componentes principales como ejes x,y.\n",
        "5. Explique. ¿Cuál fue la ganancia de usar PCA en conjunto con k-means?"
      ]
    },
    {
      "cell_type": "code",
      "execution_count": null,
      "id": "8b6f099d",
      "metadata": {},
      "outputs": [],
      "source": []
    },
    {
      "cell_type": "markdown",
      "id": "7c7574fd",
      "metadata": {},
      "source": [
        "## Segunda Parte (Clase 3 y 4)"
      ]
    },
    {
      "cell_type": "code",
      "execution_count": 11,
      "id": "aaf94e0a",
      "metadata": {
        "id": "aaf94e0a"
      },
      "outputs": [],
      "source": [
        "import matplotlib.pyplot as plt\n",
        "import seaborn as sns\n",
        "\n",
        "# Entrenamiento de modelos de prueba\n",
        "from sklearn.linear_model import LinearRegression\n",
        "\n",
        "# Evaluación de modelos de prueba\n",
        "from sklearn.metrics import mean_squared_error\n",
        "\n",
        "# Crear datasets\n",
        "from sklearn.datasets import make_regression"
      ]
    },
    {
      "cell_type": "code",
      "execution_count": 12,
      "id": "65843123",
      "metadata": {
        "colab": {
          "base_uri": "https://localhost:8080/"
        },
        "id": "65843123",
        "outputId": "6589754e-2630-4c3d-cd45-b5f10ad8dc49"
      },
      "outputs": [
        {
          "data": {
            "text/plain": [
              "(1000, 2)"
            ]
          },
          "execution_count": 12,
          "metadata": {},
          "output_type": "execute_result"
        }
      ],
      "source": [
        "# Creamos un dataset de prueba\n",
        "X, y = make_regression(n_samples = 1000,\n",
        "                       n_features = 1,\n",
        "                       noise = 2,\n",
        "                       n_informative = 1,\n",
        "                       random_state = 42)\n",
        "\n",
        "new_data = np.append(X,y.reshape(-1,1),axis=1)\n",
        "new_data.shape"
      ]
    },
    {
      "cell_type": "code",
      "execution_count": 13,
      "id": "a52eSwfzCslx",
      "metadata": {
        "colab": {
          "base_uri": "https://localhost:8080/",
          "height": 206
        },
        "id": "a52eSwfzCslx",
        "outputId": "51d2ef98-ff3b-4182-966e-a03b1a14ba1a"
      },
      "outputs": [
        {
          "data": {
            "text/html": [
              "<div>\n",
              "<style scoped>\n",
              "    .dataframe tbody tr th:only-of-type {\n",
              "        vertical-align: middle;\n",
              "    }\n",
              "\n",
              "    .dataframe tbody tr th {\n",
              "        vertical-align: top;\n",
              "    }\n",
              "\n",
              "    .dataframe thead th {\n",
              "        text-align: right;\n",
              "    }\n",
              "</style>\n",
              "<table border=\"1\" class=\"dataframe\">\n",
              "  <thead>\n",
              "    <tr style=\"text-align: right;\">\n",
              "      <th></th>\n",
              "      <th>feature_1</th>\n",
              "      <th>target</th>\n",
              "    </tr>\n",
              "  </thead>\n",
              "  <tbody>\n",
              "    <tr>\n",
              "      <th>0</th>\n",
              "      <td>-1.758739</td>\n",
              "      <td>-30.118736</td>\n",
              "    </tr>\n",
              "    <tr>\n",
              "      <th>1</th>\n",
              "      <td>1.031845</td>\n",
              "      <td>14.526197</td>\n",
              "    </tr>\n",
              "    <tr>\n",
              "      <th>2</th>\n",
              "      <td>-0.487606</td>\n",
              "      <td>-10.119305</td>\n",
              "    </tr>\n",
              "    <tr>\n",
              "      <th>3</th>\n",
              "      <td>0.186454</td>\n",
              "      <td>1.700188</td>\n",
              "    </tr>\n",
              "    <tr>\n",
              "      <th>4</th>\n",
              "      <td>0.725767</td>\n",
              "      <td>12.345314</td>\n",
              "    </tr>\n",
              "  </tbody>\n",
              "</table>\n",
              "</div>"
            ],
            "text/plain": [
              "   feature_1     target\n",
              "0  -1.758739 -30.118736\n",
              "1   1.031845  14.526197\n",
              "2  -0.487606 -10.119305\n",
              "3   0.186454   1.700188\n",
              "4   0.725767  12.345314"
            ]
          },
          "execution_count": 13,
          "metadata": {},
          "output_type": "execute_result"
        }
      ],
      "source": [
        "import pandas as pd\n",
        "df = pd.DataFrame(new_data)\n",
        "\n",
        "new_col = []\n",
        "i = 0\n",
        "for col in df.columns:\n",
        "    if i ==  len(df.columns) - 1:\n",
        "        new_col.append(\"target\")\n",
        "    else :\n",
        "        new_col.append(\"feature_\" + str(i+1))\n",
        "        \n",
        "    i += 1\n",
        "    \n",
        "df.columns = new_col\n",
        "\n",
        "df.head()"
      ]
    },
    {
      "cell_type": "code",
      "execution_count": 14,
      "id": "CBb_QmSZCPFZ",
      "metadata": {
        "colab": {
          "base_uri": "https://localhost:8080/",
          "height": 374
        },
        "id": "CBb_QmSZCPFZ",
        "outputId": "a7c8b051-581d-4267-8bad-5db770be6740"
      },
      "outputs": [
        {
          "data": {
            "image/png": "[encoded data removed]",
            "text/plain": [
              "<Figure size 2200x600 with 2 Axes>"
            ]
          },
          "metadata": {},
          "output_type": "display_data"
        }
      ],
      "source": [
        "fig,axes = plt.subplots(2,figsize=(22,6))\n",
        "axes[0].scatter(X,y)\n",
        "sns.histplot(X, ax=axes[1]);"
      ]
    },
    {
      "cell_type": "markdown",
      "id": "zTvu6e3KhEKG",
      "metadata": {
        "id": "zTvu6e3KhEKG"
      },
      "source": [
        "### Funciones auxiliares para generar datos anómalos"
      ]
    },
    {
      "cell_type": "code",
      "execution_count": 15,
      "id": "_LqDjS8chDkY",
      "metadata": {
        "id": "_LqDjS8chDkY"
      },
      "outputs": [],
      "source": [
        "def generate_outliers(df: pd.DataFrame,\n",
        "                     cols: list = None,\n",
        "                     extreme_outlier: bool = False,\n",
        "                     two_tailed: bool = False,\n",
        "                     percentage: float = 0.02) -> pd.DataFrame:\n",
        "  \"\"\"Con esta función vamos a poder generar outliers en ciertas columnas de nuestro\n",
        "  dataset. Si le damos True a _extreme_outlier_ va a generar outliers con mucho\n",
        "  peso en la regresión (puede ser bilateral o unilateral segun _two_tailed_)\n",
        "  \"\"\"  \n",
        "  seeds = np.random.randint(100, size = len(df))\n",
        "  \n",
        "  nsamples = np.math.floor(len(df) * percentage)\n",
        "  idx_to_change = df.sample(n = nsamples).index\n",
        "\n",
        "  cols = df.columns.tolist() if cols is None else cols\n",
        "\n",
        "  result = df.copy(deep = True)\n",
        "  \n",
        "  for i,col_name in enumerate(cols):\n",
        "    np.random.seed(seeds[i])\n",
        "\n",
        "    iqr = result[col_name].quantile(0.75) - result[col_name].quantile(0.25)\n",
        "\n",
        "    lb = result[col_name].quantile(0.25) - 1 * iqr\n",
        "    ub = result[col_name].quantile(0.75) + 1 * iqr\n",
        "\n",
        "    if two_tailed:\n",
        "      outs = result[col_name].loc[(result[col_name] < lb) | (result[col_name] > ub)]\n",
        "    else:\n",
        "      outs = result[col_name].loc[(result[col_name] > ub)]\n",
        "    \n",
        "    out_size = len(outs)\n",
        "    if out_size < nsamples:\n",
        "      nsamples = out_size\n",
        "\n",
        "    idx_to_change = outs.sample(nsamples, replace = False).index\n",
        "    \n",
        "    if extreme_outlier:\n",
        "      outlier_sign = [1 if np.random.random() < 0.9 else -1 for _ in range(nsamples)]\n",
        "      \n",
        "      result[col_name].loc[idx_to_change] = np.multiply(outlier_sign,\n",
        "                                                        np.random.uniform(low = result[col_name].mean(),\n",
        "                                                                          high = result[col_name].max()*5,\n",
        "                                                                          size = nsamples)\n",
        "                                                        )\n",
        "      result['target'].loc[idx_to_change] = np.multiply(outlier_sign,\n",
        "                                                        np.random.uniform(low = result['target'].mean(),\n",
        "                                                                          high = result['target'].max()*2,\n",
        "                                                                          size = nsamples)\n",
        "                                                        )\n",
        "    else:\n",
        "      samples = result[col_name].loc[idx_to_change].values\n",
        "      np.random.shuffle(samples)\n",
        "      result[col_name].loc[idx_to_change] = samples\n",
        "  \n",
        "  return result"
      ]
    },
    {
      "cell_type": "code",
      "execution_count": 16,
      "id": "mmnwCbF1gugP",
      "metadata": {
        "colab": {
          "base_uri": "https://localhost:8080/"
        },
        "id": "mmnwCbF1gugP",
        "outputId": "a27810fe-1f0f-40ef-99ac-dace0fc0eb92"
      },
      "outputs": [],
      "source": [
        "df_outlier = generate_outliers(df,['feature_1'], percentage = 0.05, extreme_outlier = True, two_tailed= True)"
      ]
    },
    {
      "cell_type": "code",
      "execution_count": 17,
      "id": "7b520928",
      "metadata": {},
      "outputs": [
        {
          "data": {
            "text/plain": [
              "<seaborn.axisgrid.FacetGrid at 0x7f9aa8fa19c0>"
            ]
          },
          "execution_count": 17,
          "metadata": {},
          "output_type": "execute_result"
        },
        {
          "data": {
            "image/png": "[encoded data removed]",
            "text/plain": [
              "<Figure size 580x500 with 1 Axes>"
            ]
          },
          "metadata": {},
          "output_type": "display_data"
        }
      ],
      "source": [
        "sns.lmplot(data = pd.concat([df.assign(dataset = 'set1'),\n",
        "                                 df_outlier.assign(dataset = 'set2')]),\n",
        "                x = 'feature_1',\n",
        "                y = 'target',\n",
        "                hue = 'dataset')"
      ]
    },
    {
      "cell_type": "markdown",
      "id": "N_XkGtvw7J-i",
      "metadata": {
        "id": "N_XkGtvw7J-i"
      },
      "source": [
        "### Quinto ejercicio\n",
        "\n",
        "Crear una función que separe los datos en train-validation-test 70-20-10\n",
        "\n",
        "\n",
        "Hints: \n",
        "\n",
        "* Usar Indexing y slicing\n",
        "* Usar np.random.[...]"
      ]
    },
    {
      "cell_type": "code",
      "execution_count": 18,
      "id": "4911ceb6",
      "metadata": {},
      "outputs": [
        {
          "data": {
            "text/plain": [
              "(25, 5)"
            ]
          },
          "execution_count": 18,
          "metadata": {},
          "output_type": "execute_result"
        }
      ],
      "source": [
        "import pandas as pd\n",
        "#Generacion de datasets\n",
        "df_generado = pd.DataFrame(np.random.randint(0,25, size=(25,5)), columns=['Feature1', 'Feature2', 'Feature3', 'Feature4', 'Target'])\n",
        "df_generado\n",
        "df_generado.shape"
      ]
    },
    {
      "cell_type": "code",
      "execution_count": 19,
      "id": "yIOYdDHz7Jkp",
      "metadata": {
        "id": "yIOYdDHz7Jkp"
      },
      "outputs": [],
      "source": [
        "def split(df: pd.DataFrame):\n",
        "    df_shuffled = df.sample(frac=1)\n",
        "    #sp => Split factor\n",
        "    sf_train = 0.7\n",
        "    sf_test = 0.9\n",
        "\n",
        "    X = df_shuffled[0:len(df_shuffled), :df_shuffled.shape[1]-1]\n",
        "    Y = df_shuffled[0:len(df_shuffled), df_shuffled.shape[1]-1:]\n",
        "    #Divide features and target\n",
        "    X_train, X_test, X_val = X[0:int(sf_train*len(X))], X[int(sf_train*len(X)):int(sf_test*len(X))], X[int(sf_test*len(X)):]  \n",
        "    Y_train, Y_test, Y_val = Y[0:int(sf_train*len(Y))], Y[int(sf_train*len(Y)):int(sf_test*len(Y))], Y[int(sf_test*len(Y)):]  \n",
        "\n",
        "    return X_train, X_val, X_test, Y_train, Y_val, Y_test"
      ]
    },
    {
      "attachments": {},
      "cell_type": "markdown",
      "id": "b77ad81a",
      "metadata": {
        "id": "b77ad81a"
      },
      "source": [
        "### Sexto ejercicio\n",
        "\n",
        "Utilizando la funcion `generate_outliers` generar puntos extremos dentro de los datos que generamos anteriormente. En este ejercicio dejar setteado `extreme_outliers` como `False` y observe como variando el porcentaje de los mismos la regresión comienza a afectarse.\n",
        "\n",
        "Pasos:\n",
        "\n",
        "\n",
        "1. Generar datasets:\n",
        "    - Uno normal con poco `noise` y pocos outliers\n",
        "    - Uno con mucho `noise` y pocos outliers\n",
        "    - Uno con poco `noise` y muchos outliers\n",
        "    - Uno con mucho `noise` y muchos outliers\n",
        "2. Probar los distintos regresores a ver como se comportan frente a estos datasets anómalos.\n",
        "3. Comparar y analizar resultados."
      ]
    },
    {
      "cell_type": "code",
      "execution_count": 20,
      "id": "25e7924e",
      "metadata": {},
      "outputs": [
        {
          "data": {
            "text/html": [
              "<div>\n",
              "<style scoped>\n",
              "    .dataframe tbody tr th:only-of-type {\n",
              "        vertical-align: middle;\n",
              "    }\n",
              "\n",
              "    .dataframe tbody tr th {\n",
              "        vertical-align: top;\n",
              "    }\n",
              "\n",
              "    .dataframe thead th {\n",
              "        text-align: right;\n",
              "    }\n",
              "</style>\n",
              "<table border=\"1\" class=\"dataframe\">\n",
              "  <thead>\n",
              "    <tr style=\"text-align: right;\">\n",
              "      <th></th>\n",
              "      <th>feature_1</th>\n",
              "      <th>feature_2</th>\n",
              "      <th>feature_3</th>\n",
              "      <th>feature_4</th>\n",
              "      <th>feature_5</th>\n",
              "      <th>feature_6</th>\n",
              "      <th>feature_7</th>\n",
              "      <th>feature_8</th>\n",
              "      <th>feature_9</th>\n",
              "      <th>feature_10</th>\n",
              "      <th>target</th>\n",
              "    </tr>\n",
              "  </thead>\n",
              "  <tbody>\n",
              "    <tr>\n",
              "      <th>0</th>\n",
              "      <td>-0.926930</td>\n",
              "      <td>-1.430141</td>\n",
              "      <td>1.632411</td>\n",
              "      <td>-3.241267</td>\n",
              "      <td>-1.247783</td>\n",
              "      <td>-1.024388</td>\n",
              "      <td>0.130741</td>\n",
              "      <td>-0.059525</td>\n",
              "      <td>-0.252568</td>\n",
              "      <td>-0.440044</td>\n",
              "      <td>-273.778317</td>\n",
              "    </tr>\n",
              "    <tr>\n",
              "      <th>1</th>\n",
              "      <td>0.202923</td>\n",
              "      <td>0.334457</td>\n",
              "      <td>0.285865</td>\n",
              "      <td>1.547505</td>\n",
              "      <td>-0.387702</td>\n",
              "      <td>1.795878</td>\n",
              "      <td>2.010205</td>\n",
              "      <td>-1.515744</td>\n",
              "      <td>-0.612789</td>\n",
              "      <td>0.658544</td>\n",
              "      <td>207.175658</td>\n",
              "    </tr>\n",
              "    <tr>\n",
              "      <th>2</th>\n",
              "      <td>-0.241236</td>\n",
              "      <td>0.456753</td>\n",
              "      <td>0.342725</td>\n",
              "      <td>-1.251539</td>\n",
              "      <td>1.117296</td>\n",
              "      <td>1.443765</td>\n",
              "      <td>0.447709</td>\n",
              "      <td>0.352055</td>\n",
              "      <td>-0.082151</td>\n",
              "      <td>0.569767</td>\n",
              "      <td>80.483366</td>\n",
              "    </tr>\n",
              "    <tr>\n",
              "      <th>3</th>\n",
              "      <td>0.289775</td>\n",
              "      <td>-1.008086</td>\n",
              "      <td>-2.038125</td>\n",
              "      <td>0.871125</td>\n",
              "      <td>-0.408075</td>\n",
              "      <td>-0.326024</td>\n",
              "      <td>-0.351513</td>\n",
              "      <td>2.075401</td>\n",
              "      <td>1.201214</td>\n",
              "      <td>-1.870792</td>\n",
              "      <td>70.243255</td>\n",
              "    </tr>\n",
              "    <tr>\n",
              "      <th>4</th>\n",
              "      <td>-0.007973</td>\n",
              "      <td>-0.190339</td>\n",
              "      <td>-1.037246</td>\n",
              "      <td>0.077368</td>\n",
              "      <td>0.538910</td>\n",
              "      <td>-0.861284</td>\n",
              "      <td>-1.382800</td>\n",
              "      <td>1.479944</td>\n",
              "      <td>1.523124</td>\n",
              "      <td>-0.875618</td>\n",
              "      <td>-36.779252</td>\n",
              "    </tr>\n",
              "  </tbody>\n",
              "</table>\n",
              "</div>"
            ],
            "text/plain": [
              "   feature_1  feature_2  feature_3  feature_4  feature_5  feature_6  \\\n",
              "0  -0.926930  -1.430141   1.632411  -3.241267  -1.247783  -1.024388   \n",
              "1   0.202923   0.334457   0.285865   1.547505  -0.387702   1.795878   \n",
              "2  -0.241236   0.456753   0.342725  -1.251539   1.117296   1.443765   \n",
              "3   0.289775  -1.008086  -2.038125   0.871125  -0.408075  -0.326024   \n",
              "4  -0.007973  -0.190339  -1.037246   0.077368   0.538910  -0.861284   \n",
              "\n",
              "   feature_7  feature_8  feature_9  feature_10      target  \n",
              "0   0.130741  -0.059525  -0.252568   -0.440044 -273.778317  \n",
              "1   2.010205  -1.515744  -0.612789    0.658544  207.175658  \n",
              "2   0.447709   0.352055  -0.082151    0.569767   80.483366  \n",
              "3  -0.351513   2.075401   1.201214   -1.870792   70.243255  \n",
              "4  -1.382800   1.479944   1.523124   -0.875618  -36.779252  "
            ]
          },
          "execution_count": 20,
          "metadata": {},
          "output_type": "execute_result"
        }
      ],
      "source": [
        "# Creamos un dataset de prueba\n",
        "## Utilicen mas `n_features` > 1 y n_informative mas o menos la mitad de n_features\n",
        "#Poco noise y pocos outliers\n",
        "X_1, y_1 = make_regression(n_samples = 100,\n",
        "                       n_features = 10,\n",
        "                       noise = 20,\n",
        "                       n_informative = 5,\n",
        "                       random_state = 42)\n",
        "\n",
        "\n",
        "new_data = np.append(X_1,y_1.reshape(-1,1),axis=1)\n",
        "\n",
        "\n",
        "df1 = pd.DataFrame(new_data)\n",
        "\n",
        "\n",
        "new_col = []\n",
        "i = 0\n",
        "for col in df1.columns:\n",
        "    if i ==  len(df1.columns) - 1:\n",
        "        new_col.append(\"target\")\n",
        "    else :\n",
        "        new_col.append(\"feature_\" + str(i+1))\n",
        "       \n",
        "    i += 1\n",
        "   \n",
        "df1.columns = new_col\n",
        "\n",
        "df1.head()"
      ]
    },
    {
      "cell_type": "code",
      "execution_count": 21,
      "id": "76b6d864",
      "metadata": {},
      "outputs": [],
      "source": [
        "df1_outlier = generate_outliers(df1,['feature_1'], percentage = 0.1, extreme_outlier = False, two_tailed= True)"
      ]
    },
    {
      "cell_type": "code",
      "execution_count": 22,
      "id": "877bfa74",
      "metadata": {},
      "outputs": [
        {
          "data": {
            "text/html": [
              "<div>\n",
              "<style scoped>\n",
              "    .dataframe tbody tr th:only-of-type {\n",
              "        vertical-align: middle;\n",
              "    }\n",
              "\n",
              "    .dataframe tbody tr th {\n",
              "        vertical-align: top;\n",
              "    }\n",
              "\n",
              "    .dataframe thead th {\n",
              "        text-align: right;\n",
              "    }\n",
              "</style>\n",
              "<table border=\"1\" class=\"dataframe\">\n",
              "  <thead>\n",
              "    <tr style=\"text-align: right;\">\n",
              "      <th></th>\n",
              "      <th>feature_1</th>\n",
              "      <th>feature_2</th>\n",
              "      <th>feature_3</th>\n",
              "      <th>feature_4</th>\n",
              "      <th>feature_5</th>\n",
              "      <th>feature_6</th>\n",
              "      <th>feature_7</th>\n",
              "      <th>feature_8</th>\n",
              "      <th>feature_9</th>\n",
              "      <th>feature_10</th>\n",
              "      <th>target</th>\n",
              "    </tr>\n",
              "  </thead>\n",
              "  <tbody>\n",
              "    <tr>\n",
              "      <th>0</th>\n",
              "      <td>-0.926930</td>\n",
              "      <td>-1.430141</td>\n",
              "      <td>1.632411</td>\n",
              "      <td>-3.241267</td>\n",
              "      <td>-1.247783</td>\n",
              "      <td>-1.024388</td>\n",
              "      <td>0.130741</td>\n",
              "      <td>-0.059525</td>\n",
              "      <td>-0.252568</td>\n",
              "      <td>-0.440044</td>\n",
              "      <td>-77.390018</td>\n",
              "    </tr>\n",
              "    <tr>\n",
              "      <th>1</th>\n",
              "      <td>0.202923</td>\n",
              "      <td>0.334457</td>\n",
              "      <td>0.285865</td>\n",
              "      <td>1.547505</td>\n",
              "      <td>-0.387702</td>\n",
              "      <td>1.795878</td>\n",
              "      <td>2.010205</td>\n",
              "      <td>-1.515744</td>\n",
              "      <td>-0.612789</td>\n",
              "      <td>0.658544</td>\n",
              "      <td>172.976668</td>\n",
              "    </tr>\n",
              "    <tr>\n",
              "      <th>2</th>\n",
              "      <td>-0.241236</td>\n",
              "      <td>0.456753</td>\n",
              "      <td>0.342725</td>\n",
              "      <td>-1.251539</td>\n",
              "      <td>1.117296</td>\n",
              "      <td>1.443765</td>\n",
              "      <td>0.447709</td>\n",
              "      <td>0.352055</td>\n",
              "      <td>-0.082151</td>\n",
              "      <td>0.569767</td>\n",
              "      <td>609.278879</td>\n",
              "    </tr>\n",
              "    <tr>\n",
              "      <th>3</th>\n",
              "      <td>0.289775</td>\n",
              "      <td>-1.008086</td>\n",
              "      <td>-2.038125</td>\n",
              "      <td>0.871125</td>\n",
              "      <td>-0.408075</td>\n",
              "      <td>-0.326024</td>\n",
              "      <td>-0.351513</td>\n",
              "      <td>2.075401</td>\n",
              "      <td>1.201214</td>\n",
              "      <td>-1.870792</td>\n",
              "      <td>137.613665</td>\n",
              "    </tr>\n",
              "    <tr>\n",
              "      <th>4</th>\n",
              "      <td>-0.007973</td>\n",
              "      <td>-0.190339</td>\n",
              "      <td>-1.037246</td>\n",
              "      <td>0.077368</td>\n",
              "      <td>0.538910</td>\n",
              "      <td>-0.861284</td>\n",
              "      <td>-1.382800</td>\n",
              "      <td>1.479944</td>\n",
              "      <td>1.523124</td>\n",
              "      <td>-0.875618</td>\n",
              "      <td>-45.855365</td>\n",
              "    </tr>\n",
              "  </tbody>\n",
              "</table>\n",
              "</div>"
            ],
            "text/plain": [
              "   feature_1  feature_2  feature_3  feature_4  feature_5  feature_6  \\\n",
              "0  -0.926930  -1.430141   1.632411  -3.241267  -1.247783  -1.024388   \n",
              "1   0.202923   0.334457   0.285865   1.547505  -0.387702   1.795878   \n",
              "2  -0.241236   0.456753   0.342725  -1.251539   1.117296   1.443765   \n",
              "3   0.289775  -1.008086  -2.038125   0.871125  -0.408075  -0.326024   \n",
              "4  -0.007973  -0.190339  -1.037246   0.077368   0.538910  -0.861284   \n",
              "\n",
              "   feature_7  feature_8  feature_9  feature_10      target  \n",
              "0   0.130741  -0.059525  -0.252568   -0.440044  -77.390018  \n",
              "1   2.010205  -1.515744  -0.612789    0.658544  172.976668  \n",
              "2   0.447709   0.352055  -0.082151    0.569767  609.278879  \n",
              "3  -0.351513   2.075401   1.201214   -1.870792  137.613665  \n",
              "4  -1.382800   1.479944   1.523124   -0.875618  -45.855365  "
            ]
          },
          "execution_count": 22,
          "metadata": {},
          "output_type": "execute_result"
        }
      ],
      "source": [
        "#Mucho noise y pocos outliers\n",
        "X_2, y_2 = make_regression(n_samples = 100,\n",
        "                       n_features = 10,\n",
        "                       noise = 200,\n",
        "                       n_informative = 5,\n",
        "                       random_state = 42)\n",
        "\n",
        "\n",
        "new_data_two= np.append(X_2,y_2.reshape(-1,1),axis=1)\n",
        "\n",
        "\n",
        "df2 = pd.DataFrame(new_data_two)\n",
        "\n",
        "\n",
        "new_col = []\n",
        "i = 0\n",
        "for col in df2.columns:\n",
        "    if i ==  len(df2.columns) - 1:\n",
        "        new_col.append(\"target\")\n",
        "    else :\n",
        "        new_col.append(\"feature_\" + str(i+1))\n",
        "       \n",
        "    i += 1\n",
        "   \n",
        "df2.columns = new_col\n",
        "\n",
        "\n",
        "df2.head()"
      ]
    },
    {
      "cell_type": "code",
      "execution_count": 23,
      "id": "4e9f0f53",
      "metadata": {},
      "outputs": [],
      "source": [
        "poco_outlier = 0.01\n",
        "df2_outlier= generate_outliers(df2,['feature_1'], percentage = poco_outlier, extreme_outlier = False, two_tailed= True)"
      ]
    },
    {
      "cell_type": "code",
      "execution_count": 24,
      "id": "84577bdb",
      "metadata": {},
      "outputs": [
        {
          "data": {
            "text/html": [
              "<div>\n",
              "<style scoped>\n",
              "    .dataframe tbody tr th:only-of-type {\n",
              "        vertical-align: middle;\n",
              "    }\n",
              "\n",
              "    .dataframe tbody tr th {\n",
              "        vertical-align: top;\n",
              "    }\n",
              "\n",
              "    .dataframe thead th {\n",
              "        text-align: right;\n",
              "    }\n",
              "</style>\n",
              "<table border=\"1\" class=\"dataframe\">\n",
              "  <thead>\n",
              "    <tr style=\"text-align: right;\">\n",
              "      <th></th>\n",
              "      <th>feature_1</th>\n",
              "      <th>feature_2</th>\n",
              "      <th>feature_3</th>\n",
              "      <th>feature_4</th>\n",
              "      <th>feature_5</th>\n",
              "      <th>feature_6</th>\n",
              "      <th>feature_7</th>\n",
              "      <th>feature_8</th>\n",
              "      <th>feature_9</th>\n",
              "      <th>feature_10</th>\n",
              "      <th>target</th>\n",
              "    </tr>\n",
              "  </thead>\n",
              "  <tbody>\n",
              "    <tr>\n",
              "      <th>0</th>\n",
              "      <td>-0.926930</td>\n",
              "      <td>-1.430141</td>\n",
              "      <td>1.632411</td>\n",
              "      <td>-3.241267</td>\n",
              "      <td>-1.247783</td>\n",
              "      <td>-1.024388</td>\n",
              "      <td>0.130741</td>\n",
              "      <td>-0.059525</td>\n",
              "      <td>-0.252568</td>\n",
              "      <td>-0.440044</td>\n",
              "      <td>-77.390018</td>\n",
              "    </tr>\n",
              "    <tr>\n",
              "      <th>1</th>\n",
              "      <td>0.202923</td>\n",
              "      <td>0.334457</td>\n",
              "      <td>0.285865</td>\n",
              "      <td>1.547505</td>\n",
              "      <td>-0.387702</td>\n",
              "      <td>1.795878</td>\n",
              "      <td>2.010205</td>\n",
              "      <td>-1.515744</td>\n",
              "      <td>-0.612789</td>\n",
              "      <td>0.658544</td>\n",
              "      <td>172.976668</td>\n",
              "    </tr>\n",
              "    <tr>\n",
              "      <th>2</th>\n",
              "      <td>-0.241236</td>\n",
              "      <td>0.456753</td>\n",
              "      <td>0.342725</td>\n",
              "      <td>-1.251539</td>\n",
              "      <td>1.117296</td>\n",
              "      <td>1.443765</td>\n",
              "      <td>0.447709</td>\n",
              "      <td>0.352055</td>\n",
              "      <td>-0.082151</td>\n",
              "      <td>0.569767</td>\n",
              "      <td>609.278879</td>\n",
              "    </tr>\n",
              "    <tr>\n",
              "      <th>3</th>\n",
              "      <td>0.289775</td>\n",
              "      <td>-1.008086</td>\n",
              "      <td>-2.038125</td>\n",
              "      <td>0.871125</td>\n",
              "      <td>-0.408075</td>\n",
              "      <td>-0.326024</td>\n",
              "      <td>-0.351513</td>\n",
              "      <td>2.075401</td>\n",
              "      <td>1.201214</td>\n",
              "      <td>-1.870792</td>\n",
              "      <td>137.613665</td>\n",
              "    </tr>\n",
              "    <tr>\n",
              "      <th>4</th>\n",
              "      <td>-0.007973</td>\n",
              "      <td>-0.190339</td>\n",
              "      <td>-1.037246</td>\n",
              "      <td>0.077368</td>\n",
              "      <td>0.538910</td>\n",
              "      <td>-0.861284</td>\n",
              "      <td>-1.382800</td>\n",
              "      <td>1.479944</td>\n",
              "      <td>1.523124</td>\n",
              "      <td>-0.875618</td>\n",
              "      <td>-45.855365</td>\n",
              "    </tr>\n",
              "  </tbody>\n",
              "</table>\n",
              "</div>"
            ],
            "text/plain": [
              "   feature_1  feature_2  feature_3  feature_4  feature_5  feature_6  \\\n",
              "0  -0.926930  -1.430141   1.632411  -3.241267  -1.247783  -1.024388   \n",
              "1   0.202923   0.334457   0.285865   1.547505  -0.387702   1.795878   \n",
              "2  -0.241236   0.456753   0.342725  -1.251539   1.117296   1.443765   \n",
              "3   0.289775  -1.008086  -2.038125   0.871125  -0.408075  -0.326024   \n",
              "4  -0.007973  -0.190339  -1.037246   0.077368   0.538910  -0.861284   \n",
              "\n",
              "   feature_7  feature_8  feature_9  feature_10      target  \n",
              "0   0.130741  -0.059525  -0.252568   -0.440044  -77.390018  \n",
              "1   2.010205  -1.515744  -0.612789    0.658544  172.976668  \n",
              "2   0.447709   0.352055  -0.082151    0.569767  609.278879  \n",
              "3  -0.351513   2.075401   1.201214   -1.870792  137.613665  \n",
              "4  -1.382800   1.479944   1.523124   -0.875618  -45.855365  "
            ]
          },
          "execution_count": 24,
          "metadata": {},
          "output_type": "execute_result"
        }
      ],
      "source": [
        "#Poco noise y muchos outliers\n",
        "X_3, y_3 = make_regression(n_samples = 100,\n",
        "                       n_features = 10,\n",
        "                       noise = 200,\n",
        "                       n_informative = 5,\n",
        "                       random_state = 42)\n",
        "\n",
        "\n",
        "new_data_two= np.append(X_3,y_3.reshape(-1,1),axis=1)\n",
        "\n",
        "\n",
        "df3 = pd.DataFrame(new_data_two)\n",
        "\n",
        "new_col = []\n",
        "i = 0\n",
        "for col in df3.columns:\n",
        "    if i ==  len(df3.columns) - 1:\n",
        "        new_col.append(\"target\")\n",
        "    else :\n",
        "        new_col.append(\"feature_\" + str(i+1))\n",
        "       \n",
        "    i += 1\n",
        "   \n",
        "df3.columns = new_col\n",
        "\n",
        "\n",
        "df3.head()\n",
        "\n"
      ]
    },
    {
      "cell_type": "code",
      "execution_count": 25,
      "metadata": {},
      "outputs": [],
      "source": [
        "#Outliers\n",
        "muchos_outliers = 0.6\n",
        "df3_outlier= generate_outliers(df3,['feature_1'], percentage = muchos_outliers, extreme_outlier = False, two_tailed= True)"
      ]
    },
    {
      "cell_type": "code",
      "execution_count": 26,
      "id": "46324218",
      "metadata": {},
      "outputs": [
        {
          "data": {
            "text/html": [
              "<div>\n",
              "<style scoped>\n",
              "    .dataframe tbody tr th:only-of-type {\n",
              "        vertical-align: middle;\n",
              "    }\n",
              "\n",
              "    .dataframe tbody tr th {\n",
              "        vertical-align: top;\n",
              "    }\n",
              "\n",
              "    .dataframe thead th {\n",
              "        text-align: right;\n",
              "    }\n",
              "</style>\n",
              "<table border=\"1\" class=\"dataframe\">\n",
              "  <thead>\n",
              "    <tr style=\"text-align: right;\">\n",
              "      <th></th>\n",
              "      <th>feature_1</th>\n",
              "      <th>feature_2</th>\n",
              "      <th>feature_3</th>\n",
              "      <th>feature_4</th>\n",
              "      <th>feature_5</th>\n",
              "      <th>feature_6</th>\n",
              "      <th>feature_7</th>\n",
              "      <th>feature_8</th>\n",
              "      <th>feature_9</th>\n",
              "      <th>feature_10</th>\n",
              "      <th>target</th>\n",
              "    </tr>\n",
              "  </thead>\n",
              "  <tbody>\n",
              "    <tr>\n",
              "      <th>0</th>\n",
              "      <td>-0.926930</td>\n",
              "      <td>-1.430141</td>\n",
              "      <td>1.632411</td>\n",
              "      <td>-3.241267</td>\n",
              "      <td>-1.247783</td>\n",
              "      <td>-1.024388</td>\n",
              "      <td>0.130741</td>\n",
              "      <td>-0.059525</td>\n",
              "      <td>-0.252568</td>\n",
              "      <td>-0.440044</td>\n",
              "      <td>-77.390018</td>\n",
              "    </tr>\n",
              "    <tr>\n",
              "      <th>1</th>\n",
              "      <td>0.202923</td>\n",
              "      <td>0.334457</td>\n",
              "      <td>0.285865</td>\n",
              "      <td>1.547505</td>\n",
              "      <td>-0.387702</td>\n",
              "      <td>1.795878</td>\n",
              "      <td>2.010205</td>\n",
              "      <td>-1.515744</td>\n",
              "      <td>-0.612789</td>\n",
              "      <td>0.658544</td>\n",
              "      <td>172.976668</td>\n",
              "    </tr>\n",
              "    <tr>\n",
              "      <th>2</th>\n",
              "      <td>-0.241236</td>\n",
              "      <td>0.456753</td>\n",
              "      <td>0.342725</td>\n",
              "      <td>-1.251539</td>\n",
              "      <td>1.117296</td>\n",
              "      <td>1.443765</td>\n",
              "      <td>0.447709</td>\n",
              "      <td>0.352055</td>\n",
              "      <td>-0.082151</td>\n",
              "      <td>0.569767</td>\n",
              "      <td>609.278879</td>\n",
              "    </tr>\n",
              "    <tr>\n",
              "      <th>3</th>\n",
              "      <td>0.289775</td>\n",
              "      <td>-1.008086</td>\n",
              "      <td>-2.038125</td>\n",
              "      <td>0.871125</td>\n",
              "      <td>-0.408075</td>\n",
              "      <td>-0.326024</td>\n",
              "      <td>-0.351513</td>\n",
              "      <td>2.075401</td>\n",
              "      <td>1.201214</td>\n",
              "      <td>-1.870792</td>\n",
              "      <td>137.613665</td>\n",
              "    </tr>\n",
              "    <tr>\n",
              "      <th>4</th>\n",
              "      <td>-0.007973</td>\n",
              "      <td>-0.190339</td>\n",
              "      <td>-1.037246</td>\n",
              "      <td>0.077368</td>\n",
              "      <td>0.538910</td>\n",
              "      <td>-0.861284</td>\n",
              "      <td>-1.382800</td>\n",
              "      <td>1.479944</td>\n",
              "      <td>1.523124</td>\n",
              "      <td>-0.875618</td>\n",
              "      <td>-45.855365</td>\n",
              "    </tr>\n",
              "  </tbody>\n",
              "</table>\n",
              "</div>"
            ],
            "text/plain": [
              "   feature_1  feature_2  feature_3  feature_4  feature_5  feature_6  \\\n",
              "0  -0.926930  -1.430141   1.632411  -3.241267  -1.247783  -1.024388   \n",
              "1   0.202923   0.334457   0.285865   1.547505  -0.387702   1.795878   \n",
              "2  -0.241236   0.456753   0.342725  -1.251539   1.117296   1.443765   \n",
              "3   0.289775  -1.008086  -2.038125   0.871125  -0.408075  -0.326024   \n",
              "4  -0.007973  -0.190339  -1.037246   0.077368   0.538910  -0.861284   \n",
              "\n",
              "   feature_7  feature_8  feature_9  feature_10      target  \n",
              "0   0.130741  -0.059525  -0.252568   -0.440044  -77.390018  \n",
              "1   2.010205  -1.515744  -0.612789    0.658544  172.976668  \n",
              "2   0.447709   0.352055  -0.082151    0.569767  609.278879  \n",
              "3  -0.351513   2.075401   1.201214   -1.870792  137.613665  \n",
              "4  -1.382800   1.479944   1.523124   -0.875618  -45.855365  "
            ]
          },
          "execution_count": 26,
          "metadata": {},
          "output_type": "execute_result"
        }
      ],
      "source": [
        "#Mucho noise y muchos outliers\n",
        "X_4, y_4 = make_regression(n_samples = 100,\n",
        "                       n_features = 10,\n",
        "                       noise = 200,\n",
        "                       n_informative = 5,\n",
        "                       random_state = 42)\n",
        "\n",
        "\n",
        "new_data_two= np.append(X_4,y_4.reshape(-1,1),axis=1)\n",
        "\n",
        "df4 = pd.DataFrame(new_data_two)\n",
        "\n",
        "new_col = []\n",
        "i = 0\n",
        "for col in df4.columns:\n",
        "    if i ==  len(df4.columns) - 1:\n",
        "        new_col.append(\"target\")\n",
        "    else :\n",
        "        new_col.append(\"feature_\" + str(i+1))\n",
        "       \n",
        "    i += 1\n",
        "   \n",
        "df4.columns = new_col\n",
        "\n",
        "\n",
        "df4.head()"
      ]
    },
    {
      "cell_type": "code",
      "execution_count": 27,
      "id": "fdf51472",
      "metadata": {},
      "outputs": [],
      "source": [
        "df4_outlier= generate_outliers(df4,['feature_1'], percentage = muchos_outliers, extreme_outlier = False, two_tailed= True)"
      ]
    },
    {
      "cell_type": "code",
      "execution_count": 28,
      "id": "9a4c3366",
      "metadata": {},
      "outputs": [
        {
          "name": "stdout",
          "output_type": "stream",
          "text": [
            "Huber coefficients [12.75003406  0.19506016 -2.63178296 62.22141557  3.41937288 67.58548131\n",
            "  0.52059336  7.4143636   3.85104027]\n"
          ]
        }
      ],
      "source": [
        "from sklearn.linear_model import LinearRegression, HuberRegressor, ElasticNet\n",
        "from sklearn.metrics import r2_score\n",
        "\n",
        "#Comparar con distintos niveles y outliers de la regresión\n",
        "\n",
        "#Split the data into training(0.8) /testing sets (0.2)\n",
        "X_1_train= df1_outlier.iloc[:80,:-2] \n",
        "X_1_test = df1_outlier.iloc[80:,:-2]\n",
        "\n",
        "#Split the targets into train/testing sets\n",
        "y_1_train = df1_outlier.iloc[:80, -1]\n",
        "y_1_test = df1_outlier.iloc[80:, -1]\n",
        "\n",
        "#Create linear regression objet\n",
        "linear_regression = LinearRegression()\n",
        "\n",
        "#Train the model using the training sets\n",
        "linear_regression.fit(X_1_train, y_1_train)\n",
        "\n",
        "#Make predictions using the testing test\n",
        "y1_pred_lr = linear_regression.predict(X_1_test)\n",
        "\n",
        "#The mean squared error\n",
        "y1_lr_mse = mean_squared_error(y_1_test, y1_pred_lr)\n",
        "y1_lr_r2_score = r2_score(y_1_test, y1_pred_lr)\n",
        "metric1_lr=[y1_lr_mse, y1_lr_r2_score]\n",
        "\n",
        "#Create Hubert regressor object\n",
        "huber = HuberRegressor()\n",
        "huber.fit(X_1_train, y_1_train)\n",
        "\n",
        "#Make predictios using the testing test\n",
        "y1_pred_hb = huber.predict(X_1_test)\n",
        "print(\"Huber coefficients\", huber.coef_)\n",
        "\n",
        "#Metrics for Huber regressor\n",
        "y1_hb_mse = mean_squared_error(y_1_test, y1_pred_hb)\n",
        "y1_hb_r2_score = r2_score(y_1_test, y1_pred_hb)\n",
        "metric1_hb = [y1_hb_mse, y1_hb_r2_score]\n",
        "\n",
        "#Create Elastinet regressor objet\n",
        "alpha = 0.1\n",
        "enet = ElasticNet(alpha = alpha, l1_ratio = 0.7)\n",
        "enet.fit(X_1_train, y_1_train)\n",
        "y1_pred_enet = enet.predict(X_1_test)\n",
        "\n",
        "#Metrics for elastic net\n",
        "y1_enet_mse = mean_squared_error(y_1_test, y1_pred_enet)\n",
        "y1_enet_r2_score = r2_score(y_1_test, y1_pred_enet)\n",
        "metric1_enet = [y1_enet_mse, y1_enet_r2_score]\n"
      ]
    },
    {
      "cell_type": "code",
      "execution_count": 29,
      "id": "41fa2d43",
      "metadata": {},
      "outputs": [
        {
          "name": "stdout",
          "output_type": "stream",
          "text": [
            "Huber coefficients [12.75003406  0.19506016 -2.63178296 62.22141557  3.41937288 67.58548131\n",
            "  0.52059336  7.4143636   3.85104027]\n"
          ]
        }
      ],
      "source": [
        "\n",
        "#Split the data into training(0.8) /testing sets (0.2)\n",
        "X_2_train= df2_outlier.iloc[:80,:-2] \n",
        "X_2_test = df2_outlier.iloc[80:,:-2]\n",
        "\n",
        "#Split the targets into train/testing sets\n",
        "y_2_train = df2_outlier.iloc[:80, -1]\n",
        "y_2_test = df2_outlier.iloc[80:, -1]\n",
        "\n",
        "#Create linear regression objet\n",
        "linear_regression_2 = LinearRegression()\n",
        "\n",
        "#Train the model using the training sets\n",
        "linear_regression_2.fit(X_2_train, y_2_train)\n",
        "\n",
        "#Make predictions using the testing test\n",
        "y2_pred = linear_regression.predict(X_2_test)\n",
        "\n",
        "#Metrics for linear regression\n",
        "y2_lr_mse = mean_squared_error(y_2_test, y2_pred)\n",
        "y2_lr_r2_score = r2_score(y_2_test, y2_pred)\n",
        "metric2_lr = [y2_lr_mse, y2_lr_r2_score]\n",
        "\n",
        "#Create Hubert regressor object\n",
        "huber_2 = HuberRegressor()\n",
        "huber_2.fit(X_2_train, y_2_train)\n",
        "\n",
        "#Make predictios using the testing test\n",
        "y2_pred_hb = huber.predict(X_2_test)\n",
        "print(\"Huber coefficients\", huber.coef_)\n",
        "\n",
        "#Metrics for Hubber regressor\n",
        "y2_hb_mse = mean_squared_error(y_2_test, y2_pred_hb)\n",
        "y2_hb_r2_score = r2_score(y_2_test, y2_pred_hb)\n",
        "metric2_hb = [y2_hb_mse, y2_hb_r2_score]\n",
        "\n",
        "#Create Elastinet regressor objet\n",
        "alpha = 0.1\n",
        "enet = ElasticNet(alpha = alpha, l1_ratio = 0.7)\n",
        "enet.fit(X_2_train, y_2_train)\n",
        "y2_pred_enet = enet.predict(X_2_test)\n",
        "\n",
        "#Metrics for elastic net\n",
        "y2_enet_mse = mean_squared_error(y_2_test, y2_pred_enet)\n",
        "y2_r2_score_enet = r2_score(y_2_test, y2_pred_enet)\n",
        "metric2_enet = [y2_enet_mse, y2_r2_score_enet]\n"
      ]
    },
    {
      "cell_type": "code",
      "execution_count": 30,
      "id": "9d4c8b20",
      "metadata": {},
      "outputs": [
        {
          "name": "stdout",
          "output_type": "stream",
          "text": [
            "Huber coefficients [12.75003406  0.19506016 -2.63178296 62.22141557  3.41937288 67.58548131\n",
            "  0.52059336  7.4143636   3.85104027]\n"
          ]
        }
      ],
      "source": [
        "\n",
        "#Split the data into training(0.8) /testing sets (0.2)\n",
        "X_3_train= df3_outlier.iloc[:80,:-2] \n",
        "X_3_test = df3_outlier.iloc[80:,:-2]\n",
        "\n",
        "#Split the targets into train/testing sets\n",
        "y_3_train = df3_outlier.iloc[:80, -1]\n",
        "y_3_test = df3_outlier .iloc[80:, -1]\n",
        "\n",
        "#Create linear regression objet\n",
        "linear_regression_3 = LinearRegression()\n",
        "\n",
        "#Train the model using the training sets\n",
        "linear_regression_3.fit(X_3_train, y_3_train)\n",
        "\n",
        "#Make predictions using the testing test\n",
        "y3_pred = linear_regression.predict(X_3_test)\n",
        "\n",
        "#Metrics for linear regression\n",
        "y3_lr_mse = mean_squared_error(y_3_test, y3_pred)\n",
        "y3_lr_r2_score = r2_score(y_3_test, y3_pred)\n",
        "metric3_lr = [y3_lr_mse, y3_lr_r2_score]\n",
        "\n",
        "#Create Hubert regressor object\n",
        "huber_3 = HuberRegressor()\n",
        "huber_3.fit(X_3_train, y_3_train)\n",
        "\n",
        "#Make predictios using the testing test\n",
        "y3_pred_hb = huber.predict(X_3_test)\n",
        "print(\"Huber coefficients\", huber.coef_)\n",
        "\n",
        "#Metrics for Huber regressor\n",
        "y3_hb_mse = mean_squared_error(y_3_test, y3_pred_hb)\n",
        "y3_hb_r2_score = r2_score(y_3_test, y3_pred_hb)\n",
        "metric3_hb = [y3_hb_mse, y3_hb_r2_score]\n",
        "\n",
        "#Create Elastinet regressor objet\n",
        "alpha = 0.1\n",
        "enet_3 = ElasticNet(alpha = alpha, l1_ratio = 0.7)\n",
        "enet_3.fit(X_3_train, y_3_train)\n",
        "\n",
        "y3_pred_enet = enet_3.predict(X_3_test)\n",
        "\n",
        "#Metrics for elastic net regressor\n",
        "y3_enet_mse = mean_squared_error(y_3_test, y3_pred_enet)\n",
        "y3_enet_r2_score = r2_score(y_3_test, y3_pred_enet)\n",
        "metric3_enet  = [y3_enet_mse, y3_enet_r2_score]"
      ]
    },
    {
      "cell_type": "code",
      "execution_count": 31,
      "id": "c470feeb",
      "metadata": {},
      "outputs": [
        {
          "name": "stdout",
          "output_type": "stream",
          "text": [
            "Huber coefficients [12.75003406  0.19506016 -2.63178296 62.22141557  3.41937288 67.58548131\n",
            "  0.52059336  7.4143636   3.85104027]\n"
          ]
        }
      ],
      "source": [
        "\n",
        "#Split the data into training(0.8) /testing sets (0.2)\n",
        "X_4_train= df4_outlier.iloc[:80,:-2] \n",
        "X_4_test = df4_outlier.iloc[80:,:-2]\n",
        "\n",
        "#Split the targets into train/testing sets\n",
        "y_4_train = df4_outlier.iloc[:80, -1]\n",
        "y_4_test = df4_outlier.iloc[80:, -1]\n",
        "\n",
        "#Create linear regression objet\n",
        "linear_regression_4 = LinearRegression()\n",
        "\n",
        "#Train the model using the training sets\n",
        "linear_regression_4.fit(X_4_train, y_4_train)\n",
        "\n",
        "#Make predictions using the testing test\n",
        "y4_pred = linear_regression.predict(X_4_test)\n",
        "\n",
        "#The mean squared error\n",
        "y4_lr_mse = mean_squared_error(y_4_test, y4_pred)\n",
        "y4_lr_r2_score = r2_score(y_4_test, y4_pred)\n",
        "metric4_lr = [y4_lr_mse, y4_lr_r2_score]\n",
        "\n",
        "#Create Hubert regressor object\n",
        "huber_4 = HuberRegressor()\n",
        "huber_4.fit(X_4_train, y_4_train)\n",
        "\n",
        "#Make predictios using the testing test\n",
        "y4_pred_hb = huber.predict(X_4_test)\n",
        "print(\"Huber coefficients\", huber.coef_)\n",
        "\n",
        "#Metrics for Hubbert regresor\n",
        "y4_hb_mse = mean_squared_error(y_4_test, y4_pred_hb)\n",
        "y4_hb_r2_score = r2_score(y_4_test, y4_pred_hb)\n",
        "metric4_hb = [y4_hb_mse, y4_hb_r2_score]\n",
        "\n",
        "#Create Elastinet regressor objet\n",
        "alpha = 0.1\n",
        "enet_4 = ElasticNet(alpha = alpha, l1_ratio = 0.7)\n",
        "enet_4.fit(X_4_train, y_4_train)\n",
        "\n",
        "y4_pred_enet = enet_4.predict(X_4_test)\n",
        "\n",
        "#Metrics for elastic net regressor\n",
        "y4_enet_mse = mean_squared_error(y_4_test, y4_pred_enet)\n",
        "y4_r2_score_enet = r2_score(y_4_test, y4_pred_enet)\n",
        "metric4_enet = [y4_enet_mse, y4_r2_score_enet]"
      ]
    },
    {
      "attachments": {},
      "cell_type": "markdown",
      "id": "ea85fc6d",
      "metadata": {},
      "source": [
        "<h1> Metrics <h1>"
      ]
    },
    {
      "attachments": {},
      "cell_type": "markdown",
      "id": "b8494669",
      "metadata": {},
      "source": [
        "<h3> Linear regression <h3>"
      ]
    },
    {
      "cell_type": "code",
      "execution_count": 32,
      "id": "435aeeff",
      "metadata": {},
      "outputs": [
        {
          "name": "stdout",
          "output_type": "stream",
          "text": [
            "Medición del mse y r2 score para los diferentes datasets en la regresión lineal:\n"
          ]
        },
        {
          "data": {
            "text/plain": [
              "([801.3468484986023, 0.9003468879048887],\n",
              " [44862.75947572802, 0.1674153844119054],\n",
              " [44931.828421765116, 0.16613356977193683],\n",
              " [44770.24143103943, 0.1691323786755704])"
            ]
          },
          "execution_count": 32,
          "metadata": {},
          "output_type": "execute_result"
        }
      ],
      "source": [
        "print(\"Medición del mse y r2 score para los diferentes datasets en la regresión lineal:\")\n",
        "metric1_lr, metric2_lr, metric3_lr, metric4_lr"
      ]
    },
    {
      "attachments": {},
      "cell_type": "markdown",
      "id": "a5ce3ad8",
      "metadata": {},
      "source": [
        "<h3> Hubert <h3>"
      ]
    },
    {
      "cell_type": "code",
      "execution_count": 33,
      "id": "9f1b9c64",
      "metadata": {},
      "outputs": [
        {
          "name": "stdout",
          "output_type": "stream",
          "text": [
            "Medición del mse y r2 score para los diferentes datasets empleando el regresor de Hubbert:\n"
          ]
        },
        {
          "data": {
            "text/plain": [
              "([867.8514965627965, 0.8920765675550875],\n",
              " [45462.94878091709, 0.15627678331423356],\n",
              " [45531.08097063701, 0.15501235344745667],\n",
              " [45371.31203080296, 0.15797742209033894])"
            ]
          },
          "execution_count": 33,
          "metadata": {},
          "output_type": "execute_result"
        }
      ],
      "source": [
        "print(\"Medición del mse y r2 score para los diferentes datasets empleando el regresor de Hubbert:\")\n",
        "metric1_hb, metric2_hb, metric3_hb, metric4_hb\n"
      ]
    },
    {
      "attachments": {},
      "cell_type": "markdown",
      "id": "5f9adc71",
      "metadata": {},
      "source": [
        "<h3> Elastic Net <h3>"
      ]
    },
    {
      "cell_type": "code",
      "execution_count": 34,
      "id": "e0e615e7",
      "metadata": {},
      "outputs": [
        {
          "name": "stdout",
          "output_type": "stream",
          "text": [
            "Medición del mse y r2 score para los diferentes datasets empleando el regresor de Elastic Net:\n"
          ]
        },
        {
          "data": {
            "text/plain": [
              "([877.4150729238933, 0.8908872696263215],\n",
              " [49746.343037542465, 0.07678349751904867],\n",
              " [47888.176442763644, 0.11126824473682895],\n",
              " [48921.75195070815, 0.09208665454889542])"
            ]
          },
          "execution_count": 34,
          "metadata": {},
          "output_type": "execute_result"
        }
      ],
      "source": [
        "print(\"Medición del mse y r2 score para los diferentes datasets empleando el regresor de Elastic Net:\")\n",
        "metric1_enet, metric2_enet, metric3_enet, metric4_enet"
      ]
    },
    {
      "attachments": {},
      "cell_type": "markdown",
      "id": "394a8f71",
      "metadata": {},
      "source": [
        "<h2> Ploteo de los datasets<h2>"
      ]
    },
    {
      "cell_type": "code",
      "execution_count": 35,
      "id": "8fa255d8",
      "metadata": {},
      "outputs": [
        {
          "data": {
            "text/plain": [
              "<seaborn.axisgrid.FacetGrid at 0x7f9aa91448e0>"
            ]
          },
          "execution_count": 35,
          "metadata": {},
          "output_type": "execute_result"
        },
        {
          "data": {
            "image/png": "[encoded data removed]",
            "text/plain": [
              "<Figure size 580x500 with 1 Axes>"
            ]
          },
          "metadata": {},
          "output_type": "display_data"
        }
      ],
      "source": [
        "sns.lmplot(data = pd.concat([df1_outlier.assign(dataset = 'set1'),\n",
        "                                 df2_outlier.assign(dataset = 'set2'), df3_outlier.assign(dataset= \"set3\"), df4_outlier.assign(dataset=\"set4\")]),\n",
        "                x = 'feature_1',\n",
        "                y = 'target',\n",
        "                hue = 'dataset')"
      ]
    },
    {
      "cell_type": "markdown",
      "id": "ee6d1602",
      "metadata": {},
      "source": [
        "## Tercera Parte (Clase 5, 6 y 7)"
      ]
    },
    {
      "cell_type": "markdown",
      "id": "ce61f3a7",
      "metadata": {},
      "source": [
        "La ultima parte la van a poder encontrar en el archivo `template_tp_integrador_tercera_parte.ipynb`"
      ]
    }
  ],
  "metadata": {
    "colab": {
      "collapsed_sections": [],
      "name": "Practica_clase_3.ipynb",
      "provenance": []
    },
    "kernelspec": {
      "display_name": ".venv",
      "language": "python",
      "name": "python3"
    },
    "language_info": {
      "codemirror_mode": {
        "name": "ipython",
        "version": 3
      },
      "file_extension": ".py",
      "mimetype": "text/x-python",
      "name": "python",
      "nbconvert_exporter": "python",
      "pygments_lexer": "ipython3",
      "version": "3.10.6"
    },
    "vscode": {
      "interpreter": {
        "hash": "ee261a9f2aeeb600dd315aa4d450b6bdd38c436c8b7b639b6f5c11ef9f457262"
      }
    }
  },
  "nbformat": 4,
  "nbformat_minor": 5
}
